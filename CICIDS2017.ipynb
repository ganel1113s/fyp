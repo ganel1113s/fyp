{
  "nbformat": 4,
  "nbformat_minor": 0,
  "metadata": {
    "colab": {
      "provenance": [],
      "toc_visible": true,
      "machine_shape": "hm",
      "mount_file_id": "1MMRSbGRTDmP0AtNdUVMrkk1gFyGw7tAe",
      "authorship_tag": "ABX9TyPaQBGqT8Cle3MFg2uB/JnQ",
      "include_colab_link": true
    },
    "kernelspec": {
      "name": "python3",
      "display_name": "Python 3"
    },
    "language_info": {
      "name": "python"
    }
  },
  "cells": [
    {
      "cell_type": "markdown",
      "metadata": {
        "id": "view-in-github",
        "colab_type": "text"
      },
      "source": [
        "<a href=\"https://colab.research.google.com/github/ganel1113s/fyp/blob/main/CICIDS2017.ipynb\" target=\"_parent\"><img src=\"https://colab.research.google.com/assets/colab-badge.svg\" alt=\"Open In Colab\"/></a>"
      ]
    },
    {
      "cell_type": "code",
      "execution_count": 1,
      "metadata": {
        "id": "M0xbwxbtRdST",
        "colab": {
          "base_uri": "https://localhost:8080/"
        },
        "outputId": "dc9de155-8cf0-4682-969e-82106f3226db"
      },
      "outputs": [
        {
          "output_type": "stream",
          "name": "stdout",
          "text": [
            "\u001b[2K   \u001b[90m━━━━━━━━━━━━━━━━━━━━━━━━━━━━━━━━━━━━━━━━\u001b[0m \u001b[32m65.1/65.1 MB\u001b[0m \u001b[31m22.8 MB/s\u001b[0m eta \u001b[36m0:00:00\u001b[0m\n",
            "\u001b[2K   \u001b[90m━━━━━━━━━━━━━━━━━━━━━━━━━━━━━━━━━━━━━━━━\u001b[0m \u001b[32m3.9/3.9 MB\u001b[0m \u001b[31m61.8 MB/s\u001b[0m eta \u001b[36m0:00:00\u001b[0m\n",
            "\u001b[2K   \u001b[90m━━━━━━━━━━━━━━━━━━━━━━━━━━━━━━━━━━━━━━━━\u001b[0m \u001b[32m480.6/480.6 kB\u001b[0m \u001b[31m29.7 MB/s\u001b[0m eta \u001b[36m0:00:00\u001b[0m\n",
            "\u001b[2K   \u001b[90m━━━━━━━━━━━━━━━━━━━━━━━━━━━━━━━━━━━━━━━━\u001b[0m \u001b[32m179.3/179.3 kB\u001b[0m \u001b[31m15.0 MB/s\u001b[0m eta \u001b[36m0:00:00\u001b[0m\n",
            "\u001b[2K   \u001b[90m━━━━━━━━━━━━━━━━━━━━━━━━━━━━━━━━━━━━━━━━\u001b[0m \u001b[32m5.6/5.6 MB\u001b[0m \u001b[31m82.3 MB/s\u001b[0m eta \u001b[36m0:00:00\u001b[0m\n",
            "\u001b[2K   \u001b[90m━━━━━━━━━━━━━━━━━━━━━━━━━━━━━━━━━━━━━━━━\u001b[0m \u001b[32m2.3/2.3 MB\u001b[0m \u001b[31m66.4 MB/s\u001b[0m eta \u001b[36m0:00:00\u001b[0m\n",
            "\u001b[2K   \u001b[90m━━━━━━━━━━━━━━━━━━━━━━━━━━━━━━━━━━━━━━━━\u001b[0m \u001b[32m47.3/47.3 kB\u001b[0m \u001b[31m3.3 MB/s\u001b[0m eta \u001b[36m0:00:00\u001b[0m\n",
            "\u001b[2K   \u001b[90m━━━━━━━━━━━━━━━━━━━━━━━━━━━━━━━━━━━━━━━━\u001b[0m \u001b[32m523.6/523.6 kB\u001b[0m \u001b[31m39.1 MB/s\u001b[0m eta \u001b[36m0:00:00\u001b[0m\n",
            "\u001b[2K   \u001b[90m━━━━━━━━━━━━━━━━━━━━━━━━━━━━━━━━━━━━━━━━\u001b[0m \u001b[32m87.0/87.0 kB\u001b[0m \u001b[31m7.0 MB/s\u001b[0m eta \u001b[36m0:00:00\u001b[0m\n",
            "\u001b[2K   \u001b[90m━━━━━━━━━━━━━━━━━━━━━━━━━━━━━━━━━━━━━━━━\u001b[0m \u001b[32m116.3/116.3 kB\u001b[0m \u001b[31m8.7 MB/s\u001b[0m eta \u001b[36m0:00:00\u001b[0m\n",
            "\u001b[2K   \u001b[90m━━━━━━━━━━━━━━━━━━━━━━━━━━━━━━━━━━━━━━━━\u001b[0m \u001b[32m134.8/134.8 kB\u001b[0m \u001b[31m10.7 MB/s\u001b[0m eta \u001b[36m0:00:00\u001b[0m\n",
            "\u001b[2K   \u001b[90m━━━━━━━━━━━━━━━━━━━━━━━━━━━━━━━━━━━━━━━━\u001b[0m \u001b[32m194.1/194.1 kB\u001b[0m \u001b[31m18.0 MB/s\u001b[0m eta \u001b[36m0:00:00\u001b[0m\n",
            "\u001b[?25h\u001b[31mERROR: pip's dependency resolver does not currently take into account all the packages that are installed. This behaviour is the source of the following dependency conflicts.\n",
            "gcsfs 2024.10.0 requires fsspec==2024.10.0, but you have fsspec 2024.9.0 which is incompatible.\u001b[0m\u001b[31m\n",
            "\u001b[0m"
          ]
        }
      ],
      "source": [
        "!pip install -q flwr[simulation] flwr-datasets[vision] torch torchvision matplotlib"
      ]
    },
    {
      "cell_type": "code",
      "source": [
        "!pip install -q fsspec==2024.10.1"
      ],
      "metadata": {
        "colab": {
          "base_uri": "https://localhost:8080/"
        },
        "id": "qTZqwJE5UAE8",
        "outputId": "c0ee57ea-31fe-4d92-abcc-814f7a354e71"
      },
      "execution_count": 2,
      "outputs": [
        {
          "output_type": "stream",
          "name": "stdout",
          "text": [
            "\u001b[31mERROR: Ignored the following yanked versions: 2022.8.0, 2022.8.1\u001b[0m\u001b[31m\n",
            "\u001b[0m\u001b[31mERROR: Could not find a version that satisfies the requirement fsspec==2024.10.1 (from versions: 0.1.0, 0.1.1, 0.1.2, 0.1.3, 0.1.4, 0.2.0, 0.2.1, 0.2.2, 0.2.3, 0.3.0, 0.3.1, 0.3.2, 0.3.3, 0.3.4, 0.3.5, 0.3.6, 0.4.0, 0.4.1, 0.4.2, 0.4.3, 0.4.4, 0.4.5, 0.5.1, 0.5.2, 0.6.0, 0.6.1, 0.6.2, 0.6.3, 0.7.0, 0.7.1, 0.7.2, 0.7.3, 0.7.4, 0.8.0, 0.8.1, 0.8.2, 0.8.3, 0.8.4, 0.8.5, 0.8.6, 0.8.7, 0.9.0, 2021.4.0, 2021.5.0, 2021.6.0, 2021.6.1, 2021.7.0, 2021.8.1, 2021.9.0, 2021.10.0, 2021.10.1, 2021.11.0, 2021.11.1, 2022.1.0, 2022.2.0, 2022.3.0, 2022.5.0, 2022.7.0, 2022.7.1, 2022.8.2, 2022.10.0, 2022.11.0, 2023.1.0, 2023.3.0, 2023.4.0, 2023.5.0, 2023.6.0, 2023.9.0, 2023.9.1, 2023.9.2, 2023.10.0, 2023.12.0, 2023.12.1, 2023.12.2, 2024.2.0, 2024.3.0, 2024.3.1, 2024.5.0, 2024.6.0, 2024.6.1, 2024.9.0, 2024.10.0, 2024.12.0)\u001b[0m\u001b[31m\n",
            "\u001b[0m\u001b[31mERROR: No matching distribution found for fsspec==2024.10.1\u001b[0m\u001b[31m\n",
            "\u001b[0m"
          ]
        }
      ]
    },
    {
      "cell_type": "code",
      "source": [
        "import flwr"
      ],
      "metadata": {
        "id": "5Od3OV0fUIxR"
      },
      "execution_count": 3,
      "outputs": []
    },
    {
      "cell_type": "code",
      "source": [
        "import zipfile\n",
        "import os\n",
        "\n",
        "from collections import OrderedDict\n",
        "from typing import List, Tuple\n",
        "\n",
        "import matplotlib.pyplot as plt\n",
        "import numpy as np\n",
        "import torch\n",
        "import torch.nn as nn\n",
        "import torch.nn.functional as F\n",
        "import torchvision.transforms as transforms\n",
        "from datasets.utils.logging import disable_progress_bar\n",
        "from torch.utils.data import DataLoader,Dataset\n",
        "\n",
        "from flwr.client import Client, ClientApp, NumPyClient\n",
        "from flwr.server import ServerApp, ServerConfig, ServerAppComponents\n",
        "from flwr.server.strategy import FedAvg, FedAdagrad\n",
        "from flwr.simulation import run_simulation,start_simulation\n",
        "from flwr_datasets import FederatedDataset\n",
        "from flwr.common import ndarrays_to_parameters, NDArrays, Scalar, Context,Metrics\n",
        "\n",
        "import pandas as pd\n",
        "\n",
        "DEVICE = torch.device(\"cuda\")  # Try \"cuda\" to train on GPU\n",
        "print(f\"Training on {DEVICE}\")\n",
        "print(f\"Flower {flwr.__version__} / PyTorch {torch.__version__}\")\n",
        "disable_progress_bar()"
      ],
      "metadata": {
        "colab": {
          "base_uri": "https://localhost:8080/"
        },
        "id": "YV5SkUJ8UTqO",
        "outputId": "cdd1c88a-478e-4746-ca8d-03cb26e20a6a"
      },
      "execution_count": 4,
      "outputs": [
        {
          "output_type": "stream",
          "name": "stderr",
          "text": [
            "/usr/local/lib/python3.10/dist-packages/ipykernel/ipkernel.py:283: DeprecationWarning: `should_run_async` will not call `transform_cell` automatically in the future. Please pass the result to `transformed_cell` argument and any exception that happen during thetransform in `preprocessing_exc_tuple` in IPython 7.17 and above.\n",
            "  and should_run_async(code)\n"
          ]
        },
        {
          "output_type": "stream",
          "name": "stdout",
          "text": [
            "Training on cuda\n",
            "Flower 1.14.0 / PyTorch 2.5.1+cu121\n"
          ]
        }
      ]
    },
    {
      "cell_type": "code",
      "source": [
        "data_path = r'/content/drive/MyDrive/FYP/CIC-DDoS-2017'"
      ],
      "metadata": {
        "id": "wPZ9SDKSUYf2",
        "colab": {
          "base_uri": "https://localhost:8080/"
        },
        "outputId": "890b3db6-5ab0-48a8-e1e9-2a40dc0ecc9c"
      },
      "execution_count": 5,
      "outputs": [
        {
          "output_type": "stream",
          "name": "stderr",
          "text": [
            "/usr/local/lib/python3.10/dist-packages/ipykernel/ipkernel.py:283: DeprecationWarning: `should_run_async` will not call `transform_cell` automatically in the future. Please pass the result to `transformed_cell` argument and any exception that happen during thetransform in `preprocessing_exc_tuple` in IPython 7.17 and above.\n",
            "  and should_run_async(code)\n"
          ]
        }
      ]
    },
    {
      "cell_type": "markdown",
      "source": [
        "## **Dataset partition**"
      ],
      "metadata": {
        "id": "pVnavepeFkQR"
      }
    },
    {
      "cell_type": "markdown",
      "source": [
        "1. To compare with N-BaIoT for unsupervised autoencoder:  \n",
        "Keep the chronological splitting  \n",
        "Introduce non-IID by splitting by different folders --> collected at different time and with different attack types  \n",
        "Balance normal and attack data in each client, check for data imbalance across clients  \n",
        "2. To implement a tree-based FL and feature extraction carried by each local client  \n",
        "Random sampling without considering chronological dependency"
      ],
      "metadata": {
        "id": "-3iddQpkFkWR"
      }
    },
    {
      "cell_type": "code",
      "source": [
        "data = []\n",
        "for i, filename in enumerate(os.listdir(data_path)):\n",
        "    if filename.endswith(\".csv\"):\n",
        "      print(filename)\n",
        "      # Read the CSV file\n",
        "      file_path = os.path.join(data_path, filename)\n",
        "      df = pd.read_csv(file_path)\n",
        "      print(df[' Label'].value_counts())\n"
      ],
      "metadata": {
        "colab": {
          "base_uri": "https://localhost:8080/"
        },
        "id": "8s-iEhXgjb2N",
        "outputId": "00f879c5-24ce-4f01-b3b1-afea5a95487e"
      },
      "execution_count": null,
      "outputs": [
        {
          "output_type": "stream",
          "name": "stdout",
          "text": [
            "Friday-WorkingHours-Afternoon-DDos.pcap_ISCX.csv\n",
            " Label\n",
            "DDoS      128027\n",
            "BENIGN     97718\n",
            "Name: count, dtype: int64\n",
            "Friday-WorkingHours-Morning.pcap_ISCX.csv\n",
            " Label\n",
            "BENIGN    189067\n",
            "Bot         1966\n",
            "Name: count, dtype: int64\n",
            "Friday-WorkingHours-Afternoon-PortScan.pcap_ISCX.csv\n",
            " Label\n",
            "PortScan    158930\n",
            "BENIGN      127537\n",
            "Name: count, dtype: int64\n",
            "Monday-WorkingHours.pcap_ISCX.csv\n",
            " Label\n",
            "BENIGN    529918\n",
            "Name: count, dtype: int64\n",
            "Thursday-WorkingHours-Afternoon-Infilteration.pcap_ISCX.csv\n",
            " Label\n",
            "BENIGN          288566\n",
            "Infiltration        36\n",
            "Name: count, dtype: int64\n",
            "Thursday-WorkingHours-Morning-WebAttacks.pcap_ISCX.csv\n",
            " Label\n",
            "BENIGN                        168186\n",
            "Web Attack � Brute Force        1507\n",
            "Web Attack � XSS                 652\n",
            "Web Attack � Sql Injection        21\n",
            "Name: count, dtype: int64\n",
            "Tuesday-WorkingHours.pcap_ISCX.csv\n",
            " Label\n",
            "BENIGN         432074\n",
            "FTP-Patator      7938\n",
            "SSH-Patator      5897\n",
            "Name: count, dtype: int64\n",
            "Wednesday-workingHours.pcap_ISCX.csv\n",
            " Label\n",
            "BENIGN              440031\n",
            "DoS Hulk            231073\n",
            "DoS GoldenEye        10293\n",
            "DoS slowloris         5796\n",
            "DoS Slowhttptest      5499\n",
            "Heartbleed              11\n",
            "Name: count, dtype: int64\n"
          ]
        }
      ]
    },
    {
      "cell_type": "code",
      "source": [
        "data"
      ],
      "metadata": {
        "colab": {
          "base_uri": "https://localhost:8080/"
        },
        "id": "Wi_lD7xzo5c8",
        "outputId": "99278f01-3c77-4367-aa19-23d3c13bc62b"
      },
      "execution_count": null,
      "outputs": [
        {
          "output_type": "stream",
          "name": "stderr",
          "text": [
            "/usr/local/lib/python3.10/dist-packages/ipykernel/ipkernel.py:283: DeprecationWarning: `should_run_async` will not call `transform_cell` automatically in the future. Please pass the result to `transformed_cell` argument and any exception that happen during thetransform in `preprocessing_exc_tuple` in IPython 7.17 and above.\n",
            "  and should_run_async(code)\n"
          ]
        },
        {
          "output_type": "execute_result",
          "data": {
            "text/plain": [
              "[]"
            ]
          },
          "metadata": {},
          "execution_count": 8
        }
      ]
    },
    {
      "cell_type": "code",
      "source": [
        "data = []\n",
        "for i, filename in enumerate(os.listdir(data_path)):\n",
        "    if filename.endswith(\".csv\"):\n",
        "        # Read the CSV file\n",
        "        file_path = os.path.join(data_path, filename)\n",
        "        df = pd.read_csv(file_path)\n",
        "        # Remove nan and inf values\n",
        "        df = df.dropna()\n",
        "        df = df[~np.isinf(df[df.columns[:-1]]).any(axis=1)]\n",
        "        df = df.rename(columns={' Label': 'Label'})\n",
        "        print(df['Label'].unique())\n",
        "\n",
        "        # Append to the list of DataFrames\n",
        "        data.append(df)\n",
        "\n",
        "# Concatenate all DataFrames\n",
        "dataframe = pd.concat(data, ignore_index=True)"
      ],
      "metadata": {
        "id": "RkCyYSLKpHW7",
        "colab": {
          "base_uri": "https://localhost:8080/"
        },
        "outputId": "6c574850-5c69-492a-f05b-b4f839c5974f"
      },
      "execution_count": 6,
      "outputs": [
        {
          "output_type": "stream",
          "name": "stdout",
          "text": [
            "['BENIGN' 'DDoS']\n",
            "['BENIGN' 'Bot']\n",
            "['BENIGN' 'PortScan']\n",
            "['BENIGN']\n",
            "['BENIGN' 'Infiltration']\n",
            "['BENIGN' 'Web Attack � Brute Force' 'Web Attack � XSS'\n",
            " 'Web Attack � Sql Injection']\n",
            "['BENIGN' 'FTP-Patator' 'SSH-Patator']\n",
            "['BENIGN' 'DoS slowloris' 'DoS Slowhttptest' 'DoS Hulk' 'DoS GoldenEye'\n",
            " 'Heartbleed']\n"
          ]
        }
      ]
    },
    {
      "cell_type": "code",
      "source": [
        " dataframe.to_parquet('CICIDS2017.parquet',engine = 'pyarrow')"
      ],
      "metadata": {
        "id": "OZ3_yA5uh1hC"
      },
      "execution_count": 7,
      "outputs": []
    },
    {
      "cell_type": "markdown",
      "source": [
        "### **Group the dataset**\n",
        " According to https://doi.org/10.1007/s10922-024-09874-0"
      ],
      "metadata": {
        "id": "k0pqpnQhrZuj"
      }
    },
    {
      "cell_type": "code",
      "source": [
        "def replace_labels(value):\n",
        "    if 'DoS' in value or 'Heartbleed' in value:\n",
        "        return 'DoS'\n",
        "    elif 'Patator' in value:\n",
        "        return 'Bruteforce'\n",
        "    elif 'Web' in value:\n",
        "        return 'Web attack'\n",
        "    return value"
      ],
      "metadata": {
        "colab": {
          "base_uri": "https://localhost:8080/"
        },
        "id": "xSuCPfWCrfG0",
        "outputId": "23667ca2-a6ff-435f-c501-3ea6663e5318"
      },
      "execution_count": 7,
      "outputs": [
        {
          "output_type": "stream",
          "name": "stderr",
          "text": [
            "/usr/local/lib/python3.10/dist-packages/ipykernel/ipkernel.py:283: DeprecationWarning: `should_run_async` will not call `transform_cell` automatically in the future. Please pass the result to `transformed_cell` argument and any exception that happen during thetransform in `preprocessing_exc_tuple` in IPython 7.17 and above.\n",
            "  and should_run_async(code)\n"
          ]
        }
      ]
    },
    {
      "cell_type": "code",
      "source": [
        "dataframe['Label'] = dataframe['Label'].apply(replace_labels)"
      ],
      "metadata": {
        "id": "5QIPsB7Lrn2e"
      },
      "execution_count": 8,
      "outputs": []
    },
    {
      "cell_type": "code",
      "source": [
        "dataframe.Label.unique()"
      ],
      "metadata": {
        "colab": {
          "base_uri": "https://localhost:8080/"
        },
        "id": "Gly3TWNssWcH",
        "outputId": "5cc8ff1f-32be-4cc3-939f-f603b8792e0b"
      },
      "execution_count": 15,
      "outputs": [
        {
          "output_type": "execute_result",
          "data": {
            "text/plain": [
              "array(['BENIGN', 'DoS', 'Bot', 'PortScan', 'Infiltration', 'Web attack',\n",
              "       'Bruteforce'], dtype=object)"
            ]
          },
          "metadata": {},
          "execution_count": 15
        }
      ]
    },
    {
      "cell_type": "code",
      "source": [
        "for label in dataframe.Label.unique():\n",
        "  print(f'{label}:{len(dataframe[dataframe.Label == label])}')"
      ],
      "metadata": {
        "colab": {
          "base_uri": "https://localhost:8080/"
        },
        "id": "SJiVdGc2skuN",
        "outputId": "ed94ffc9-06ab-491b-9215-56f8b75c4d61"
      },
      "execution_count": 16,
      "outputs": [
        {
          "output_type": "stream",
          "name": "stderr",
          "text": [
            "/usr/local/lib/python3.10/dist-packages/ipykernel/ipkernel.py:283: DeprecationWarning: `should_run_async` will not call `transform_cell` automatically in the future. Please pass the result to `transformed_cell` argument and any exception that happen during thetransform in `preprocessing_exc_tuple` in IPython 7.17 and above.\n",
            "  and should_run_async(code)\n"
          ]
        },
        {
          "output_type": "stream",
          "name": "stdout",
          "text": [
            "BENIGN:2271320\n",
            "DoS:379748\n",
            "Bot:1956\n",
            "PortScan:158804\n",
            "Infiltration:36\n",
            "Web attack:2180\n",
            "Bruteforce:13832\n"
          ]
        }
      ]
    },
    {
      "cell_type": "markdown",
      "source": [
        "Number of majority samples = Sum of Bot, PortScan, Infiltratioin, Web attack, Bruteforce * 4 = 707232"
      ],
      "metadata": {
        "id": "H2IkN-0iu7eJ"
      }
    },
    {
      "cell_type": "markdown",
      "source": [
        "Benign:DoS = 6:1 <br>\n",
        "Benign = 707232 * 6/7 = 606199 <br>\n",
        "DoS = 707232 * 1/7 = 101033"
      ],
      "metadata": {
        "id": "zk2gP-EawAxn"
      }
    },
    {
      "cell_type": "code",
      "source": [
        "# Predefined number of rows to undersample to\n",
        "undersample_count = {'BENIGN':606199,'DoS':101033}\n",
        "\n",
        "# Specify the two majority classes to undersample\n",
        "majority_classes = ['BENIGN', 'DoS']\n",
        "\n",
        "# Undersample the majority classes\n",
        "dataframe_undersampled = []\n",
        "for cls in majority_classes:\n",
        "    sampled_df = dataframe[dataframe['Label'] == cls].sample(n=undersample_count[cls], random_state=42)\n",
        "    dataframe_undersampled.append(sampled_df)\n",
        "\n",
        "# Combine the undersampled majority classes with the other classes\n",
        "remaining_classes = dataframe[~dataframe['Label'].isin(majority_classes)]\n",
        "final_df = pd.concat(dataframe_undersampled + [remaining_classes], ignore_index=True)\n",
        "\n",
        "# Shuffle the resulting DataFrame\n",
        "final_df = final_df.sample(frac=1, random_state=42).reset_index(drop=True)\n",
        "\n",
        "# Display the resulting DataFrame\n",
        "print(final_df['Label'].value_counts())\n"
      ],
      "metadata": {
        "colab": {
          "base_uri": "https://localhost:8080/"
        },
        "id": "7CyYI7RCv_2_",
        "outputId": "5a84bf10-a632-418c-9f1b-7f5b520f7099"
      },
      "execution_count": 9,
      "outputs": [
        {
          "output_type": "stream",
          "name": "stdout",
          "text": [
            "Label\n",
            "BENIGN          606199\n",
            "PortScan        158804\n",
            "DoS             101033\n",
            "Bruteforce       13832\n",
            "Web attack        2180\n",
            "Bot               1956\n",
            "Infiltration        36\n",
            "Name: count, dtype: int64\n"
          ]
        }
      ]
    },
    {
      "cell_type": "code",
      "source": [
        "final_df.columns = [i.strip() for i in list(dataframe.columns)]"
      ],
      "metadata": {
        "id": "fpId0Hk9bdgT"
      },
      "execution_count": 12,
      "outputs": []
    },
    {
      "cell_type": "code",
      "source": [
        "undersample_size = 300000\n",
        "\n",
        "# Calculate the number of samples per class to maintain distribution\n",
        "class_distribution = final_df['Label'].value_counts(normalize=True)  # Get the class proportions\n",
        "samples_per_class = (class_distribution * undersample_size).round().astype(int)  # Calculate samples per class\n",
        "\n",
        "# Perform undersampling\n",
        "undersampled_dfs = []\n",
        "for label, n_samples in samples_per_class.items():\n",
        "    sampled_df = final_df[final_df['Label'] == label].sample(n=n_samples, random_state=42)  # Random sampling for each class\n",
        "    undersampled_dfs.append(sampled_df)\n",
        "\n",
        "# Combine undersampled classes into a new DataFrame\n",
        "undersampled_df = pd.concat(undersampled_dfs, ignore_index=True)\n",
        "\n",
        "# Display class distribution of the undersampled DataFrame\n",
        "print(\"Original distribution:\")\n",
        "print(final_df['Label'].value_counts(normalize=True))\n",
        "print(\"\\nUndersampled distribution:\")\n",
        "print(undersampled_df['Label'].value_counts(normalize=True))"
      ],
      "metadata": {
        "colab": {
          "base_uri": "https://localhost:8080/"
        },
        "id": "pMW1_FHviPaw",
        "outputId": "d58745f2-68f1-45ac-8441-d67e178166ce"
      },
      "execution_count": 42,
      "outputs": [
        {
          "output_type": "stream",
          "name": "stdout",
          "text": [
            "Original distribution:\n",
            "Label\n",
            "BENIGN          0.685714\n",
            "PortScan        0.179634\n",
            "DoS             0.114286\n",
            "Bruteforce      0.015646\n",
            "Web attack      0.002466\n",
            "Bot             0.002213\n",
            "Infiltration    0.000041\n",
            "Name: proportion, dtype: float64\n",
            "\n",
            "Undersampled distribution:\n",
            "Label\n",
            "BENIGN          0.685713\n",
            "PortScan        0.179633\n",
            "DoS             0.114287\n",
            "Bruteforce      0.015647\n",
            "Web attack      0.002467\n",
            "Bot             0.002213\n",
            "Infiltration    0.000040\n",
            "Name: proportion, dtype: float64\n"
          ]
        }
      ]
    },
    {
      "cell_type": "code",
      "source": [
        "undersampled_df.loc[undersampled_df['Label'] == 'Infiltration']"
      ],
      "metadata": {
        "colab": {
          "base_uri": "https://localhost:8080/",
          "height": 561
        },
        "id": "yUzH93nwi9BF",
        "outputId": "1fa1d1e3-ce83-4295-9102-172ac0b7c0e4"
      },
      "execution_count": 44,
      "outputs": [
        {
          "output_type": "stream",
          "name": "stderr",
          "text": [
            "/usr/local/lib/python3.10/dist-packages/ipykernel/ipkernel.py:283: DeprecationWarning: `should_run_async` will not call `transform_cell` automatically in the future. Please pass the result to `transformed_cell` argument and any exception that happen during thetransform in `preprocessing_exc_tuple` in IPython 7.17 and above.\n",
            "  and should_run_async(code)\n"
          ]
        },
        {
          "output_type": "execute_result",
          "data": {
            "text/plain": [
              "        Destination Port  Flow Duration  Total Fwd Packets  \\\n",
              "299988               444       69714525                 20   \n",
              "299989               444      118573317               3733   \n",
              "299990               444       86726608               1775   \n",
              "299991               444      119974830               3398   \n",
              "299992               444       48450959                  7   \n",
              "299993               444       67917167                 20   \n",
              "299994               444       99912925                 26   \n",
              "299995               444      119973135               4376   \n",
              "299996               444       24006815                 35   \n",
              "299997               444             20                  2   \n",
              "299998               444       42664070                  5   \n",
              "299999               444        5005212                 15   \n",
              "\n",
              "        Total Backward Packets  Total Length of Fwd Packets  \\\n",
              "299988                      20                         3737   \n",
              "299989                    3732                      1827335   \n",
              "299990                    1775                       785275   \n",
              "299991                    3398                      1645814   \n",
              "299992                       8                         1959   \n",
              "299993                      20                         3738   \n",
              "299994                      26                         6674   \n",
              "299995                    4374                      2321478   \n",
              "299996                      35                        13418   \n",
              "299997                       0                           12   \n",
              "299998                       6                          141   \n",
              "299999                      15                            0   \n",
              "\n",
              "        Total Length of Bwd Packets  Fwd Packet Length Max  \\\n",
              "299988                          120                    705   \n",
              "299989                        22392                   1271   \n",
              "299990                        10650                   1274   \n",
              "299991                        20643                   1153   \n",
              "299992                           48                    963   \n",
              "299993                          120                    705   \n",
              "299994                          156                   1164   \n",
              "299995                        26244                   1273   \n",
              "299996                          210                   1460   \n",
              "299997                            0                      6   \n",
              "299998                          291                     93   \n",
              "299999                           90                      0   \n",
              "\n",
              "        Fwd Packet Length Min  Fwd Packet Length Mean  Fwd Packet Length Std  \\\n",
              "299988                      6              186.850000             227.161032   \n",
              "299989                      6              489.508438             269.610304   \n",
              "299990                      6              442.408451             251.446955   \n",
              "299991                      0              484.347852             302.057454   \n",
              "299992                      6              279.857143             369.463317   \n",
              "299993                      6              186.900000             227.230210   \n",
              "299994                      6              256.692308             366.020521   \n",
              "299995                      6              530.502285             262.768815   \n",
              "299996                      6              383.371429             499.569408   \n",
              "299997                      6                6.000000               0.000000   \n",
              "299998                      0               28.200000              38.861292   \n",
              "299999                      0                0.000000               0.000000   \n",
              "\n",
              "        ...   Active Mean    Active Std  Active Max  Active Min   Idle Mean  \\\n",
              "299988  ...  5.575790e+05  1.131371e+01      557587      557571  34000000.0   \n",
              "299989  ...  0.000000e+00  0.000000e+00           0           0         0.0   \n",
              "299990  ...  2.310000e+07  2.610000e+07    41600000     4649995  17400000.0   \n",
              "299991  ...  8.243630e+05  0.000000e+00      824363      824363   9785751.0   \n",
              "299992  ...  0.000000e+00  0.000000e+00           0           0         0.0   \n",
              "299993  ...  5.664775e+05  1.173161e+04      574773      558182  33100000.0   \n",
              "299994  ...  6.312257e+05  9.444297e+04      740279      576642  32500000.0   \n",
              "299995  ...  0.000000e+00  0.000000e+00           0           0         0.0   \n",
              "299996  ...  4.963369e+06  0.000000e+00     4963369     4963369  18500000.0   \n",
              "299997  ...  0.000000e+00  0.000000e+00           0           0         0.0   \n",
              "299998  ...  0.000000e+00  0.000000e+00           0           0         0.0   \n",
              "299999  ...  0.000000e+00  0.000000e+00           0           0         0.0   \n",
              "\n",
              "          Idle Std  Idle Max  Idle Min         Label  Label_Binary  \n",
              "299988  29700000.0  55000000  13000000  Infiltration          True  \n",
              "299989         0.0         0         0  Infiltration          True  \n",
              "299990  16200000.0  28800000   5953706  Infiltration          True  \n",
              "299991         0.0   9785751   9785751  Infiltration          True  \n",
              "299992         0.0         0         0  Infiltration          True  \n",
              "299993  30600000.0  54800000  11400000  Infiltration          True  \n",
              "299994  19500000.0  55000000  20900000  Infiltration          True  \n",
              "299995         0.0         0         0  Infiltration          True  \n",
              "299996         0.0  18500000  18500000  Infiltration          True  \n",
              "299997         0.0         0         0  Infiltration          True  \n",
              "299998         0.0         0         0  Infiltration          True  \n",
              "299999         0.0         0         0  Infiltration          True  \n",
              "\n",
              "[12 rows x 80 columns]"
            ],
            "text/html": [
              "\n",
              "  <div id=\"df-52c2afbf-d73b-4a8e-9669-252e951fa609\" class=\"colab-df-container\">\n",
              "    <div>\n",
              "<style scoped>\n",
              "    .dataframe tbody tr th:only-of-type {\n",
              "        vertical-align: middle;\n",
              "    }\n",
              "\n",
              "    .dataframe tbody tr th {\n",
              "        vertical-align: top;\n",
              "    }\n",
              "\n",
              "    .dataframe thead th {\n",
              "        text-align: right;\n",
              "    }\n",
              "</style>\n",
              "<table border=\"1\" class=\"dataframe\">\n",
              "  <thead>\n",
              "    <tr style=\"text-align: right;\">\n",
              "      <th></th>\n",
              "      <th>Destination Port</th>\n",
              "      <th>Flow Duration</th>\n",
              "      <th>Total Fwd Packets</th>\n",
              "      <th>Total Backward Packets</th>\n",
              "      <th>Total Length of Fwd Packets</th>\n",
              "      <th>Total Length of Bwd Packets</th>\n",
              "      <th>Fwd Packet Length Max</th>\n",
              "      <th>Fwd Packet Length Min</th>\n",
              "      <th>Fwd Packet Length Mean</th>\n",
              "      <th>Fwd Packet Length Std</th>\n",
              "      <th>...</th>\n",
              "      <th>Active Mean</th>\n",
              "      <th>Active Std</th>\n",
              "      <th>Active Max</th>\n",
              "      <th>Active Min</th>\n",
              "      <th>Idle Mean</th>\n",
              "      <th>Idle Std</th>\n",
              "      <th>Idle Max</th>\n",
              "      <th>Idle Min</th>\n",
              "      <th>Label</th>\n",
              "      <th>Label_Binary</th>\n",
              "    </tr>\n",
              "  </thead>\n",
              "  <tbody>\n",
              "    <tr>\n",
              "      <th>299988</th>\n",
              "      <td>444</td>\n",
              "      <td>69714525</td>\n",
              "      <td>20</td>\n",
              "      <td>20</td>\n",
              "      <td>3737</td>\n",
              "      <td>120</td>\n",
              "      <td>705</td>\n",
              "      <td>6</td>\n",
              "      <td>186.850000</td>\n",
              "      <td>227.161032</td>\n",
              "      <td>...</td>\n",
              "      <td>5.575790e+05</td>\n",
              "      <td>1.131371e+01</td>\n",
              "      <td>557587</td>\n",
              "      <td>557571</td>\n",
              "      <td>34000000.0</td>\n",
              "      <td>29700000.0</td>\n",
              "      <td>55000000</td>\n",
              "      <td>13000000</td>\n",
              "      <td>Infiltration</td>\n",
              "      <td>True</td>\n",
              "    </tr>\n",
              "    <tr>\n",
              "      <th>299989</th>\n",
              "      <td>444</td>\n",
              "      <td>118573317</td>\n",
              "      <td>3733</td>\n",
              "      <td>3732</td>\n",
              "      <td>1827335</td>\n",
              "      <td>22392</td>\n",
              "      <td>1271</td>\n",
              "      <td>6</td>\n",
              "      <td>489.508438</td>\n",
              "      <td>269.610304</td>\n",
              "      <td>...</td>\n",
              "      <td>0.000000e+00</td>\n",
              "      <td>0.000000e+00</td>\n",
              "      <td>0</td>\n",
              "      <td>0</td>\n",
              "      <td>0.0</td>\n",
              "      <td>0.0</td>\n",
              "      <td>0</td>\n",
              "      <td>0</td>\n",
              "      <td>Infiltration</td>\n",
              "      <td>True</td>\n",
              "    </tr>\n",
              "    <tr>\n",
              "      <th>299990</th>\n",
              "      <td>444</td>\n",
              "      <td>86726608</td>\n",
              "      <td>1775</td>\n",
              "      <td>1775</td>\n",
              "      <td>785275</td>\n",
              "      <td>10650</td>\n",
              "      <td>1274</td>\n",
              "      <td>6</td>\n",
              "      <td>442.408451</td>\n",
              "      <td>251.446955</td>\n",
              "      <td>...</td>\n",
              "      <td>2.310000e+07</td>\n",
              "      <td>2.610000e+07</td>\n",
              "      <td>41600000</td>\n",
              "      <td>4649995</td>\n",
              "      <td>17400000.0</td>\n",
              "      <td>16200000.0</td>\n",
              "      <td>28800000</td>\n",
              "      <td>5953706</td>\n",
              "      <td>Infiltration</td>\n",
              "      <td>True</td>\n",
              "    </tr>\n",
              "    <tr>\n",
              "      <th>299991</th>\n",
              "      <td>444</td>\n",
              "      <td>119974830</td>\n",
              "      <td>3398</td>\n",
              "      <td>3398</td>\n",
              "      <td>1645814</td>\n",
              "      <td>20643</td>\n",
              "      <td>1153</td>\n",
              "      <td>0</td>\n",
              "      <td>484.347852</td>\n",
              "      <td>302.057454</td>\n",
              "      <td>...</td>\n",
              "      <td>8.243630e+05</td>\n",
              "      <td>0.000000e+00</td>\n",
              "      <td>824363</td>\n",
              "      <td>824363</td>\n",
              "      <td>9785751.0</td>\n",
              "      <td>0.0</td>\n",
              "      <td>9785751</td>\n",
              "      <td>9785751</td>\n",
              "      <td>Infiltration</td>\n",
              "      <td>True</td>\n",
              "    </tr>\n",
              "    <tr>\n",
              "      <th>299992</th>\n",
              "      <td>444</td>\n",
              "      <td>48450959</td>\n",
              "      <td>7</td>\n",
              "      <td>8</td>\n",
              "      <td>1959</td>\n",
              "      <td>48</td>\n",
              "      <td>963</td>\n",
              "      <td>6</td>\n",
              "      <td>279.857143</td>\n",
              "      <td>369.463317</td>\n",
              "      <td>...</td>\n",
              "      <td>0.000000e+00</td>\n",
              "      <td>0.000000e+00</td>\n",
              "      <td>0</td>\n",
              "      <td>0</td>\n",
              "      <td>0.0</td>\n",
              "      <td>0.0</td>\n",
              "      <td>0</td>\n",
              "      <td>0</td>\n",
              "      <td>Infiltration</td>\n",
              "      <td>True</td>\n",
              "    </tr>\n",
              "    <tr>\n",
              "      <th>299993</th>\n",
              "      <td>444</td>\n",
              "      <td>67917167</td>\n",
              "      <td>20</td>\n",
              "      <td>20</td>\n",
              "      <td>3738</td>\n",
              "      <td>120</td>\n",
              "      <td>705</td>\n",
              "      <td>6</td>\n",
              "      <td>186.900000</td>\n",
              "      <td>227.230210</td>\n",
              "      <td>...</td>\n",
              "      <td>5.664775e+05</td>\n",
              "      <td>1.173161e+04</td>\n",
              "      <td>574773</td>\n",
              "      <td>558182</td>\n",
              "      <td>33100000.0</td>\n",
              "      <td>30600000.0</td>\n",
              "      <td>54800000</td>\n",
              "      <td>11400000</td>\n",
              "      <td>Infiltration</td>\n",
              "      <td>True</td>\n",
              "    </tr>\n",
              "    <tr>\n",
              "      <th>299994</th>\n",
              "      <td>444</td>\n",
              "      <td>99912925</td>\n",
              "      <td>26</td>\n",
              "      <td>26</td>\n",
              "      <td>6674</td>\n",
              "      <td>156</td>\n",
              "      <td>1164</td>\n",
              "      <td>6</td>\n",
              "      <td>256.692308</td>\n",
              "      <td>366.020521</td>\n",
              "      <td>...</td>\n",
              "      <td>6.312257e+05</td>\n",
              "      <td>9.444297e+04</td>\n",
              "      <td>740279</td>\n",
              "      <td>576642</td>\n",
              "      <td>32500000.0</td>\n",
              "      <td>19500000.0</td>\n",
              "      <td>55000000</td>\n",
              "      <td>20900000</td>\n",
              "      <td>Infiltration</td>\n",
              "      <td>True</td>\n",
              "    </tr>\n",
              "    <tr>\n",
              "      <th>299995</th>\n",
              "      <td>444</td>\n",
              "      <td>119973135</td>\n",
              "      <td>4376</td>\n",
              "      <td>4374</td>\n",
              "      <td>2321478</td>\n",
              "      <td>26244</td>\n",
              "      <td>1273</td>\n",
              "      <td>6</td>\n",
              "      <td>530.502285</td>\n",
              "      <td>262.768815</td>\n",
              "      <td>...</td>\n",
              "      <td>0.000000e+00</td>\n",
              "      <td>0.000000e+00</td>\n",
              "      <td>0</td>\n",
              "      <td>0</td>\n",
              "      <td>0.0</td>\n",
              "      <td>0.0</td>\n",
              "      <td>0</td>\n",
              "      <td>0</td>\n",
              "      <td>Infiltration</td>\n",
              "      <td>True</td>\n",
              "    </tr>\n",
              "    <tr>\n",
              "      <th>299996</th>\n",
              "      <td>444</td>\n",
              "      <td>24006815</td>\n",
              "      <td>35</td>\n",
              "      <td>35</td>\n",
              "      <td>13418</td>\n",
              "      <td>210</td>\n",
              "      <td>1460</td>\n",
              "      <td>6</td>\n",
              "      <td>383.371429</td>\n",
              "      <td>499.569408</td>\n",
              "      <td>...</td>\n",
              "      <td>4.963369e+06</td>\n",
              "      <td>0.000000e+00</td>\n",
              "      <td>4963369</td>\n",
              "      <td>4963369</td>\n",
              "      <td>18500000.0</td>\n",
              "      <td>0.0</td>\n",
              "      <td>18500000</td>\n",
              "      <td>18500000</td>\n",
              "      <td>Infiltration</td>\n",
              "      <td>True</td>\n",
              "    </tr>\n",
              "    <tr>\n",
              "      <th>299997</th>\n",
              "      <td>444</td>\n",
              "      <td>20</td>\n",
              "      <td>2</td>\n",
              "      <td>0</td>\n",
              "      <td>12</td>\n",
              "      <td>0</td>\n",
              "      <td>6</td>\n",
              "      <td>6</td>\n",
              "      <td>6.000000</td>\n",
              "      <td>0.000000</td>\n",
              "      <td>...</td>\n",
              "      <td>0.000000e+00</td>\n",
              "      <td>0.000000e+00</td>\n",
              "      <td>0</td>\n",
              "      <td>0</td>\n",
              "      <td>0.0</td>\n",
              "      <td>0.0</td>\n",
              "      <td>0</td>\n",
              "      <td>0</td>\n",
              "      <td>Infiltration</td>\n",
              "      <td>True</td>\n",
              "    </tr>\n",
              "    <tr>\n",
              "      <th>299998</th>\n",
              "      <td>444</td>\n",
              "      <td>42664070</td>\n",
              "      <td>5</td>\n",
              "      <td>6</td>\n",
              "      <td>141</td>\n",
              "      <td>291</td>\n",
              "      <td>93</td>\n",
              "      <td>0</td>\n",
              "      <td>28.200000</td>\n",
              "      <td>38.861292</td>\n",
              "      <td>...</td>\n",
              "      <td>0.000000e+00</td>\n",
              "      <td>0.000000e+00</td>\n",
              "      <td>0</td>\n",
              "      <td>0</td>\n",
              "      <td>0.0</td>\n",
              "      <td>0.0</td>\n",
              "      <td>0</td>\n",
              "      <td>0</td>\n",
              "      <td>Infiltration</td>\n",
              "      <td>True</td>\n",
              "    </tr>\n",
              "    <tr>\n",
              "      <th>299999</th>\n",
              "      <td>444</td>\n",
              "      <td>5005212</td>\n",
              "      <td>15</td>\n",
              "      <td>15</td>\n",
              "      <td>0</td>\n",
              "      <td>90</td>\n",
              "      <td>0</td>\n",
              "      <td>0</td>\n",
              "      <td>0.000000</td>\n",
              "      <td>0.000000</td>\n",
              "      <td>...</td>\n",
              "      <td>0.000000e+00</td>\n",
              "      <td>0.000000e+00</td>\n",
              "      <td>0</td>\n",
              "      <td>0</td>\n",
              "      <td>0.0</td>\n",
              "      <td>0.0</td>\n",
              "      <td>0</td>\n",
              "      <td>0</td>\n",
              "      <td>Infiltration</td>\n",
              "      <td>True</td>\n",
              "    </tr>\n",
              "  </tbody>\n",
              "</table>\n",
              "<p>12 rows × 80 columns</p>\n",
              "</div>\n",
              "    <div class=\"colab-df-buttons\">\n",
              "\n",
              "  <div class=\"colab-df-container\">\n",
              "    <button class=\"colab-df-convert\" onclick=\"convertToInteractive('df-52c2afbf-d73b-4a8e-9669-252e951fa609')\"\n",
              "            title=\"Convert this dataframe to an interactive table.\"\n",
              "            style=\"display:none;\">\n",
              "\n",
              "  <svg xmlns=\"http://www.w3.org/2000/svg\" height=\"24px\" viewBox=\"0 -960 960 960\">\n",
              "    <path d=\"M120-120v-720h720v720H120Zm60-500h600v-160H180v160Zm220 220h160v-160H400v160Zm0 220h160v-160H400v160ZM180-400h160v-160H180v160Zm440 0h160v-160H620v160ZM180-180h160v-160H180v160Zm440 0h160v-160H620v160Z\"/>\n",
              "  </svg>\n",
              "    </button>\n",
              "\n",
              "  <style>\n",
              "    .colab-df-container {\n",
              "      display:flex;\n",
              "      gap: 12px;\n",
              "    }\n",
              "\n",
              "    .colab-df-convert {\n",
              "      background-color: #E8F0FE;\n",
              "      border: none;\n",
              "      border-radius: 50%;\n",
              "      cursor: pointer;\n",
              "      display: none;\n",
              "      fill: #1967D2;\n",
              "      height: 32px;\n",
              "      padding: 0 0 0 0;\n",
              "      width: 32px;\n",
              "    }\n",
              "\n",
              "    .colab-df-convert:hover {\n",
              "      background-color: #E2EBFA;\n",
              "      box-shadow: 0px 1px 2px rgba(60, 64, 67, 0.3), 0px 1px 3px 1px rgba(60, 64, 67, 0.15);\n",
              "      fill: #174EA6;\n",
              "    }\n",
              "\n",
              "    .colab-df-buttons div {\n",
              "      margin-bottom: 4px;\n",
              "    }\n",
              "\n",
              "    [theme=dark] .colab-df-convert {\n",
              "      background-color: #3B4455;\n",
              "      fill: #D2E3FC;\n",
              "    }\n",
              "\n",
              "    [theme=dark] .colab-df-convert:hover {\n",
              "      background-color: #434B5C;\n",
              "      box-shadow: 0px 1px 3px 1px rgba(0, 0, 0, 0.15);\n",
              "      filter: drop-shadow(0px 1px 2px rgba(0, 0, 0, 0.3));\n",
              "      fill: #FFFFFF;\n",
              "    }\n",
              "  </style>\n",
              "\n",
              "    <script>\n",
              "      const buttonEl =\n",
              "        document.querySelector('#df-52c2afbf-d73b-4a8e-9669-252e951fa609 button.colab-df-convert');\n",
              "      buttonEl.style.display =\n",
              "        google.colab.kernel.accessAllowed ? 'block' : 'none';\n",
              "\n",
              "      async function convertToInteractive(key) {\n",
              "        const element = document.querySelector('#df-52c2afbf-d73b-4a8e-9669-252e951fa609');\n",
              "        const dataTable =\n",
              "          await google.colab.kernel.invokeFunction('convertToInteractive',\n",
              "                                                    [key], {});\n",
              "        if (!dataTable) return;\n",
              "\n",
              "        const docLinkHtml = 'Like what you see? Visit the ' +\n",
              "          '<a target=\"_blank\" href=https://colab.research.google.com/notebooks/data_table.ipynb>data table notebook</a>'\n",
              "          + ' to learn more about interactive tables.';\n",
              "        element.innerHTML = '';\n",
              "        dataTable['output_type'] = 'display_data';\n",
              "        await google.colab.output.renderOutput(dataTable, element);\n",
              "        const docLink = document.createElement('div');\n",
              "        docLink.innerHTML = docLinkHtml;\n",
              "        element.appendChild(docLink);\n",
              "      }\n",
              "    </script>\n",
              "  </div>\n",
              "\n",
              "\n",
              "<div id=\"df-470a024b-b8ad-4cbf-84fa-c02ebc5729ab\">\n",
              "  <button class=\"colab-df-quickchart\" onclick=\"quickchart('df-470a024b-b8ad-4cbf-84fa-c02ebc5729ab')\"\n",
              "            title=\"Suggest charts\"\n",
              "            style=\"display:none;\">\n",
              "\n",
              "<svg xmlns=\"http://www.w3.org/2000/svg\" height=\"24px\"viewBox=\"0 0 24 24\"\n",
              "     width=\"24px\">\n",
              "    <g>\n",
              "        <path d=\"M19 3H5c-1.1 0-2 .9-2 2v14c0 1.1.9 2 2 2h14c1.1 0 2-.9 2-2V5c0-1.1-.9-2-2-2zM9 17H7v-7h2v7zm4 0h-2V7h2v10zm4 0h-2v-4h2v4z\"/>\n",
              "    </g>\n",
              "</svg>\n",
              "  </button>\n",
              "\n",
              "<style>\n",
              "  .colab-df-quickchart {\n",
              "      --bg-color: #E8F0FE;\n",
              "      --fill-color: #1967D2;\n",
              "      --hover-bg-color: #E2EBFA;\n",
              "      --hover-fill-color: #174EA6;\n",
              "      --disabled-fill-color: #AAA;\n",
              "      --disabled-bg-color: #DDD;\n",
              "  }\n",
              "\n",
              "  [theme=dark] .colab-df-quickchart {\n",
              "      --bg-color: #3B4455;\n",
              "      --fill-color: #D2E3FC;\n",
              "      --hover-bg-color: #434B5C;\n",
              "      --hover-fill-color: #FFFFFF;\n",
              "      --disabled-bg-color: #3B4455;\n",
              "      --disabled-fill-color: #666;\n",
              "  }\n",
              "\n",
              "  .colab-df-quickchart {\n",
              "    background-color: var(--bg-color);\n",
              "    border: none;\n",
              "    border-radius: 50%;\n",
              "    cursor: pointer;\n",
              "    display: none;\n",
              "    fill: var(--fill-color);\n",
              "    height: 32px;\n",
              "    padding: 0;\n",
              "    width: 32px;\n",
              "  }\n",
              "\n",
              "  .colab-df-quickchart:hover {\n",
              "    background-color: var(--hover-bg-color);\n",
              "    box-shadow: 0 1px 2px rgba(60, 64, 67, 0.3), 0 1px 3px 1px rgba(60, 64, 67, 0.15);\n",
              "    fill: var(--button-hover-fill-color);\n",
              "  }\n",
              "\n",
              "  .colab-df-quickchart-complete:disabled,\n",
              "  .colab-df-quickchart-complete:disabled:hover {\n",
              "    background-color: var(--disabled-bg-color);\n",
              "    fill: var(--disabled-fill-color);\n",
              "    box-shadow: none;\n",
              "  }\n",
              "\n",
              "  .colab-df-spinner {\n",
              "    border: 2px solid var(--fill-color);\n",
              "    border-color: transparent;\n",
              "    border-bottom-color: var(--fill-color);\n",
              "    animation:\n",
              "      spin 1s steps(1) infinite;\n",
              "  }\n",
              "\n",
              "  @keyframes spin {\n",
              "    0% {\n",
              "      border-color: transparent;\n",
              "      border-bottom-color: var(--fill-color);\n",
              "      border-left-color: var(--fill-color);\n",
              "    }\n",
              "    20% {\n",
              "      border-color: transparent;\n",
              "      border-left-color: var(--fill-color);\n",
              "      border-top-color: var(--fill-color);\n",
              "    }\n",
              "    30% {\n",
              "      border-color: transparent;\n",
              "      border-left-color: var(--fill-color);\n",
              "      border-top-color: var(--fill-color);\n",
              "      border-right-color: var(--fill-color);\n",
              "    }\n",
              "    40% {\n",
              "      border-color: transparent;\n",
              "      border-right-color: var(--fill-color);\n",
              "      border-top-color: var(--fill-color);\n",
              "    }\n",
              "    60% {\n",
              "      border-color: transparent;\n",
              "      border-right-color: var(--fill-color);\n",
              "    }\n",
              "    80% {\n",
              "      border-color: transparent;\n",
              "      border-right-color: var(--fill-color);\n",
              "      border-bottom-color: var(--fill-color);\n",
              "    }\n",
              "    90% {\n",
              "      border-color: transparent;\n",
              "      border-bottom-color: var(--fill-color);\n",
              "    }\n",
              "  }\n",
              "</style>\n",
              "\n",
              "  <script>\n",
              "    async function quickchart(key) {\n",
              "      const quickchartButtonEl =\n",
              "        document.querySelector('#' + key + ' button');\n",
              "      quickchartButtonEl.disabled = true;  // To prevent multiple clicks.\n",
              "      quickchartButtonEl.classList.add('colab-df-spinner');\n",
              "      try {\n",
              "        const charts = await google.colab.kernel.invokeFunction(\n",
              "            'suggestCharts', [key], {});\n",
              "      } catch (error) {\n",
              "        console.error('Error during call to suggestCharts:', error);\n",
              "      }\n",
              "      quickchartButtonEl.classList.remove('colab-df-spinner');\n",
              "      quickchartButtonEl.classList.add('colab-df-quickchart-complete');\n",
              "    }\n",
              "    (() => {\n",
              "      let quickchartButtonEl =\n",
              "        document.querySelector('#df-470a024b-b8ad-4cbf-84fa-c02ebc5729ab button');\n",
              "      quickchartButtonEl.style.display =\n",
              "        google.colab.kernel.accessAllowed ? 'block' : 'none';\n",
              "    })();\n",
              "  </script>\n",
              "</div>\n",
              "\n",
              "    </div>\n",
              "  </div>\n"
            ],
            "application/vnd.google.colaboratory.intrinsic+json": {
              "type": "dataframe"
            }
          },
          "metadata": {},
          "execution_count": 44
        }
      ]
    },
    {
      "cell_type": "code",
      "source": [
        "final_df.to_parquet('CIC-DDOS-2017_reduced.parquet')"
      ],
      "metadata": {
        "id": "LaqA2PpduPLp"
      },
      "execution_count": 13,
      "outputs": []
    },
    {
      "cell_type": "code",
      "source": [
        "final_df = pd.read_parquet('CIC-DDOS-2017_reduced.parquet')"
      ],
      "metadata": {
        "id": "aq8jOd0DbxKV"
      },
      "execution_count": null,
      "outputs": []
    },
    {
      "cell_type": "code",
      "source": [
        "final_df.columns"
      ],
      "metadata": {
        "colab": {
          "base_uri": "https://localhost:8080/"
        },
        "id": "tSGbyuTybE6l",
        "outputId": "8c360cc6-33f8-46cf-cfb9-c76b7bb7b4c9"
      },
      "execution_count": 14,
      "outputs": [
        {
          "output_type": "execute_result",
          "data": {
            "text/plain": [
              "Index(['Destination Port', 'Flow Duration', 'Total Fwd Packets',\n",
              "       'Total Backward Packets', 'Total Length of Fwd Packets',\n",
              "       'Total Length of Bwd Packets', 'Fwd Packet Length Max',\n",
              "       'Fwd Packet Length Min', 'Fwd Packet Length Mean',\n",
              "       'Fwd Packet Length Std', 'Bwd Packet Length Max',\n",
              "       'Bwd Packet Length Min', 'Bwd Packet Length Mean',\n",
              "       'Bwd Packet Length Std', 'Flow Bytes/s', 'Flow Packets/s',\n",
              "       'Flow IAT Mean', 'Flow IAT Std', 'Flow IAT Max', 'Flow IAT Min',\n",
              "       'Fwd IAT Total', 'Fwd IAT Mean', 'Fwd IAT Std', 'Fwd IAT Max',\n",
              "       'Fwd IAT Min', 'Bwd IAT Total', 'Bwd IAT Mean', 'Bwd IAT Std',\n",
              "       'Bwd IAT Max', 'Bwd IAT Min', 'Fwd PSH Flags', 'Bwd PSH Flags',\n",
              "       'Fwd URG Flags', 'Bwd URG Flags', 'Fwd Header Length',\n",
              "       'Bwd Header Length', 'Fwd Packets/s', 'Bwd Packets/s',\n",
              "       'Min Packet Length', 'Max Packet Length', 'Packet Length Mean',\n",
              "       'Packet Length Std', 'Packet Length Variance', 'FIN Flag Count',\n",
              "       'SYN Flag Count', 'RST Flag Count', 'PSH Flag Count', 'ACK Flag Count',\n",
              "       'URG Flag Count', 'CWE Flag Count', 'ECE Flag Count', 'Down/Up Ratio',\n",
              "       'Average Packet Size', 'Avg Fwd Segment Size', 'Avg Bwd Segment Size',\n",
              "       'Fwd Header Length.1', 'Fwd Avg Bytes/Bulk', 'Fwd Avg Packets/Bulk',\n",
              "       'Fwd Avg Bulk Rate', 'Bwd Avg Bytes/Bulk', 'Bwd Avg Packets/Bulk',\n",
              "       'Bwd Avg Bulk Rate', 'Subflow Fwd Packets', 'Subflow Fwd Bytes',\n",
              "       'Subflow Bwd Packets', 'Subflow Bwd Bytes', 'Init_Win_bytes_forward',\n",
              "       'Init_Win_bytes_backward', 'act_data_pkt_fwd', 'min_seg_size_forward',\n",
              "       'Active Mean', 'Active Std', 'Active Max', 'Active Min', 'Idle Mean',\n",
              "       'Idle Std', 'Idle Max', 'Idle Min', 'Label'],\n",
              "      dtype='object')"
            ]
          },
          "metadata": {},
          "execution_count": 14
        }
      ]
    },
    {
      "cell_type": "code",
      "source": [
        "final_df['Label_Binary'] = final_df.apply(lambda row:row['Label'] != 'BENIGN', axis = 1)"
      ],
      "metadata": {
        "colab": {
          "base_uri": "https://localhost:8080/"
        },
        "id": "1KhV6yZHcDjg",
        "outputId": "03856f79-6b46-4e9d-9ce5-44edcbba52f6"
      },
      "execution_count": 15,
      "outputs": [
        {
          "output_type": "stream",
          "name": "stderr",
          "text": [
            "/usr/local/lib/python3.10/dist-packages/ipykernel/ipkernel.py:283: DeprecationWarning: `should_run_async` will not call `transform_cell` automatically in the future. Please pass the result to `transformed_cell` argument and any exception that happen during thetransform in `preprocessing_exc_tuple` in IPython 7.17 and above.\n",
            "  and should_run_async(code)\n"
          ]
        }
      ]
    },
    {
      "cell_type": "code",
      "source": [
        "final_df"
      ],
      "metadata": {
        "colab": {
          "base_uri": "https://localhost:8080/",
          "height": 530
        },
        "id": "XjWHctdOl5Pa",
        "outputId": "f8f6863d-7bb0-42c4-e7d7-7cafc49214df"
      },
      "execution_count": 16,
      "outputs": [
        {
          "output_type": "stream",
          "name": "stderr",
          "text": [
            "/usr/local/lib/python3.10/dist-packages/ipykernel/ipkernel.py:283: DeprecationWarning: `should_run_async` will not call `transform_cell` automatically in the future. Please pass the result to `transformed_cell` argument and any exception that happen during thetransform in `preprocessing_exc_tuple` in IPython 7.17 and above.\n",
            "  and should_run_async(code)\n"
          ]
        },
        {
          "output_type": "execute_result",
          "data": {
            "text/plain": [
              "        Destination Port  Flow Duration  Total Fwd Packets  \\\n",
              "0                     53            132                  2   \n",
              "1                   2865              4                  2   \n",
              "2                     53          38506                  2   \n",
              "3                  45682              3                  2   \n",
              "4                  49460           1259                  5   \n",
              "...                  ...            ...                ...   \n",
              "884035               443        3970955                  6   \n",
              "884036                53            261                  2   \n",
              "884037                53          48199                  4   \n",
              "884038                80       95675737                  4   \n",
              "884039             49235              7                  2   \n",
              "\n",
              "        Total Backward Packets  Total Length of Fwd Packets  \\\n",
              "0                            2                           64   \n",
              "1                            0                           12   \n",
              "2                            2                           96   \n",
              "3                            0                            0   \n",
              "4                            1                          438   \n",
              "...                        ...                          ...   \n",
              "884035                       7                         1057   \n",
              "884036                       2                           64   \n",
              "884037                       2                          180   \n",
              "884038                       5                          408   \n",
              "884039                       0                           37   \n",
              "\n",
              "        Total Length of Bwd Packets  Fwd Packet Length Max  \\\n",
              "0                                96                     32   \n",
              "1                                 0                      6   \n",
              "2                               344                     48   \n",
              "3                                 0                      0   \n",
              "4                                 6                    319   \n",
              "...                             ...                    ...   \n",
              "884035                          394                    517   \n",
              "884036                          120                     32   \n",
              "884037                          212                     45   \n",
              "884038                        11595                    402   \n",
              "884039                            0                     31   \n",
              "\n",
              "        Fwd Packet Length Min  Fwd Packet Length Mean  Fwd Packet Length Std  \\\n",
              "0                          32               32.000000               0.000000   \n",
              "1                           6                6.000000               0.000000   \n",
              "2                          48               48.000000               0.000000   \n",
              "3                           0                0.000000               0.000000   \n",
              "4                           6               87.600000             131.974619   \n",
              "...                       ...                     ...                    ...   \n",
              "884035                      0              176.166667             249.512658   \n",
              "884036                     32               32.000000               0.000000   \n",
              "884037                     45               45.000000               0.000000   \n",
              "884038                      0              102.000000             200.019999   \n",
              "884039                      6               18.500000              17.677670   \n",
              "\n",
              "        ...  Active Mean  Active Std  Active Max  Active Min   Idle Mean  \\\n",
              "0       ...          0.0         0.0           0           0         0.0   \n",
              "1       ...          0.0         0.0           0           0         0.0   \n",
              "2       ...          0.0         0.0           0           0         0.0   \n",
              "3       ...          0.0         0.0           0           0         0.0   \n",
              "4       ...          0.0         0.0           0           0         0.0   \n",
              "...     ...          ...         ...         ...         ...         ...   \n",
              "884035  ...          0.0         0.0           0           0         0.0   \n",
              "884036  ...          0.0         0.0           0           0         0.0   \n",
              "884037  ...          0.0         0.0           0           0         0.0   \n",
              "884038  ...          0.0         0.0           0           0  95500000.0   \n",
              "884039  ...          0.0         0.0           0           0         0.0   \n",
              "\n",
              "        Idle Std  Idle Max  Idle Min   Label  Label_Binary  \n",
              "0            0.0         0         0  BENIGN         False  \n",
              "1            0.0         0         0  BENIGN         False  \n",
              "2            0.0         0         0  BENIGN         False  \n",
              "3            0.0         0         0  BENIGN         False  \n",
              "4            0.0         0         0  BENIGN         False  \n",
              "...          ...       ...       ...     ...           ...  \n",
              "884035       0.0         0         0  BENIGN         False  \n",
              "884036       0.0         0         0  BENIGN         False  \n",
              "884037       0.0         0         0  BENIGN         False  \n",
              "884038       0.0  95500000  95500000     DoS          True  \n",
              "884039       0.0         0         0  BENIGN         False  \n",
              "\n",
              "[884040 rows x 80 columns]"
            ],
            "text/html": [
              "\n",
              "  <div id=\"df-5044f4c5-bfdb-4b50-8419-3afc155e9eff\" class=\"colab-df-container\">\n",
              "    <div>\n",
              "<style scoped>\n",
              "    .dataframe tbody tr th:only-of-type {\n",
              "        vertical-align: middle;\n",
              "    }\n",
              "\n",
              "    .dataframe tbody tr th {\n",
              "        vertical-align: top;\n",
              "    }\n",
              "\n",
              "    .dataframe thead th {\n",
              "        text-align: right;\n",
              "    }\n",
              "</style>\n",
              "<table border=\"1\" class=\"dataframe\">\n",
              "  <thead>\n",
              "    <tr style=\"text-align: right;\">\n",
              "      <th></th>\n",
              "      <th>Destination Port</th>\n",
              "      <th>Flow Duration</th>\n",
              "      <th>Total Fwd Packets</th>\n",
              "      <th>Total Backward Packets</th>\n",
              "      <th>Total Length of Fwd Packets</th>\n",
              "      <th>Total Length of Bwd Packets</th>\n",
              "      <th>Fwd Packet Length Max</th>\n",
              "      <th>Fwd Packet Length Min</th>\n",
              "      <th>Fwd Packet Length Mean</th>\n",
              "      <th>Fwd Packet Length Std</th>\n",
              "      <th>...</th>\n",
              "      <th>Active Mean</th>\n",
              "      <th>Active Std</th>\n",
              "      <th>Active Max</th>\n",
              "      <th>Active Min</th>\n",
              "      <th>Idle Mean</th>\n",
              "      <th>Idle Std</th>\n",
              "      <th>Idle Max</th>\n",
              "      <th>Idle Min</th>\n",
              "      <th>Label</th>\n",
              "      <th>Label_Binary</th>\n",
              "    </tr>\n",
              "  </thead>\n",
              "  <tbody>\n",
              "    <tr>\n",
              "      <th>0</th>\n",
              "      <td>53</td>\n",
              "      <td>132</td>\n",
              "      <td>2</td>\n",
              "      <td>2</td>\n",
              "      <td>64</td>\n",
              "      <td>96</td>\n",
              "      <td>32</td>\n",
              "      <td>32</td>\n",
              "      <td>32.000000</td>\n",
              "      <td>0.000000</td>\n",
              "      <td>...</td>\n",
              "      <td>0.0</td>\n",
              "      <td>0.0</td>\n",
              "      <td>0</td>\n",
              "      <td>0</td>\n",
              "      <td>0.0</td>\n",
              "      <td>0.0</td>\n",
              "      <td>0</td>\n",
              "      <td>0</td>\n",
              "      <td>BENIGN</td>\n",
              "      <td>False</td>\n",
              "    </tr>\n",
              "    <tr>\n",
              "      <th>1</th>\n",
              "      <td>2865</td>\n",
              "      <td>4</td>\n",
              "      <td>2</td>\n",
              "      <td>0</td>\n",
              "      <td>12</td>\n",
              "      <td>0</td>\n",
              "      <td>6</td>\n",
              "      <td>6</td>\n",
              "      <td>6.000000</td>\n",
              "      <td>0.000000</td>\n",
              "      <td>...</td>\n",
              "      <td>0.0</td>\n",
              "      <td>0.0</td>\n",
              "      <td>0</td>\n",
              "      <td>0</td>\n",
              "      <td>0.0</td>\n",
              "      <td>0.0</td>\n",
              "      <td>0</td>\n",
              "      <td>0</td>\n",
              "      <td>BENIGN</td>\n",
              "      <td>False</td>\n",
              "    </tr>\n",
              "    <tr>\n",
              "      <th>2</th>\n",
              "      <td>53</td>\n",
              "      <td>38506</td>\n",
              "      <td>2</td>\n",
              "      <td>2</td>\n",
              "      <td>96</td>\n",
              "      <td>344</td>\n",
              "      <td>48</td>\n",
              "      <td>48</td>\n",
              "      <td>48.000000</td>\n",
              "      <td>0.000000</td>\n",
              "      <td>...</td>\n",
              "      <td>0.0</td>\n",
              "      <td>0.0</td>\n",
              "      <td>0</td>\n",
              "      <td>0</td>\n",
              "      <td>0.0</td>\n",
              "      <td>0.0</td>\n",
              "      <td>0</td>\n",
              "      <td>0</td>\n",
              "      <td>BENIGN</td>\n",
              "      <td>False</td>\n",
              "    </tr>\n",
              "    <tr>\n",
              "      <th>3</th>\n",
              "      <td>45682</td>\n",
              "      <td>3</td>\n",
              "      <td>2</td>\n",
              "      <td>0</td>\n",
              "      <td>0</td>\n",
              "      <td>0</td>\n",
              "      <td>0</td>\n",
              "      <td>0</td>\n",
              "      <td>0.000000</td>\n",
              "      <td>0.000000</td>\n",
              "      <td>...</td>\n",
              "      <td>0.0</td>\n",
              "      <td>0.0</td>\n",
              "      <td>0</td>\n",
              "      <td>0</td>\n",
              "      <td>0.0</td>\n",
              "      <td>0.0</td>\n",
              "      <td>0</td>\n",
              "      <td>0</td>\n",
              "      <td>BENIGN</td>\n",
              "      <td>False</td>\n",
              "    </tr>\n",
              "    <tr>\n",
              "      <th>4</th>\n",
              "      <td>49460</td>\n",
              "      <td>1259</td>\n",
              "      <td>5</td>\n",
              "      <td>1</td>\n",
              "      <td>438</td>\n",
              "      <td>6</td>\n",
              "      <td>319</td>\n",
              "      <td>6</td>\n",
              "      <td>87.600000</td>\n",
              "      <td>131.974619</td>\n",
              "      <td>...</td>\n",
              "      <td>0.0</td>\n",
              "      <td>0.0</td>\n",
              "      <td>0</td>\n",
              "      <td>0</td>\n",
              "      <td>0.0</td>\n",
              "      <td>0.0</td>\n",
              "      <td>0</td>\n",
              "      <td>0</td>\n",
              "      <td>BENIGN</td>\n",
              "      <td>False</td>\n",
              "    </tr>\n",
              "    <tr>\n",
              "      <th>...</th>\n",
              "      <td>...</td>\n",
              "      <td>...</td>\n",
              "      <td>...</td>\n",
              "      <td>...</td>\n",
              "      <td>...</td>\n",
              "      <td>...</td>\n",
              "      <td>...</td>\n",
              "      <td>...</td>\n",
              "      <td>...</td>\n",
              "      <td>...</td>\n",
              "      <td>...</td>\n",
              "      <td>...</td>\n",
              "      <td>...</td>\n",
              "      <td>...</td>\n",
              "      <td>...</td>\n",
              "      <td>...</td>\n",
              "      <td>...</td>\n",
              "      <td>...</td>\n",
              "      <td>...</td>\n",
              "      <td>...</td>\n",
              "      <td>...</td>\n",
              "    </tr>\n",
              "    <tr>\n",
              "      <th>884035</th>\n",
              "      <td>443</td>\n",
              "      <td>3970955</td>\n",
              "      <td>6</td>\n",
              "      <td>7</td>\n",
              "      <td>1057</td>\n",
              "      <td>394</td>\n",
              "      <td>517</td>\n",
              "      <td>0</td>\n",
              "      <td>176.166667</td>\n",
              "      <td>249.512658</td>\n",
              "      <td>...</td>\n",
              "      <td>0.0</td>\n",
              "      <td>0.0</td>\n",
              "      <td>0</td>\n",
              "      <td>0</td>\n",
              "      <td>0.0</td>\n",
              "      <td>0.0</td>\n",
              "      <td>0</td>\n",
              "      <td>0</td>\n",
              "      <td>BENIGN</td>\n",
              "      <td>False</td>\n",
              "    </tr>\n",
              "    <tr>\n",
              "      <th>884036</th>\n",
              "      <td>53</td>\n",
              "      <td>261</td>\n",
              "      <td>2</td>\n",
              "      <td>2</td>\n",
              "      <td>64</td>\n",
              "      <td>120</td>\n",
              "      <td>32</td>\n",
              "      <td>32</td>\n",
              "      <td>32.000000</td>\n",
              "      <td>0.000000</td>\n",
              "      <td>...</td>\n",
              "      <td>0.0</td>\n",
              "      <td>0.0</td>\n",
              "      <td>0</td>\n",
              "      <td>0</td>\n",
              "      <td>0.0</td>\n",
              "      <td>0.0</td>\n",
              "      <td>0</td>\n",
              "      <td>0</td>\n",
              "      <td>BENIGN</td>\n",
              "      <td>False</td>\n",
              "    </tr>\n",
              "    <tr>\n",
              "      <th>884037</th>\n",
              "      <td>53</td>\n",
              "      <td>48199</td>\n",
              "      <td>4</td>\n",
              "      <td>2</td>\n",
              "      <td>180</td>\n",
              "      <td>212</td>\n",
              "      <td>45</td>\n",
              "      <td>45</td>\n",
              "      <td>45.000000</td>\n",
              "      <td>0.000000</td>\n",
              "      <td>...</td>\n",
              "      <td>0.0</td>\n",
              "      <td>0.0</td>\n",
              "      <td>0</td>\n",
              "      <td>0</td>\n",
              "      <td>0.0</td>\n",
              "      <td>0.0</td>\n",
              "      <td>0</td>\n",
              "      <td>0</td>\n",
              "      <td>BENIGN</td>\n",
              "      <td>False</td>\n",
              "    </tr>\n",
              "    <tr>\n",
              "      <th>884038</th>\n",
              "      <td>80</td>\n",
              "      <td>95675737</td>\n",
              "      <td>4</td>\n",
              "      <td>5</td>\n",
              "      <td>408</td>\n",
              "      <td>11595</td>\n",
              "      <td>402</td>\n",
              "      <td>0</td>\n",
              "      <td>102.000000</td>\n",
              "      <td>200.019999</td>\n",
              "      <td>...</td>\n",
              "      <td>0.0</td>\n",
              "      <td>0.0</td>\n",
              "      <td>0</td>\n",
              "      <td>0</td>\n",
              "      <td>95500000.0</td>\n",
              "      <td>0.0</td>\n",
              "      <td>95500000</td>\n",
              "      <td>95500000</td>\n",
              "      <td>DoS</td>\n",
              "      <td>True</td>\n",
              "    </tr>\n",
              "    <tr>\n",
              "      <th>884039</th>\n",
              "      <td>49235</td>\n",
              "      <td>7</td>\n",
              "      <td>2</td>\n",
              "      <td>0</td>\n",
              "      <td>37</td>\n",
              "      <td>0</td>\n",
              "      <td>31</td>\n",
              "      <td>6</td>\n",
              "      <td>18.500000</td>\n",
              "      <td>17.677670</td>\n",
              "      <td>...</td>\n",
              "      <td>0.0</td>\n",
              "      <td>0.0</td>\n",
              "      <td>0</td>\n",
              "      <td>0</td>\n",
              "      <td>0.0</td>\n",
              "      <td>0.0</td>\n",
              "      <td>0</td>\n",
              "      <td>0</td>\n",
              "      <td>BENIGN</td>\n",
              "      <td>False</td>\n",
              "    </tr>\n",
              "  </tbody>\n",
              "</table>\n",
              "<p>884040 rows × 80 columns</p>\n",
              "</div>\n",
              "    <div class=\"colab-df-buttons\">\n",
              "\n",
              "  <div class=\"colab-df-container\">\n",
              "    <button class=\"colab-df-convert\" onclick=\"convertToInteractive('df-5044f4c5-bfdb-4b50-8419-3afc155e9eff')\"\n",
              "            title=\"Convert this dataframe to an interactive table.\"\n",
              "            style=\"display:none;\">\n",
              "\n",
              "  <svg xmlns=\"http://www.w3.org/2000/svg\" height=\"24px\" viewBox=\"0 -960 960 960\">\n",
              "    <path d=\"M120-120v-720h720v720H120Zm60-500h600v-160H180v160Zm220 220h160v-160H400v160Zm0 220h160v-160H400v160ZM180-400h160v-160H180v160Zm440 0h160v-160H620v160ZM180-180h160v-160H180v160Zm440 0h160v-160H620v160Z\"/>\n",
              "  </svg>\n",
              "    </button>\n",
              "\n",
              "  <style>\n",
              "    .colab-df-container {\n",
              "      display:flex;\n",
              "      gap: 12px;\n",
              "    }\n",
              "\n",
              "    .colab-df-convert {\n",
              "      background-color: #E8F0FE;\n",
              "      border: none;\n",
              "      border-radius: 50%;\n",
              "      cursor: pointer;\n",
              "      display: none;\n",
              "      fill: #1967D2;\n",
              "      height: 32px;\n",
              "      padding: 0 0 0 0;\n",
              "      width: 32px;\n",
              "    }\n",
              "\n",
              "    .colab-df-convert:hover {\n",
              "      background-color: #E2EBFA;\n",
              "      box-shadow: 0px 1px 2px rgba(60, 64, 67, 0.3), 0px 1px 3px 1px rgba(60, 64, 67, 0.15);\n",
              "      fill: #174EA6;\n",
              "    }\n",
              "\n",
              "    .colab-df-buttons div {\n",
              "      margin-bottom: 4px;\n",
              "    }\n",
              "\n",
              "    [theme=dark] .colab-df-convert {\n",
              "      background-color: #3B4455;\n",
              "      fill: #D2E3FC;\n",
              "    }\n",
              "\n",
              "    [theme=dark] .colab-df-convert:hover {\n",
              "      background-color: #434B5C;\n",
              "      box-shadow: 0px 1px 3px 1px rgba(0, 0, 0, 0.15);\n",
              "      filter: drop-shadow(0px 1px 2px rgba(0, 0, 0, 0.3));\n",
              "      fill: #FFFFFF;\n",
              "    }\n",
              "  </style>\n",
              "\n",
              "    <script>\n",
              "      const buttonEl =\n",
              "        document.querySelector('#df-5044f4c5-bfdb-4b50-8419-3afc155e9eff button.colab-df-convert');\n",
              "      buttonEl.style.display =\n",
              "        google.colab.kernel.accessAllowed ? 'block' : 'none';\n",
              "\n",
              "      async function convertToInteractive(key) {\n",
              "        const element = document.querySelector('#df-5044f4c5-bfdb-4b50-8419-3afc155e9eff');\n",
              "        const dataTable =\n",
              "          await google.colab.kernel.invokeFunction('convertToInteractive',\n",
              "                                                    [key], {});\n",
              "        if (!dataTable) return;\n",
              "\n",
              "        const docLinkHtml = 'Like what you see? Visit the ' +\n",
              "          '<a target=\"_blank\" href=https://colab.research.google.com/notebooks/data_table.ipynb>data table notebook</a>'\n",
              "          + ' to learn more about interactive tables.';\n",
              "        element.innerHTML = '';\n",
              "        dataTable['output_type'] = 'display_data';\n",
              "        await google.colab.output.renderOutput(dataTable, element);\n",
              "        const docLink = document.createElement('div');\n",
              "        docLink.innerHTML = docLinkHtml;\n",
              "        element.appendChild(docLink);\n",
              "      }\n",
              "    </script>\n",
              "  </div>\n",
              "\n",
              "\n",
              "<div id=\"df-8d2984ec-79de-47e7-851f-fecf298f6a20\">\n",
              "  <button class=\"colab-df-quickchart\" onclick=\"quickchart('df-8d2984ec-79de-47e7-851f-fecf298f6a20')\"\n",
              "            title=\"Suggest charts\"\n",
              "            style=\"display:none;\">\n",
              "\n",
              "<svg xmlns=\"http://www.w3.org/2000/svg\" height=\"24px\"viewBox=\"0 0 24 24\"\n",
              "     width=\"24px\">\n",
              "    <g>\n",
              "        <path d=\"M19 3H5c-1.1 0-2 .9-2 2v14c0 1.1.9 2 2 2h14c1.1 0 2-.9 2-2V5c0-1.1-.9-2-2-2zM9 17H7v-7h2v7zm4 0h-2V7h2v10zm4 0h-2v-4h2v4z\"/>\n",
              "    </g>\n",
              "</svg>\n",
              "  </button>\n",
              "\n",
              "<style>\n",
              "  .colab-df-quickchart {\n",
              "      --bg-color: #E8F0FE;\n",
              "      --fill-color: #1967D2;\n",
              "      --hover-bg-color: #E2EBFA;\n",
              "      --hover-fill-color: #174EA6;\n",
              "      --disabled-fill-color: #AAA;\n",
              "      --disabled-bg-color: #DDD;\n",
              "  }\n",
              "\n",
              "  [theme=dark] .colab-df-quickchart {\n",
              "      --bg-color: #3B4455;\n",
              "      --fill-color: #D2E3FC;\n",
              "      --hover-bg-color: #434B5C;\n",
              "      --hover-fill-color: #FFFFFF;\n",
              "      --disabled-bg-color: #3B4455;\n",
              "      --disabled-fill-color: #666;\n",
              "  }\n",
              "\n",
              "  .colab-df-quickchart {\n",
              "    background-color: var(--bg-color);\n",
              "    border: none;\n",
              "    border-radius: 50%;\n",
              "    cursor: pointer;\n",
              "    display: none;\n",
              "    fill: var(--fill-color);\n",
              "    height: 32px;\n",
              "    padding: 0;\n",
              "    width: 32px;\n",
              "  }\n",
              "\n",
              "  .colab-df-quickchart:hover {\n",
              "    background-color: var(--hover-bg-color);\n",
              "    box-shadow: 0 1px 2px rgba(60, 64, 67, 0.3), 0 1px 3px 1px rgba(60, 64, 67, 0.15);\n",
              "    fill: var(--button-hover-fill-color);\n",
              "  }\n",
              "\n",
              "  .colab-df-quickchart-complete:disabled,\n",
              "  .colab-df-quickchart-complete:disabled:hover {\n",
              "    background-color: var(--disabled-bg-color);\n",
              "    fill: var(--disabled-fill-color);\n",
              "    box-shadow: none;\n",
              "  }\n",
              "\n",
              "  .colab-df-spinner {\n",
              "    border: 2px solid var(--fill-color);\n",
              "    border-color: transparent;\n",
              "    border-bottom-color: var(--fill-color);\n",
              "    animation:\n",
              "      spin 1s steps(1) infinite;\n",
              "  }\n",
              "\n",
              "  @keyframes spin {\n",
              "    0% {\n",
              "      border-color: transparent;\n",
              "      border-bottom-color: var(--fill-color);\n",
              "      border-left-color: var(--fill-color);\n",
              "    }\n",
              "    20% {\n",
              "      border-color: transparent;\n",
              "      border-left-color: var(--fill-color);\n",
              "      border-top-color: var(--fill-color);\n",
              "    }\n",
              "    30% {\n",
              "      border-color: transparent;\n",
              "      border-left-color: var(--fill-color);\n",
              "      border-top-color: var(--fill-color);\n",
              "      border-right-color: var(--fill-color);\n",
              "    }\n",
              "    40% {\n",
              "      border-color: transparent;\n",
              "      border-right-color: var(--fill-color);\n",
              "      border-top-color: var(--fill-color);\n",
              "    }\n",
              "    60% {\n",
              "      border-color: transparent;\n",
              "      border-right-color: var(--fill-color);\n",
              "    }\n",
              "    80% {\n",
              "      border-color: transparent;\n",
              "      border-right-color: var(--fill-color);\n",
              "      border-bottom-color: var(--fill-color);\n",
              "    }\n",
              "    90% {\n",
              "      border-color: transparent;\n",
              "      border-bottom-color: var(--fill-color);\n",
              "    }\n",
              "  }\n",
              "</style>\n",
              "\n",
              "  <script>\n",
              "    async function quickchart(key) {\n",
              "      const quickchartButtonEl =\n",
              "        document.querySelector('#' + key + ' button');\n",
              "      quickchartButtonEl.disabled = true;  // To prevent multiple clicks.\n",
              "      quickchartButtonEl.classList.add('colab-df-spinner');\n",
              "      try {\n",
              "        const charts = await google.colab.kernel.invokeFunction(\n",
              "            'suggestCharts', [key], {});\n",
              "      } catch (error) {\n",
              "        console.error('Error during call to suggestCharts:', error);\n",
              "      }\n",
              "      quickchartButtonEl.classList.remove('colab-df-spinner');\n",
              "      quickchartButtonEl.classList.add('colab-df-quickchart-complete');\n",
              "    }\n",
              "    (() => {\n",
              "      let quickchartButtonEl =\n",
              "        document.querySelector('#df-8d2984ec-79de-47e7-851f-fecf298f6a20 button');\n",
              "      quickchartButtonEl.style.display =\n",
              "        google.colab.kernel.accessAllowed ? 'block' : 'none';\n",
              "    })();\n",
              "  </script>\n",
              "</div>\n",
              "\n",
              "  <div id=\"id_9382e9d9-4737-42d1-9930-4e1630f57529\">\n",
              "    <style>\n",
              "      .colab-df-generate {\n",
              "        background-color: #E8F0FE;\n",
              "        border: none;\n",
              "        border-radius: 50%;\n",
              "        cursor: pointer;\n",
              "        display: none;\n",
              "        fill: #1967D2;\n",
              "        height: 32px;\n",
              "        padding: 0 0 0 0;\n",
              "        width: 32px;\n",
              "      }\n",
              "\n",
              "      .colab-df-generate:hover {\n",
              "        background-color: #E2EBFA;\n",
              "        box-shadow: 0px 1px 2px rgba(60, 64, 67, 0.3), 0px 1px 3px 1px rgba(60, 64, 67, 0.15);\n",
              "        fill: #174EA6;\n",
              "      }\n",
              "\n",
              "      [theme=dark] .colab-df-generate {\n",
              "        background-color: #3B4455;\n",
              "        fill: #D2E3FC;\n",
              "      }\n",
              "\n",
              "      [theme=dark] .colab-df-generate:hover {\n",
              "        background-color: #434B5C;\n",
              "        box-shadow: 0px 1px 3px 1px rgba(0, 0, 0, 0.15);\n",
              "        filter: drop-shadow(0px 1px 2px rgba(0, 0, 0, 0.3));\n",
              "        fill: #FFFFFF;\n",
              "      }\n",
              "    </style>\n",
              "    <button class=\"colab-df-generate\" onclick=\"generateWithVariable('final_df')\"\n",
              "            title=\"Generate code using this dataframe.\"\n",
              "            style=\"display:none;\">\n",
              "\n",
              "  <svg xmlns=\"http://www.w3.org/2000/svg\" height=\"24px\"viewBox=\"0 0 24 24\"\n",
              "       width=\"24px\">\n",
              "    <path d=\"M7,19H8.4L18.45,9,17,7.55,7,17.6ZM5,21V16.75L18.45,3.32a2,2,0,0,1,2.83,0l1.4,1.43a1.91,1.91,0,0,1,.58,1.4,1.91,1.91,0,0,1-.58,1.4L9.25,21ZM18.45,9,17,7.55Zm-12,3A5.31,5.31,0,0,0,4.9,8.1,5.31,5.31,0,0,0,1,6.5,5.31,5.31,0,0,0,4.9,4.9,5.31,5.31,0,0,0,6.5,1,5.31,5.31,0,0,0,8.1,4.9,5.31,5.31,0,0,0,12,6.5,5.46,5.46,0,0,0,6.5,12Z\"/>\n",
              "  </svg>\n",
              "    </button>\n",
              "    <script>\n",
              "      (() => {\n",
              "      const buttonEl =\n",
              "        document.querySelector('#id_9382e9d9-4737-42d1-9930-4e1630f57529 button.colab-df-generate');\n",
              "      buttonEl.style.display =\n",
              "        google.colab.kernel.accessAllowed ? 'block' : 'none';\n",
              "\n",
              "      buttonEl.onclick = () => {\n",
              "        google.colab.notebook.generateWithVariable('final_df');\n",
              "      }\n",
              "      })();\n",
              "    </script>\n",
              "  </div>\n",
              "\n",
              "    </div>\n",
              "  </div>\n"
            ],
            "application/vnd.google.colaboratory.intrinsic+json": {
              "type": "dataframe",
              "variable_name": "final_df"
            }
          },
          "metadata": {},
          "execution_count": 16
        }
      ]
    },
    {
      "cell_type": "code",
      "source": [
        "from sklearn.preprocessing import MinMaxScaler\n",
        "from torch.utils.data import TensorDataset\n",
        "from sklearn.decomposition import PCA\n",
        "\n",
        "NUM_CLIENTS = 9\n",
        "BATCH_SIZE = 32\n",
        "ENABLE_PCA = False\n",
        "\n",
        "def load_datasets(dataset,model_type:str,partition_id: int,label_col_num:int):\n",
        "    partition = dataset.loc[dataset['Client_ID'] == partition_id]\n",
        "    feature_columns = partition.columns[:-label_col_num]\n",
        "    partition_train_test = {}\n",
        "    if model_type == 'Autoencoder':\n",
        "      # select normal data profile to train\n",
        "      partition_benign = partition.loc[partition['Label_Binary']==0]\n",
        "      #print(partition_benign.index)\n",
        "      partition_attack = partition.loc[partition['Label_Binary']==1]\n",
        "      print(len(partition_attack))\n",
        "      partition_train_test['train'] = partition_benign.iloc[:int(0.39*len(partition_benign))-1]\n",
        "      #print(partition_train_test['train'].index)\n",
        "      #print(int(0.39*len(partition_benign))-1)\n",
        "      partition_train_test['val'] = partition_benign.iloc[int(0.39*len(partition_benign)):int(0.78*len(partition_benign))]\n",
        "      #print(len(partition_train_test['val']))\n",
        "      #partition_train_test['test_benign'] = pd.concat([partition_benign.iloc[int(0.8*len(partition_benign)):],partition_attack.iloc[:len(partition_benign)]])\n",
        "      partition_train_test['test_benign'] = partition_benign.iloc[int(0.8*len(partition_benign)):]\n",
        "      #print(len(partition_train_test['test_benign']))\n",
        "      partition_train_test['test_attack'] = partition_attack.iloc[:len(partition_benign)]\n",
        "      #print(len(partition_train_test['test_attack']))\n",
        "    scaler = MinMaxScaler()\n",
        "    scaler.fit(partition_train_test['train'][feature_columns])\n",
        "    X_train = torch.tensor(scaler.transform(partition_train_test['train'][feature_columns]))\n",
        "    #print(f'train_max:{X_train.max()}')\n",
        "    y_train = torch.tensor(partition_train_test['train']['Label_Binary'].values)\n",
        "    if ENABLE_PCA:\n",
        "      pca = PCA(n_components=35)\n",
        "      X_train = torch.tensor(pca.fit_transform(X_train.numpy()))\n",
        "      '''\n",
        "      explained_variance = pca.explained_variance_ratio_\n",
        "      plt.figure(figsize=(10, 6))\n",
        "      plt.bar(range(1, 51), explained_variance, alpha=0.7, color='blue', align='center')\n",
        "      plt.xlabel('Principal Component')\n",
        "      plt.ylabel('Explained Variance Ratio')\n",
        "      plt.title('Explained Variance by Principal Component (Top 50)')\n",
        "      plt.xticks(range(1, 51))\n",
        "      plt.show()\n",
        "      '''\n",
        "\n",
        "    X_val = torch.tensor(scaler.transform(partition_train_test['val'][feature_columns]))\n",
        "    y_val = torch.tensor(partition_train_test['val']['Label_Binary'].values)\n",
        "    if ENABLE_PCA:\n",
        "      pca = PCA(n_components=35)\n",
        "      X_val = torch.tensor(pca.fit_transform(X_val.numpy()))\n",
        "    #print(f'val_max:{X_val.max()}')\n",
        "    X_test_benign = torch.tensor(scaler.transform(partition_train_test['test_benign'][feature_columns]))\n",
        "    y_test_benign = torch.tensor(partition_train_test['test_benign']['Label_Binary'].values)\n",
        "    if ENABLE_PCA:\n",
        "      pca = PCA(n_components=35)\n",
        "      X_test_benign = torch.tensor(pca.fit_transform(X_test_benign.numpy()))\n",
        "    #print(f'benign_max:{X_test_benign.max()}')\n",
        "    X_test_attack = torch.tensor(scaler.transform(partition_train_test['test_attack'][feature_columns]))\n",
        "    y_test_attack = torch.tensor(partition_train_test['test_attack']['Label_Binary'].values)\n",
        "    if ENABLE_PCA:\n",
        "      pca = PCA(n_components=35)\n",
        "      X_test_attack = torch.tensor(pca.fit_transform(X_test_attack.numpy()))\n",
        "    #print(f'attack_max:{X_test_attack.max()}')\n",
        "    train_dataset = TensorDataset(X_train, y_train)\n",
        "    val_dataset = TensorDataset(X_val, y_val)\n",
        "    test_benign_dataset = TensorDataset(X_test_benign, y_test_benign)\n",
        "    test_attack_dataset = TensorDataset(X_test_attack, y_test_attack)\n",
        "    trainloader = DataLoader(train_dataset, batch_size=BATCH_SIZE)\n",
        "    valloader = DataLoader(val_dataset, batch_size=BATCH_SIZE)\n",
        "    benign_testloader = DataLoader(test_benign_dataset, batch_size=BATCH_SIZE)\n",
        "    attack_testloader = DataLoader(test_attack_dataset, batch_size=BATCH_SIZE)\n",
        "    return trainloader, valloader, benign_testloader, attack_testloader"
      ],
      "metadata": {
        "id": "deyMD0rkXRtK"
      },
      "execution_count": null,
      "outputs": []
    },
    {
      "cell_type": "code",
      "source": [
        "from datasets import Dataset\n",
        "from flwr_datasets.partitioner import DirichletPartitioner\n",
        "\n",
        "dataset = Dataset.from_pandas(undersampled_df)\n",
        "\n",
        "dirichlet_partitioner = DirichletPartitioner(\n",
        "    num_partitions=9, alpha=0.6, partition_by=\"Label\",min_partition_size=10000\n",
        ")\n",
        "dirichlet_partitioner.dataset = dataset\n",
        "partition = dirichlet_partitioner.load_partition(partition_id=0)"
      ],
      "metadata": {
        "id": "PENcYySdePRa"
      },
      "execution_count": 51,
      "outputs": []
    },
    {
      "cell_type": "code",
      "source": [
        "from flwr_datasets.visualization import plot_label_distributions"
      ],
      "metadata": {
        "id": "7ADKgQpofenf"
      },
      "execution_count": 25,
      "outputs": []
    },
    {
      "cell_type": "code",
      "source": [
        "fig, ax, df = plot_label_distributions(\n",
        "    dirichlet_partitioner,\n",
        "    label_name=\"Label\",\n",
        "    plot_type=\"bar\",\n",
        "    size_unit=\"absolute\",\n",
        "    partition_id_axis=\"x\",\n",
        "    legend=True,\n",
        "    verbose_labels=True,\n",
        "    title=\"Per Partition Labels Distribution\",\n",
        ")"
      ],
      "metadata": {
        "colab": {
          "base_uri": "https://localhost:8080/",
          "height": 527
        },
        "id": "25q0WhVHfi1K",
        "outputId": "d1422dcb-53cd-4a37-cf11-bf44b39386af"
      },
      "execution_count": 52,
      "outputs": [
        {
          "output_type": "stream",
          "name": "stderr",
          "text": [
            "/usr/local/lib/python3.10/dist-packages/flwr_datasets/metrics/utils.py:130: UserWarning: The verbose names can not be established. The column specified by 'column_name' needs to be of type 'ClassLabel' to create a verbose names. The available names will used.\n",
            "  warnings.warn(\n"
          ]
        },
        {
          "output_type": "display_data",
          "data": {
            "text/plain": [
              "<Figure size 640x480 with 1 Axes>"
            ],
            "image/png": "[encoded data removed]"
          },
          "metadata": {}
        }
      ]
    },
    {
      "cell_type": "code",
      "source": [
        "from sklearn.preprocessing import MinMaxScaler\n",
        "from torch.utils.data import TensorDataset\n",
        "from sklearn.decomposition import PCA\n",
        "\n",
        "NUM_CLIENTS = 9\n",
        "BATCH_SIZE = 32\n",
        "ENABLE_PCA = False\n",
        "\n",
        "def load_datasets(dataset,model_type:str,partition_id: int,label_col_num:int):\n",
        "    partition = dirichlet_partitioner.load_partition(partition_id=0)\n",
        "    feature_columns = partition.columns[:-label_col_num]\n",
        "    partition_train_test = {}\n",
        "    if model_type == 'Autoencoder':\n",
        "      # select normal data profile to train\n",
        "      partition_benign = partition.loc[partition['Label_Binary']==0]\n",
        "      #print(partition_benign.index)\n",
        "      partition_attack = partition.loc[partition['Label_Binary']==1]\n",
        "      print(len(partition_attack))\n",
        "      partition_train_test['train'] = partition_benign.iloc[:int(0.39*len(partition_benign))-1]\n",
        "      #print(partition_train_test['train'].index)\n",
        "      #print(int(0.39*len(partition_benign))-1)\n",
        "      partition_train_test['val'] = partition_benign.iloc[int(0.39*len(partition_benign)):int(0.78*len(partition_benign))]\n",
        "      #print(len(partition_train_test['val']))\n",
        "      #partition_train_test['test_benign'] = pd.concat([partition_benign.iloc[int(0.8*len(partition_benign)):],partition_attack.iloc[:len(partition_benign)]])\n",
        "      partition_train_test['test_benign'] = partition_benign.iloc[int(0.8*len(partition_benign)):]\n",
        "      #print(len(partition_train_test['test_benign']))\n",
        "      partition_train_test['test_attack'] = partition_attack.iloc[:len(partition_benign)]\n",
        "      #print(len(partition_train_test['test_attack']))\n",
        "    scaler = MinMaxScaler()\n",
        "    scaler.fit(partition_train_test['train'][feature_columns])\n",
        "    X_train = torch.tensor(scaler.transform(partition_train_test['train'][feature_columns]))\n",
        "    #print(f'train_max:{X_train.max()}')\n",
        "    y_train = torch.tensor(partition_train_test['train']['Label_Binary'].values)\n",
        "    if ENABLE_PCA:\n",
        "      pca = PCA(n_components=35)\n",
        "      X_train = torch.tensor(pca.fit_transform(X_train.numpy()))\n",
        "      '''\n",
        "      explained_variance = pca.explained_variance_ratio_\n",
        "      plt.figure(figsize=(10, 6))\n",
        "      plt.bar(range(1, 51), explained_variance, alpha=0.7, color='blue', align='center')\n",
        "      plt.xlabel('Principal Component')\n",
        "      plt.ylabel('Explained Variance Ratio')\n",
        "      plt.title('Explained Variance by Principal Component (Top 50)')\n",
        "      plt.xticks(range(1, 51))\n",
        "      plt.show()\n",
        "      '''\n",
        "\n",
        "    X_val = torch.tensor(scaler.transform(partition_train_test['val'][feature_columns]))\n",
        "    y_val = torch.tensor(partition_train_test['val']['Label_Binary'].values)\n",
        "    if ENABLE_PCA:\n",
        "      pca = PCA(n_components=35)\n",
        "      X_val = torch.tensor(pca.fit_transform(X_val.numpy()))\n",
        "    #print(f'val_max:{X_val.max()}')\n",
        "    X_test_benign = torch.tensor(scaler.transform(partition_train_test['test_benign'][feature_columns]))\n",
        "    y_test_benign = torch.tensor(partition_train_test['test_benign']['Label_Binary'].values)\n",
        "    if ENABLE_PCA:\n",
        "      pca = PCA(n_components=35)\n",
        "      X_test_benign = torch.tensor(pca.fit_transform(X_test_benign.numpy()))\n",
        "    #print(f'benign_max:{X_test_benign.max()}')\n",
        "    X_test_attack = torch.tensor(scaler.transform(partition_train_test['test_attack'][feature_columns]))\n",
        "    y_test_attack = torch.tensor(partition_train_test['test_attack']['Label_Binary'].values)\n",
        "    if ENABLE_PCA:\n",
        "      pca = PCA(n_components=35)\n",
        "      X_test_attack = torch.tensor(pca.fit_transform(X_test_attack.numpy()))\n",
        "    #print(f'attack_max:{X_test_attack.max()}')\n",
        "    train_dataset = TensorDataset(X_train, y_train)\n",
        "    val_dataset = TensorDataset(X_val, y_val)\n",
        "    test_benign_dataset = TensorDataset(X_test_benign, y_test_benign)\n",
        "    test_attack_dataset = TensorDataset(X_test_attack, y_test_attack)\n",
        "    trainloader = DataLoader(train_dataset, batch_size=BATCH_SIZE)\n",
        "    valloader = DataLoader(val_dataset, batch_size=BATCH_SIZE)\n",
        "    benign_testloader = DataLoader(test_benign_dataset, batch_size=BATCH_SIZE)\n",
        "    attack_testloader = DataLoader(test_attack_dataset, batch_size=BATCH_SIZE)\n",
        "    return trainloader, valloader, benign_testloader, attack_testloader"
      ],
      "metadata": {
        "id": "A_FAAe8OkOUj"
      },
      "execution_count": null,
      "outputs": []
    },
    {
      "cell_type": "code",
      "source": [
        "partition"
      ],
      "metadata": {
        "colab": {
          "base_uri": "https://localhost:8080/"
        },
        "id": "kLdbpFhYeiax",
        "outputId": "b8cfd4dc-e278-40d6-8024-aeef57d555cf"
      },
      "execution_count": 24,
      "outputs": [
        {
          "output_type": "stream",
          "name": "stderr",
          "text": [
            "/usr/local/lib/python3.10/dist-packages/ipykernel/ipkernel.py:283: DeprecationWarning: `should_run_async` will not call `transform_cell` automatically in the future. Please pass the result to `transformed_cell` argument and any exception that happen during thetransform in `preprocessing_exc_tuple` in IPython 7.17 and above.\n",
            "  and should_run_async(code)\n"
          ]
        },
        {
          "output_type": "execute_result",
          "data": {
            "text/plain": [
              "Dataset({\n",
              "    features: ['Destination Port', 'Flow Duration', 'Total Fwd Packets', 'Total Backward Packets', 'Total Length of Fwd Packets', 'Total Length of Bwd Packets', 'Fwd Packet Length Max', 'Fwd Packet Length Min', 'Fwd Packet Length Mean', 'Fwd Packet Length Std', 'Bwd Packet Length Max', 'Bwd Packet Length Min', 'Bwd Packet Length Mean', 'Bwd Packet Length Std', 'Flow Bytes/s', 'Flow Packets/s', 'Flow IAT Mean', 'Flow IAT Std', 'Flow IAT Max', 'Flow IAT Min', 'Fwd IAT Total', 'Fwd IAT Mean', 'Fwd IAT Std', 'Fwd IAT Max', 'Fwd IAT Min', 'Bwd IAT Total', 'Bwd IAT Mean', 'Bwd IAT Std', 'Bwd IAT Max', 'Bwd IAT Min', 'Fwd PSH Flags', 'Bwd PSH Flags', 'Fwd URG Flags', 'Bwd URG Flags', 'Fwd Header Length', 'Bwd Header Length', 'Fwd Packets/s', 'Bwd Packets/s', 'Min Packet Length', 'Max Packet Length', 'Packet Length Mean', 'Packet Length Std', 'Packet Length Variance', 'FIN Flag Count', 'SYN Flag Count', 'RST Flag Count', 'PSH Flag Count', 'ACK Flag Count', 'URG Flag Count', 'CWE Flag Count', 'ECE Flag Count', 'Down/Up Ratio', 'Average Packet Size', 'Avg Fwd Segment Size', 'Avg Bwd Segment Size', 'Fwd Header Length.1', 'Fwd Avg Bytes/Bulk', 'Fwd Avg Packets/Bulk', 'Fwd Avg Bulk Rate', 'Bwd Avg Bytes/Bulk', 'Bwd Avg Packets/Bulk', 'Bwd Avg Bulk Rate', 'Subflow Fwd Packets', 'Subflow Fwd Bytes', 'Subflow Bwd Packets', 'Subflow Bwd Bytes', 'Init_Win_bytes_forward', 'Init_Win_bytes_backward', 'act_data_pkt_fwd', 'min_seg_size_forward', 'Active Mean', 'Active Std', 'Active Max', 'Active Min', 'Idle Mean', 'Idle Std', 'Idle Max', 'Idle Min', 'Label', 'Label_Binary'],\n",
              "    num_rows: 141476\n",
              "})"
            ]
          },
          "metadata": {},
          "execution_count": 24
        }
      ]
    },
    {
      "cell_type": "code",
      "source": [
        "class Autoencoder(nn.Module):\n",
        "    def __init__(self, input_size, hidden_size, latent_size):\n",
        "        super(Autoencoder, self).__init__()\n",
        "        self.encoder = nn.Sequential(\n",
        "            nn.Linear(input_size, hidden_size),\n",
        "            nn.ReLU(),\n",
        "            nn.Linear(hidden_size, latent_size)\n",
        "        )\n",
        "        self.decoder = nn.Sequential(\n",
        "            nn.Linear(latent_size, hidden_size),\n",
        "            nn.ReLU(),\n",
        "            nn.Linear(hidden_size, input_size),\n",
        "            nn.Sigmoid()\n",
        "        )\n",
        "\n",
        "    def forward(self, x):\n",
        "        encoded = self.encoder(x)\n",
        "        decoded = self.decoder(encoded)\n",
        "        return decoded"
      ],
      "metadata": {
        "id": "jV6zKl7OxLOf"
      },
      "execution_count": null,
      "outputs": []
    },
    {
      "cell_type": "code",
      "source": [
        "class Autoencoder_4_layers(nn.Module):\n",
        "    def __init__(self, layer_sizes):\n",
        "        \"\"\"\n",
        "        Initialize the Autoencoder with custom layer sizes.\n",
        "\n",
        "        Parameters\n",
        "        ----------\n",
        "        layer_sizes : list of int\n",
        "            A list of four integers specifying the number of neurons in each layer.\n",
        "            Example: [115, 87, 58, 29]\n",
        "        \"\"\"\n",
        "        super(Autoencoder_4_layers, self).__init__()\n",
        "\n",
        "        # Ensure we have exactly four layers specified\n",
        "        assert len(layer_sizes) == 4, \"layer_sizes should contain exactly four values.\"\n",
        "\n",
        "        # Encoder layers\n",
        "        self.encoder = nn.Sequential(\n",
        "            nn.Linear(layer_sizes[0], layer_sizes[1]),\n",
        "            nn.ReLU(True),\n",
        "            nn.Linear(layer_sizes[1], layer_sizes[2]),\n",
        "            nn.ReLU(True),\n",
        "            nn.Linear(layer_sizes[2], layer_sizes[3]),\n",
        "            nn.ReLU(True)\n",
        "        )\n",
        "\n",
        "        # Decoder layers\n",
        "        self.decoder = nn.Sequential(\n",
        "            nn.Linear(layer_sizes[3], layer_sizes[2]),\n",
        "            nn.ReLU(True),\n",
        "            nn.Linear(layer_sizes[2], layer_sizes[1]),\n",
        "            nn.ReLU(True),\n",
        "            nn.Linear(layer_sizes[1], layer_sizes[0]),\n",
        "            nn.Sigmoid()  # Using Sigmoid to keep the output in range (0, 1)\n",
        "        )\n",
        "\n",
        "    def forward(self, x):\n",
        "        x = self.encoder(x)\n",
        "        x = self.decoder(x)\n",
        "        return x\n",
        "\n",
        "# Example usage\n",
        "layer_sizes = [78, 58, 39, 19]\n",
        "autoencoder = Autoencoder_4_layers(layer_sizes)\n",
        "print(autoencoder)\n"
      ],
      "metadata": {
        "colab": {
          "base_uri": "https://localhost:8080/"
        },
        "id": "zpO_tKnZq5_4",
        "outputId": "3e0d2797-7c11-4948-840d-a83fc69b1e9d"
      },
      "execution_count": null,
      "outputs": [
        {
          "output_type": "stream",
          "name": "stdout",
          "text": [
            "Autoencoder_4_layers(\n",
            "  (encoder): Sequential(\n",
            "    (0): Linear(in_features=78, out_features=58, bias=True)\n",
            "    (1): ReLU(inplace=True)\n",
            "    (2): Linear(in_features=58, out_features=39, bias=True)\n",
            "    (3): ReLU(inplace=True)\n",
            "    (4): Linear(in_features=39, out_features=19, bias=True)\n",
            "    (5): ReLU(inplace=True)\n",
            "  )\n",
            "  (decoder): Sequential(\n",
            "    (0): Linear(in_features=19, out_features=39, bias=True)\n",
            "    (1): ReLU(inplace=True)\n",
            "    (2): Linear(in_features=39, out_features=58, bias=True)\n",
            "    (3): ReLU(inplace=True)\n",
            "    (4): Linear(in_features=58, out_features=78, bias=True)\n",
            "    (5): Sigmoid()\n",
            "  )\n",
            ")\n"
          ]
        }
      ]
    },
    {
      "cell_type": "code",
      "source": [
        "from torch.utils.tensorboard import SummaryWriter\n",
        "writer = SummaryWriter()\n",
        "\n",
        "def train(net, trainloader, num_epochs: int, verbose=False):\n",
        "    \"\"\"Train the network on the training set.\"\"\"\n",
        "    criterion = torch.nn.MSELoss()\n",
        "    optimizer = torch.optim.Adam(net.parameters())\n",
        "    net.train()\n",
        "    for epoch in range(num_epochs):\n",
        "        correct, total, epoch_loss = 0, 0, 0.0\n",
        "        for batch in trainloader:\n",
        "            inputs = batch[0].float()\n",
        "            has_nan = torch.isnan(inputs).any()\n",
        "            if has_nan:\n",
        "              print(f\"Contains NaN: {has_nan}\")\n",
        "\n",
        "            # Check for inf values\n",
        "            has_inf = torch.isinf(inputs).any()\n",
        "            if has_inf:\n",
        "              print(f\"Contains Inf: {has_inf}\")\n",
        "\n",
        "            optimizer.zero_grad()\n",
        "            outputs = net(inputs)\n",
        "            loss = torch.sqrt(criterion(outputs, inputs))\n",
        "            loss.backward()\n",
        "            optimizer.step()\n",
        "            # Metrics\n",
        "            epoch_loss += loss\n",
        "        epoch_loss /= len(trainloader)\n",
        "        print(f'Epoch [{epoch+1}/{num_epochs}], Train Loss: {epoch_loss.item():.4f}')\n",
        "    return epoch_loss.item()\n",
        "\n",
        "\n",
        "def validation(net,valloader):\n",
        "  criterion = torch.nn.MSELoss(reduction = 'none')\n",
        "  net.eval()\n",
        "  total_loss = 0.0\n",
        "  loss_history = []\n",
        "  batch_num = 0\n",
        "  unreducedLoss_list = []\n",
        "  with torch.no_grad():\n",
        "    for batch in valloader:\n",
        "      batch_num += 1\n",
        "      inputs = batch[0].float()\n",
        "      has_nan = torch.isnan(inputs).any()\n",
        "      if has_nan:\n",
        "        print(f\"Contains NaN: {has_nan}\")\n",
        "\n",
        "      # Check for inf values\n",
        "      has_inf = torch.isinf(inputs).any()\n",
        "      if has_inf:\n",
        "        print(f\"Contains Inf: {has_inf}\")\n",
        "      outputs = net(inputs)\n",
        "      # Raw loss with dimension 32*115\n",
        "      unreducedLoss = criterion(outputs, inputs)\n",
        "      unreducedLoss_list.append(unreducedLoss)\n",
        "      # Raw loss reduced by the second dimension, mean of squared difference\n",
        "      loss = torch.sqrt(unreducedLoss.mean(dim=1))\n",
        "      '''\n",
        "      if loss.sum().item() > 288:\n",
        "        #print(inputs)\n",
        "        print(batch_num)\n",
        "        print(outputs)\n",
        "        print(loss)\n",
        "      '''\n",
        "      total_loss += loss.sum().item()\n",
        "      loss_history.extend(loss.tolist())\n",
        "  total_loss/=len(valloader.dataset)\n",
        "  unreducedLoss_array = np.concatenate([tensor.numpy() for tensor in unreducedLoss_list], axis=0)\n",
        "  return total_loss,loss_history,unreducedLoss_array\n",
        "\n",
        "\n",
        "def test(net, testloader,threshold):\n",
        "    \"\"\"Evaluate the network on the entire test set.\"\"\"\n",
        "    criterion = torch.nn.MSELoss(reduction = 'none')\n",
        "    loss_distribution = []\n",
        "    unreducedLoss_list = []\n",
        "    net.eval()\n",
        "    count_exceed_threshold,count_total,total_loss = 0.0,0.0,0.0\n",
        "    #print(f'total_size:{len(testloader.dataset)}')\n",
        "    with torch.no_grad():\n",
        "        for batch in testloader:\n",
        "            inputs, labels = [t.float() for t in batch]\n",
        "            has_nan = torch.isnan(inputs).any()\n",
        "            if has_nan:\n",
        "              print(f\"Contains NaN: {has_nan}\")\n",
        "\n",
        "            # Check for inf values\n",
        "            has_inf = torch.isinf(inputs).any()\n",
        "            if has_inf:\n",
        "              print(f\"Contains Inf: {has_inf}\")\n",
        "            outputs = net(inputs.float())\n",
        "            # Raw loss with dimension 32*115\n",
        "            unreducedLoss = criterion(outputs, inputs)\n",
        "            unreducedLoss_list.append(unreducedLoss)\n",
        "            # Raw loss reduced by the second dimension, mean of squared difference\n",
        "            loss = torch.sqrt(unreducedLoss.mean(dim=1))\n",
        "            #print(f'loss_dtype:{loss.dtype}')\n",
        "            if torch.isinf(loss).any():\n",
        "              print(inputs.dtype)\n",
        "              inf_indices = torch.nonzero(torch.isinf(loss), as_tuple=False)\n",
        "              print(f'index:{inf_indices}')\n",
        "              print(f'inputs:{inputs[inf_indices]}')\n",
        "              print(f'outputs:{outputs[inf_indices]}')\n",
        "              print(f'loss:{loss}')\n",
        "              for i in inf_indices:\n",
        "                input,output = inputs[i],outputs[i]\n",
        "                print(f'dimension:{input.shape}')\n",
        "                SE = (output-input)**2\n",
        "                print(f'SE:{SE}')\n",
        "                inf_index = torch.nonzero(torch.isinf(SE), as_tuple=False)\n",
        "                print(f'SE_inf_input:{input[:,inf_index]}')\n",
        "                print(f'SE_inf_output:{output[:,inf_index]}')\n",
        "                custom_MSE = torch.mean((output-input)**2)\n",
        "                print(f'MSE:{custom_MSE}')\n",
        "                print(f'RMSE:{torch.sqrt(custom_MSE)}')\n",
        "            #print(f'shape of loss:{loss.shape}')\n",
        "            #print(loss)\n",
        "            ## find outlier in reconstruction loss from predefined threshold\n",
        "            if threshold:\n",
        "              count_exceed_threshold += (loss > threshold).sum().item()\n",
        "            count_total += len(loss)\n",
        "            total_loss += loss.sum().item()\n",
        "            #print(f'total_loss_dtype:{total_loss.type()}')\n",
        "            #print(loss.tolist())\n",
        "            #print(f'loss:{loss}')\n",
        "            #print(f'total_loss:{total_loss}')\n",
        "            #print(loss.mean())\n",
        "            loss_distribution.extend(loss.tolist())\n",
        "            #total_loss += loss.item()\n",
        "    exceed_threshold_proportion = count_exceed_threshold/count_total\n",
        "    #print(f'number of loss:{len(loss_history)}')\n",
        "    print(f'exceed threshold proportion:{exceed_threshold_proportion}')\n",
        "    print(f'count_total:{count_total}')\n",
        "    total_loss /= count_total\n",
        "    unreducedLoss_array = np.concatenate([tensor.numpy() for tensor in unreducedLoss_list], axis=0)\n",
        "    return total_loss,loss_distribution, exceed_threshold_proportion,unreducedLoss_array"
      ],
      "metadata": {
        "id": "h9kyfCAiq0ss"
      },
      "execution_count": null,
      "outputs": []
    },
    {
      "cell_type": "code",
      "source": [
        "def set_parameters(net, parameters: List[np.ndarray]):\n",
        "    params_dict = zip(net.state_dict().keys(), parameters)\n",
        "    state_dict = OrderedDict({k: torch.Tensor(v) for k, v in params_dict})\n",
        "    net.load_state_dict(state_dict, strict=True)\n",
        "\n",
        "\n",
        "def get_parameters(net) -> List[np.ndarray]:\n",
        "    return [val.cpu().numpy() for _, val in net.state_dict().items()]"
      ],
      "metadata": {
        "id": "AOOF6anhrTit"
      },
      "execution_count": null,
      "outputs": []
    },
    {
      "cell_type": "code",
      "source": [
        "## The first step toward creating a ClientApp is to implement a subclasses of flwr.client.Client or flwr.client.NumPyClient.\n",
        "## We use NumPyClient in this tutorial because it is easier to implement and requires us to write less boilerplate.\n",
        "class FlowerClient_Train(NumPyClient):\n",
        "    def __init__(self, net, partition_id,trainloader, valloader, benign_testloader, attack_testloader,context:Context):\n",
        "        self.client_state = (\n",
        "            context.state\n",
        "        )\n",
        "        #if \"eval_metrics\" not in self.client_state.configs_records:\n",
        "            #.client_state.configs_records[\"eval_metrics\"] = ConfigsRecord()\n",
        "        self.net = net\n",
        "        self.trainloader = trainloader\n",
        "        self.valloader = valloader\n",
        "        self.benign_testloader = benign_testloader\n",
        "        self.attack_testloader = attack_testloader\n",
        "        self.partition_id = partition_id\n",
        "        #print(self.client_state.configs_records)\n",
        "\n",
        "    def get_parameters(self, config):\n",
        "        return get_parameters(self.net)\n",
        "    ## Training\n",
        "    def fit(self, parameters, config):\n",
        "      print(f\"[Client {self.partition_id}] fit, config: {config}\")\n",
        "      set_parameters(self.net, parameters)\n",
        "      #eval_metrics = self.client_state.configs_records[\"eval_metrics\"]\n",
        "      local_epoch = 4\n",
        "      '''\n",
        "      if 'local_epoch' not in eval_metrics:\n",
        "        local_epoch = 4\n",
        "        eval_metrics[\"local_epoch\"] = [4]\n",
        "      else:\n",
        "        local_epoch = eval_metrics['local_epoch'][-1]\n",
        "      '''\n",
        "      loss = train(self.net, self.trainloader, num_epochs=local_epoch)\n",
        "      return get_parameters(self.net), len(self.trainloader), {'train_loss':loss,'config':local_epoch}\n",
        "    ## Validation on subset of benign data to select threshold\n",
        "    def evaluate(self, parameters, config):\n",
        "      print(f\"[Client {self.partition_id}] evaluate, config: {config}\")\n",
        "      set_parameters(self.net, parameters)\n",
        "      loss,val_loss_history,valid_unreduced_loss = validation(self.net,self.valloader)\n",
        "      val_loss_history = np.array(val_loss_history)\n",
        "      ## calculate threshold based on MAD to make it more robust to outliers in normal data\n",
        "      '''\n",
        "      median = np.median(val_loss_history)\n",
        "      MAD = np.median(np.abs(val_loss_history - median))\n",
        "      threshold = median +10*MAD\n",
        "      '''\n",
        "      ## calculate threshold based on standard deviation after filtering out the outliers with IQR\n",
        "      q1 = np.percentile(val_loss_history, 25)\n",
        "      q3 = np.percentile(val_loss_history, 75)\n",
        "      iqr = q3 - q1\n",
        "      lower_bound = q1 - 1.5 * iqr\n",
        "      upper_bound = q3 + 1.5 * iqr\n",
        "      val_loss_history_filtered = val_loss_history[(val_loss_history >= lower_bound) & (val_loss_history <= upper_bound)]\n",
        "      #print(f'original loss:{len(loss_history)}')\n",
        "      #print(f'filtered loss:{len(loss_history_filtered)}')\n",
        "      mean = np.mean(val_loss_history_filtered)\n",
        "      std = np.std(val_loss_history_filtered)\n",
        "      threshold = mean + 2*std\n",
        "      '''\n",
        "      # train a linear one class SVM to find anomalous data\n",
        "      svm = OneClassSVM(kernel='linear', nu=0.5)\n",
        "      svm.fit(val_loss_history_filtered.reshape(-1, 1))\n",
        "      #outlier_scores = svm.decision_function(val_loss_history.reshape(-1, 1))\n",
        "      # save the one-class svm model fit on the local validation set\n",
        "      joblib.dump(svm, f'svm_model_{self.partition_id}.pkl')\n",
        "      # train an isolation forest to find anomalous data\n",
        "      #model = IsolationForest(contamination=0.1, random_state=42)\n",
        "\n",
        "      eval_metrics = self.client_state.configs_records[\"eval_metrics\"]\n",
        "      if 'local_epoch' not in eval_metrics:\n",
        "        eval_metrics[\"local_epoch\"] = [4]\n",
        "      if \"threshold\" not in eval_metrics:\n",
        "        eval_metrics[\"threshold\"] = [threshold]\n",
        "      else:\n",
        "        eval_metrics[\"threshold\"].append(threshold)\n",
        "      if threshold > eval_metrics['threshold'][-1]:\n",
        "        eval_metrics['local_epoch'].append(8)\n",
        "      else:\n",
        "        eval_metrics['local_epoch'].append(4)\n",
        "      print(f'mean_valid_loss:{np.mean(val_loss_history)}')\n",
        "      '''\n",
        "      return float(loss), len(self.valloader), {'Client':self.partition_id,'validation_loss':loss,'validation_threshold':threshold}"
      ],
      "metadata": {
        "id": "cN58XG8IrahB"
      },
      "execution_count": null,
      "outputs": []
    },
    {
      "cell_type": "code",
      "source": [
        "def client_fn_train(context: Context) -> Client:\n",
        "    \"\"\"Create a Flower client representing a single organization.\"\"\"\n",
        "\n",
        "    # Load model\n",
        "    #net = Autoencoder(115,58,29).to(DEVICE)\n",
        "    net = Autoencoder(78,39,19)\n",
        "    #net = Autoencoder_4_layers(layer_sizes)\n",
        "    #net = Autoencoder_2_layers(35,15)\n",
        "\n",
        "    # Load data (CIFAR-10)\n",
        "    # Note: each client gets a different trainloader/valloader, so each client\n",
        "    # will train and evaluate on their own unique data partition\n",
        "    # Read the node_config to fetch data partition associated to this node\n",
        "    # The value of partition-id is retrieved from the node_config dictionary in the Context object, which holds the information that persists throughout each training round.\n",
        "    partition_id = int(context.node_config[\"partition-id\"])\n",
        "    trainloader, valloader, benign_testloader,attack_testloader = load_datasets(dataframe, 'Autoencoder',partition_id=partition_id,label_col_num = 3)\n",
        "\n",
        "    # Create a single Flower client representing a single organization\n",
        "    # FlowerClient is a subclass of NumPyClient, so we need to call .to_client()\n",
        "    # to convert it to a subclass of `flwr.client.Client`\n",
        "    return FlowerClient_Train(net, partition_id,trainloader, valloader,benign_testloader,attack_testloader,context).to_client()\n",
        "\n",
        "\n",
        "# Create the ClientApp\n",
        "client = ClientApp(client_fn=client_fn_train)"
      ],
      "metadata": {
        "id": "4NzEOIXareqO"
      },
      "execution_count": null,
      "outputs": []
    },
    {
      "cell_type": "code",
      "source": [
        "## Select the max loss from validation dataset as the threshold\n",
        "def max_loss(metrics: List[Tuple[int, Metrics]]) -> Metrics:\n",
        "  client_valid_loss = [m['validation_loss'] for _,m in metrics]\n",
        "  print(client_valid_loss)\n",
        "  client_max_loss = client_valid_loss.index(max(client_valid_loss))\n",
        "  return {'max_loss':max(client_valid_loss),'client_max_loss':client_max_loss}"
      ],
      "metadata": {
        "id": "l-RxW1NZr8gE"
      },
      "execution_count": null,
      "outputs": []
    },
    {
      "cell_type": "code",
      "source": [
        "def threshold_selection(metrics: List[Tuple[int, Metrics]]) -> Metrics:\n",
        "  client_valid_threshold = [m['validation_threshold'] for _,m in metrics]\n",
        "  client_id = [m['Client'] for _,m in metrics]\n",
        "  for id,threshold in zip(client_id,client_valid_threshold):\n",
        "    print(f'Client {id} threshold: {threshold}')\n",
        "  sorted_data = sorted(zip(client_id, client_valid_threshold), key=lambda x: x[0])\n",
        "  sorted_client_id, sorted_client_valid_threshold = zip(*sorted_data)\n",
        "  aggregate_threshold_mean = np.mean(client_valid_threshold)\n",
        "  aggregate_threshold_std = np.std(client_valid_threshold)\n",
        "  return {'aggregate_threshold_mean':aggregate_threshold_mean,'aggregate_threshold_std':aggregate_threshold_std,'client_thresholds':sorted_client_valid_threshold}"
      ],
      "metadata": {
        "id": "mDPGSPM9r9ZK"
      },
      "execution_count": null,
      "outputs": []
    },
    {
      "cell_type": "code",
      "source": [
        "## Return average training loss\n",
        "def average_loss(metrics: List[Tuple[int, Metrics]]) -> Metrics:\n",
        "  client_train_loss = [m['train_loss'] for num_examples,m in metrics]\n",
        "  client_config = [m['config'] for num_examples,m in metrics]\n",
        "  print(client_train_loss)\n",
        "  print(client_config)\n",
        "  return {'train_loss':sum(client_train_loss)/len(client_train_loss)}"
      ],
      "metadata": {
        "id": "0vR350TCsBCE"
      },
      "execution_count": null,
      "outputs": []
    },
    {
      "cell_type": "code",
      "source": [
        "global_model_trained = Autoencoder(78,39,19)"
      ],
      "metadata": {
        "id": "RAtCjUeDsJSx"
      },
      "execution_count": null,
      "outputs": []
    },
    {
      "cell_type": "code",
      "source": [
        "from typing import Union, Optional, Dict\n",
        "from flwr.server.client_proxy import ClientProxy\n",
        "from flwr.common import FitRes,Parameters, FitIns, EvaluateRes\n",
        "from flwr.server.client_manager import ClientManager\n",
        "from flwr.server.strategy import FedAdam\n",
        "\n",
        "class SaveModelStrategy(FedAdam):\n",
        "    def __init__(self,\n",
        "                 *,\n",
        "                 patience:int,\n",
        "                 **kwargs):\n",
        "       super().__init__(**kwargs)\n",
        "       self.best_eval_thres = float('inf')\n",
        "       self.server_rounds_without_improvement = 0\n",
        "       self.patience = patience\n",
        "       self.current_model_params = None\n",
        "       self.update_params = False\n",
        "       self.previous_client_threshold = {key: None for key in range(9)}\n",
        "       self.client_update_lst = []\n",
        "\n",
        "    def aggregate_fit(\n",
        "        self,\n",
        "        server_round: int,\n",
        "        results: List[Tuple[flwr.server.client_proxy.ClientProxy, flwr.common.FitRes]],\n",
        "        failures: List[Union[Tuple[ClientProxy, FitRes], BaseException]],\n",
        "    ) -> Tuple[Optional[Parameters], Dict[str, Scalar]]:\n",
        "        \"\"\"Aggregate model weights using weighted average and store checkpoint\"\"\"\n",
        "\n",
        "        # Call aggregate_fit from base class (FedAvg) to aggregate parameters and metrics\n",
        "        aggregated_parameters, aggregated_metrics = super().aggregate_fit(\n",
        "            server_round, results, failures\n",
        "        )\n",
        "\n",
        "        if aggregated_parameters is not None:\n",
        "          aggregated_ndarrays: List[np.ndarray] = flwr.common.parameters_to_ndarrays(\n",
        "                aggregated_parameters\n",
        "            )\n",
        "          self.current_model_params = aggregated_ndarrays\n",
        "\n",
        "        return aggregated_parameters, aggregated_metrics\n",
        "\n",
        "    def aggregate_evaluate(\n",
        "        self,\n",
        "        server_round: int,\n",
        "        results: list[tuple[ClientProxy, EvaluateRes]],\n",
        "        failures: list[Union[tuple[ClientProxy, EvaluateRes], BaseException]],\n",
        "    ) -> tuple[Optional[float], dict[str, Scalar]]:\n",
        "\n",
        "        loss_aggregated, metrics_aggregated = super().aggregate_evaluate(server_round, results, failures)\n",
        "        # Get current highest threshold on the client-side validation set\n",
        "        current_eval_thres = metrics_aggregated['aggregate_threshold_mean']\n",
        "\n",
        "        client_thresholds = metrics_aggregated['client_thresholds']\n",
        "        self.client_update_lst = []\n",
        "        for i in range(len(client_thresholds)):\n",
        "          if self.previous_client_threshold[i] is not None:\n",
        "            if client_thresholds[i] > self.previous_client_threshold[i]:\n",
        "              self.client_update_lst.append(i)\n",
        "          self.previous_client_threshold[i] = client_thresholds[i]\n",
        "        #print(self.client_update_lst)\n",
        "\n",
        "        if current_eval_thres < self.best_eval_thres:\n",
        "          self.server_rounds_without_improvement = 0\n",
        "          # Update the best threshold\n",
        "          self.best_eval_thres = current_eval_thres\n",
        "          self.update_params = True\n",
        "          print('Lowest validation threshold updated')\n",
        "          # Save the model if the threshold is the lowest\n",
        "          params_dict = zip(global_model_trained.state_dict().keys(), self.current_model_params)\n",
        "          state_dict = OrderedDict({k: torch.tensor(v) for k, v in params_dict})\n",
        "          global_model_trained.load_state_dict(state_dict, strict=True)\n",
        "          print(f'Saving model at round {server_round}')\n",
        "          torch.save(global_model_trained.state_dict(), f\"model_round_{server_round}.pth\")\n",
        "        else:\n",
        "          self.server_rounds_without_improvement += 1\n",
        "          self.update_parms = False\n",
        "          print(f\"No improvement in validation loss for {self.server_rounds_without_improvement} round(s)\")\n",
        "        if self.server_rounds_without_improvement >= self.patience:\n",
        "          print(f\"Early stopping triggered at round {server_round}\")\n",
        "\n",
        "        return loss_aggregated, metrics_aggregated\n",
        "\n",
        "\n",
        "\n",
        "\n",
        "\n"
      ],
      "metadata": {
        "id": "Lfr-rLWksOPL"
      },
      "execution_count": null,
      "outputs": []
    },
    {
      "cell_type": "code",
      "source": [
        "state_dict_ndarrays = [v.cpu().numpy() for v in global_model_trained.state_dict().values()]\n",
        "initial_parameters = flwr.common.ndarrays_to_parameters(state_dict_ndarrays)"
      ],
      "metadata": {
        "id": "GRxChX5FsQHc"
      },
      "execution_count": null,
      "outputs": []
    },
    {
      "cell_type": "code",
      "source": [
        "NUM_CLIENTS = 7"
      ],
      "metadata": {
        "id": "joOrM-dosbhn"
      },
      "execution_count": null,
      "outputs": []
    },
    {
      "cell_type": "code",
      "source": [
        "strategy = SaveModelStrategy(\n",
        "        fraction_fit=1,\n",
        "        fraction_evaluate=1,\n",
        "        min_fit_clients=1,\n",
        "        min_evaluate_clients=1,\n",
        "        min_available_clients=7,\n",
        "        initial_parameters = initial_parameters,\n",
        "        evaluate_metrics_aggregation_fn=threshold_selection,  # <-- pass the metric aggregation function, return the max loss in each validation round\n",
        "        fit_metrics_aggregation_fn=average_loss,\n",
        "        patience = 15,\n",
        "        eta = 0.0008,\n",
        "        eta_l = 0.001\n",
        "        #**best_params\n",
        "    )\n",
        "\n",
        "history_train = flwr.simulation.start_simulation(\n",
        "        client_fn=client_fn_train,  # a function that spawns a particular client\n",
        "        num_clients=NUM_CLIENTS,  # total number of clients\n",
        "        config=flwr.server.ServerConfig(\n",
        "            num_rounds=50\n",
        "        ),  # minimal config for the server loop telling the number of rounds in FL\n",
        "        strategy=strategy,  # our strategy of choice\n",
        "        client_resources={\n",
        "            \"num_cpus\": 1,\n",
        "            \"num_gpus\": 0.0,\n",
        "        },  # (optional) controls the degree of parallelism of your simulation.\n",
        "        # Lower resources per client allow for more clients to run concurrently\n",
        "        # (but need to be set taking into account the compute/memory footprint of your run)\n",
        "        # `num_cpus` is an absolute number (integer) indicating the number of threads a client should be allocated\n",
        "        # `num_gpus` is a ratio indicating the portion of gpu memory that a client needs.\n",
        "    )"
      ],
      "metadata": {
        "colab": {
          "base_uri": "https://localhost:8080/"
        },
        "id": "pemULyYHsWRC",
        "outputId": "e7ecb1d7-bde4-4edb-da30-07fdb5aef81d"
      },
      "execution_count": null,
      "outputs": [
        {
          "output_type": "stream",
          "name": "stderr",
          "text": [
            "\u001b[93mWARNING \u001b[0m:   DEPRECATED FEATURE: flwr.simulation.start_simulation() is deprecated.\n",
            "\tInstead, use the `flwr run` CLI command to start a local simulation in your Flower app, as shown for example below:\n",
            "\n",
            "\t\t$ flwr new  # Create a new Flower app from a template\n",
            "\n",
            "\t\t$ flwr run  # Run the Flower app in Simulation Mode\n",
            "\n",
            "\tUsing `start_simulation()` is deprecated.\n",
            "\n",
            "            This is a deprecated feature. It will be removed\n",
            "            entirely in future versions of Flower.\n",
            "        \n",
            "\u001b[92mINFO \u001b[0m:      Starting Flower simulation, config: num_rounds=50, no round_timeout\n",
            "2024-12-03 13:47:46,415\tINFO worker.py:1752 -- Started a local Ray instance.\n",
            "\u001b[92mINFO \u001b[0m:      Flower VCE: Ray initialized with resources: {'memory': 7959099803.0, 'object_store_memory': 3979549900.0, 'CPU': 2.0, 'node:__internal_head__': 1.0, 'node:172.28.0.12': 1.0}\n",
            "\u001b[92mINFO \u001b[0m:      Optimize your simulation with Flower VCE: https://flower.ai/docs/framework/how-to-run-simulations.html\n",
            "\u001b[92mINFO \u001b[0m:      Flower VCE: Resources for each Virtual Client: {'num_cpus': 1, 'num_gpus': 0.0}\n",
            "\u001b[92mINFO \u001b[0m:      Flower VCE: Creating VirtualClientEngineActorPool with 2 actors\n",
            "\u001b[92mINFO \u001b[0m:      [INIT]\n",
            "\u001b[92mINFO \u001b[0m:      Using initial global parameters provided by strategy\n",
            "\u001b[92mINFO \u001b[0m:      Starting evaluation of initial global parameters\n",
            "\u001b[92mINFO \u001b[0m:      Evaluation returned no results (`None`)\n",
            "\u001b[92mINFO \u001b[0m:      \n",
            "\u001b[92mINFO \u001b[0m:      [ROUND 1]\n",
            "\u001b[92mINFO \u001b[0m:      configure_fit: strategy sampled 7 clients (out of 7)\n",
            "\u001b[36m(pid=75191)\u001b[0m 2024-12-03 13:47:53.707269: E external/local_xla/xla/stream_executor/cuda/cuda_fft.cc:485] Unable to register cuFFT factory: Attempting to register factory for plugin cuFFT when one has already been registered\n",
            "\u001b[36m(pid=75191)\u001b[0m 2024-12-03 13:47:53.796718: E external/local_xla/xla/stream_executor/cuda/cuda_dnn.cc:8454] Unable to register cuDNN factory: Attempting to register factory for plugin cuDNN when one has already been registered\n",
            "\u001b[36m(pid=75191)\u001b[0m 2024-12-03 13:47:53.818815: E external/local_xla/xla/stream_executor/cuda/cuda_blas.cc:1452] Unable to register cuBLAS factory: Attempting to register factory for plugin cuBLAS when one has already been registered\n",
            "\u001b[36m(pid=75190)\u001b[0m 2024-12-03 13:47:58.923999: W tensorflow/compiler/tf2tensorrt/utils/py_utils.cc:38] TF-TRT Warning: Could not find TensorRT\n",
            "\u001b[36m(pid=75190)\u001b[0m 2024-12-03 13:47:53.862192: E external/local_xla/xla/stream_executor/cuda/cuda_fft.cc:485] Unable to register cuFFT factory: Attempting to register factory for plugin cuFFT when one has already been registered\n",
            "\u001b[36m(pid=75190)\u001b[0m 2024-12-03 13:47:53.949828: E external/local_xla/xla/stream_executor/cuda/cuda_dnn.cc:8454] Unable to register cuDNN factory: Attempting to register factory for plugin cuDNN when one has already been registered\n",
            "\u001b[36m(pid=75190)\u001b[0m 2024-12-03 13:47:53.983918: E external/local_xla/xla/stream_executor/cuda/cuda_blas.cc:1452] Unable to register cuBLAS factory: Attempting to register factory for plugin cuBLAS when one has already been registered\n"
          ]
        },
        {
          "output_type": "stream",
          "name": "stdout",
          "text": [
            "\u001b[36m(ClientAppActor pid=75191)\u001b[0m 1956\n",
            "\u001b[36m(ClientAppActor pid=75191)\u001b[0m [Client 1] fit, config: {}\n",
            "\u001b[36m(ClientAppActor pid=75191)\u001b[0m Epoch [1/4], Train Loss: 0.3969\n",
            "\u001b[36m(ClientAppActor pid=75191)\u001b[0m 2000\u001b[32m [repeated 3x across cluster]\u001b[0m\n",
            "\u001b[36m(ClientAppActor pid=75191)\u001b[0m [Client 2] fit, config: {}\u001b[32m [repeated 3x across cluster]\u001b[0m\n",
            "\u001b[36m(ClientAppActor pid=75190)\u001b[0m Epoch [2/4], Train Loss: 0.1339\u001b[32m [repeated 18x across cluster]\u001b[0m\n"
          ]
        },
        {
          "output_type": "stream",
          "name": "stderr",
          "text": [
            "\u001b[92mINFO \u001b[0m:      aggregate_fit: received 7 results and 0 failures\n",
            "\u001b[92mINFO \u001b[0m:      configure_evaluate: strategy sampled 7 clients (out of 7)\n"
          ]
        },
        {
          "output_type": "stream",
          "name": "stdout",
          "text": [
            "[0.12074251472949982, 0.12041743844747543, 0.12355350703001022, 0.11412271112203598, 0.1427188664674759, 0.14900246262550354, 0.13418878614902496]\n",
            "[4, 4, 4, 4, 4, 4, 4]\n",
            "\u001b[36m(ClientAppActor pid=75190)\u001b[0m 2000\u001b[32m [repeated 4x across cluster]\u001b[0m\n",
            "\u001b[36m(ClientAppActor pid=75190)\u001b[0m [Client 3] fit, config: {}\u001b[32m [repeated 3x across cluster]\u001b[0m\n",
            "\u001b[36m(ClientAppActor pid=75190)\u001b[0m [Client 6] evaluate, config: {}\n"
          ]
        },
        {
          "output_type": "stream",
          "name": "stderr",
          "text": [
            "\u001b[92mINFO \u001b[0m:      aggregate_evaluate: received 7 results and 0 failures\n",
            "\u001b[92mINFO \u001b[0m:      \n",
            "\u001b[92mINFO \u001b[0m:      [ROUND 2]\n",
            "\u001b[92mINFO \u001b[0m:      configure_fit: strategy sampled 7 clients (out of 7)\n"
          ]
        },
        {
          "output_type": "stream",
          "name": "stdout",
          "text": [
            "Client 2 threshold: 0.5032906305370078\n",
            "Client 6 threshold: 0.5106438063106832\n",
            "Client 4 threshold: 0.513372608689718\n",
            "Client 0 threshold: 0.5053243871650295\n",
            "Client 3 threshold: 0.5040551525288053\n",
            "Client 5 threshold: 0.5173260204878587\n",
            "Client 1 threshold: 0.5025743560311272\n",
            "Lowest validation threshold updated\n",
            "Saving model at round 1\n",
            "\u001b[36m(ClientAppActor pid=75191)\u001b[0m Epoch [3/4], Train Loss: 0.1292\u001b[32m [repeated 14x across cluster]\u001b[0m\n",
            "\u001b[36m(ClientAppActor pid=75191)\u001b[0m 2000\u001b[32m [repeated 12x across cluster]\u001b[0m\n",
            "\u001b[36m(ClientAppActor pid=75191)\u001b[0m [Client 0] fit, config: {}\u001b[32m [repeated 6x across cluster]\u001b[0m\n",
            "\u001b[36m(ClientAppActor pid=75190)\u001b[0m [Client 4] evaluate, config: {}\u001b[32m [repeated 6x across cluster]\u001b[0m\n"
          ]
        },
        {
          "output_type": "stream",
          "name": "stderr",
          "text": [
            "\u001b[92mINFO \u001b[0m:      aggregate_fit: received 7 results and 0 failures\n",
            "\u001b[92mINFO \u001b[0m:      configure_evaluate: strategy sampled 7 clients (out of 7)\n"
          ]
        },
        {
          "output_type": "stream",
          "name": "stdout",
          "text": [
            "[0.12065800279378891, 0.13916225731372833, 0.12006247043609619, 0.14863285422325134, 0.113656185567379, 0.1437372863292694, 0.12221881747245789]\n",
            "[4, 4, 4, 4, 4, 4, 4]\n"
          ]
        },
        {
          "output_type": "stream",
          "name": "stderr",
          "text": [
            "\u001b[92mINFO \u001b[0m:      aggregate_evaluate: received 7 results and 0 failures\n",
            "\u001b[92mINFO \u001b[0m:      \n",
            "\u001b[92mINFO \u001b[0m:      [ROUND 3]\n",
            "\u001b[92mINFO \u001b[0m:      configure_fit: strategy sampled 7 clients (out of 7)\n"
          ]
        },
        {
          "output_type": "stream",
          "name": "stdout",
          "text": [
            "Client 5 threshold: 0.5168871072298954\n",
            "Client 4 threshold: 0.5129661184541114\n",
            "Client 6 threshold: 0.5101696690212282\n",
            "Client 3 threshold: 0.5036092342264464\n",
            "Client 2 threshold: 0.5028183028915164\n",
            "Client 0 threshold: 0.5048760275087794\n",
            "Client 1 threshold: 0.5021486880065339\n",
            "Lowest validation threshold updated\n",
            "Saving model at round 2\n",
            "\u001b[36m(ClientAppActor pid=75190)\u001b[0m Epoch [4/4], Train Loss: 0.1437\u001b[32m [repeated 23x across cluster]\u001b[0m\n",
            "\u001b[36m(ClientAppActor pid=75190)\u001b[0m 2000\u001b[32m [repeated 12x across cluster]\u001b[0m\n",
            "\u001b[36m(ClientAppActor pid=75191)\u001b[0m [Client 2] fit, config: {}\u001b[32m [repeated 5x across cluster]\u001b[0m\n",
            "\u001b[36m(ClientAppActor pid=75190)\u001b[0m [Client 3] evaluate, config: {}\u001b[32m [repeated 7x across cluster]\u001b[0m\n",
            "\u001b[36m(ClientAppActor pid=75190)\u001b[0m Epoch [4/4], Train Loss: 0.1199\u001b[32m [repeated 23x across cluster]\u001b[0m\n"
          ]
        },
        {
          "output_type": "stream",
          "name": "stderr",
          "text": [
            "\u001b[92mINFO \u001b[0m:      aggregate_fit: received 7 results and 0 failures\n",
            "\u001b[92mINFO \u001b[0m:      configure_evaluate: strategy sampled 7 clients (out of 7)\n"
          ]
        },
        {
          "output_type": "stream",
          "name": "stdout",
          "text": [
            "[0.11986254155635834, 0.12143967300653458, 0.14818502962589264, 0.11882296204566956, 0.1358741819858551, 0.1373806744813919, 0.11338627338409424]\n",
            "[4, 4, 4, 4, 4, 4, 4]\n",
            "\u001b[36m(ClientAppActor pid=75190)\u001b[0m 2000\u001b[32m [repeated 8x across cluster]\u001b[0m\n",
            "\u001b[36m(ClientAppActor pid=75190)\u001b[0m [Client 5] fit, config: {}\u001b[32m [repeated 3x across cluster]\u001b[0m\n",
            "\u001b[36m(ClientAppActor pid=75191)\u001b[0m [Client 6] evaluate, config: {}\u001b[32m [repeated 6x across cluster]\u001b[0m\n"
          ]
        },
        {
          "output_type": "stream",
          "name": "stderr",
          "text": [
            "\u001b[92mINFO \u001b[0m:      aggregate_evaluate: received 7 results and 0 failures\n",
            "\u001b[92mINFO \u001b[0m:      \n",
            "\u001b[92mINFO \u001b[0m:      [ROUND 4]\n",
            "\u001b[92mINFO \u001b[0m:      configure_fit: strategy sampled 7 clients (out of 7)\n"
          ]
        },
        {
          "output_type": "stream",
          "name": "stdout",
          "text": [
            "Client 4 threshold: 0.5124713668083155\n",
            "Client 1 threshold: 0.5016381921586851\n",
            "Client 3 threshold: 0.5031301717317106\n",
            "Client 5 threshold: 0.5164147760493831\n",
            "Client 0 threshold: 0.5043766959940367\n",
            "Client 2 threshold: 0.5023125802921486\n",
            "Client 6 threshold: 0.5096618713754814\n",
            "Lowest validation threshold updated\n",
            "Saving model at round 3\n",
            "\u001b[36m(ClientAppActor pid=75190)\u001b[0m Epoch [3/4], Train Loss: 0.1169\u001b[32m [repeated 10x across cluster]\u001b[0m\n",
            "\u001b[36m(ClientAppActor pid=75191)\u001b[0m 2000\u001b[32m [repeated 8x across cluster]\u001b[0m\n",
            "\u001b[36m(ClientAppActor pid=75190)\u001b[0m [Client 1] fit, config: {}\u001b[32m [repeated 5x across cluster]\u001b[0m\n",
            "\u001b[36m(ClientAppActor pid=75190)\u001b[0m [Client 4] evaluate, config: {}\n"
          ]
        },
        {
          "output_type": "stream",
          "name": "stderr",
          "text": [
            "\u001b[92mINFO \u001b[0m:      aggregate_fit: received 7 results and 0 failures\n",
            "\u001b[92mINFO \u001b[0m:      configure_evaluate: strategy sampled 7 clients (out of 7)\n"
          ]
        },
        {
          "output_type": "stream",
          "name": "stdout",
          "text": [
            "[0.1300194412469864, 0.13340657949447632, 0.11787679046392441, 0.14721447229385376, 0.1183132752776146, 0.11253659427165985, 0.11800764501094818]\n",
            "[4, 4, 4, 4, 4, 4, 4]\n",
            "\u001b[36m(ClientAppActor pid=75190)\u001b[0m [Client 1] evaluate, config: {}\n"
          ]
        },
        {
          "output_type": "stream",
          "name": "stderr",
          "text": [
            "\u001b[92mINFO \u001b[0m:      aggregate_evaluate: received 7 results and 0 failures\n",
            "\u001b[92mINFO \u001b[0m:      \n",
            "\u001b[92mINFO \u001b[0m:      [ROUND 5]\n",
            "\u001b[92mINFO \u001b[0m:      configure_fit: strategy sampled 7 clients (out of 7)\n"
          ]
        },
        {
          "output_type": "stream",
          "name": "stdout",
          "text": [
            "\u001b[36m(ClientAppActor pid=75190)\u001b[0m Epoch [4/4], Train Loss: 0.1334\u001b[32m [repeated 23x across cluster]\u001b[0m\n",
            "Client 5 threshold: 0.5158999131315146\n",
            "Client 4 threshold: 0.5119252511256027\n",
            "Client 2 threshold: 0.5017841006589477\n",
            "Client 0 threshold: 0.503855686336813\n",
            "Client 3 threshold: 0.5026041479035324\n",
            "Client 1 threshold: 0.5011305831992653\n",
            "Client 6 threshold: 0.5090335817365484\n",
            "Lowest validation threshold updated\n",
            "Saving model at round 4\n",
            "\u001b[36m(ClientAppActor pid=75191)\u001b[0m 36\u001b[32m [repeated 12x across cluster]\u001b[0m\n",
            "\u001b[36m(ClientAppActor pid=75190)\u001b[0m [Client 4] fit, config: {}\u001b[32m [repeated 6x across cluster]\u001b[0m\n",
            "\u001b[36m(ClientAppActor pid=75190)\u001b[0m [Client 5] evaluate, config: {}\u001b[32m [repeated 6x across cluster]\u001b[0m\n",
            "\u001b[36m(ClientAppActor pid=75190)\u001b[0m Epoch [2/4], Train Loss: 0.1508\u001b[32m [repeated 26x across cluster]\u001b[0m\n"
          ]
        },
        {
          "output_type": "stream",
          "name": "stderr",
          "text": [
            "\u001b[92mINFO \u001b[0m:      aggregate_fit: received 7 results and 0 failures\n",
            "\u001b[92mINFO \u001b[0m:      configure_evaluate: strategy sampled 7 clients (out of 7)\n"
          ]
        },
        {
          "output_type": "stream",
          "name": "stdout",
          "text": [
            "[0.1186172291636467, 0.11788564175367355, 0.1255752295255661, 0.13493983447551727, 0.14742513000965118, 0.1109316274523735, 0.11685770750045776]\n",
            "[4, 4, 4, 4, 4, 4, 4]\n"
          ]
        },
        {
          "output_type": "stream",
          "name": "stderr",
          "text": [
            "\u001b[92mINFO \u001b[0m:      aggregate_evaluate: received 7 results and 0 failures\n",
            "\u001b[92mINFO \u001b[0m:      \n",
            "\u001b[92mINFO \u001b[0m:      [ROUND 6]\n",
            "\u001b[92mINFO \u001b[0m:      configure_fit: strategy sampled 7 clients (out of 7)\n"
          ]
        },
        {
          "output_type": "stream",
          "name": "stdout",
          "text": [
            "Client 2 threshold: 0.5012378051814211\n",
            "Client 1 threshold: 0.5005286864817918\n",
            "Client 0 threshold: 0.5033005836275153\n",
            "Client 6 threshold: 0.5084858933971023\n",
            "Client 3 threshold: 0.5020865353486013\n",
            "Client 5 threshold: 0.5153694686957562\n",
            "Client 4 threshold: 0.5113089393668668\n",
            "Lowest validation threshold updated\n",
            "Saving model at round 5\n",
            "\u001b[36m(ClientAppActor pid=75191)\u001b[0m 2000\u001b[32m [repeated 11x across cluster]\u001b[0m\n",
            "\u001b[36m(ClientAppActor pid=75190)\u001b[0m [Client 5] fit, config: {}\u001b[32m [repeated 3x across cluster]\u001b[0m\n",
            "\u001b[36m(ClientAppActor pid=75191)\u001b[0m [Client 2] evaluate, config: {}\u001b[32m [repeated 7x across cluster]\u001b[0m\n",
            "\u001b[36m(ClientAppActor pid=75191)\u001b[0m Epoch [4/4], Train Loss: 0.1254\u001b[32m [repeated 9x across cluster]\u001b[0m\n",
            "\u001b[36m(ClientAppActor pid=75190)\u001b[0m 2000\u001b[32m [repeated 3x across cluster]\u001b[0m\n",
            "\u001b[36m(ClientAppActor pid=75190)\u001b[0m [Client 2] fit, config: {}\u001b[32m [repeated 4x across cluster]\u001b[0m\n",
            "\u001b[36m(ClientAppActor pid=75191)\u001b[0m Epoch [2/4], Train Loss: 0.1338\u001b[32m [repeated 12x across cluster]\u001b[0m\n"
          ]
        },
        {
          "output_type": "stream",
          "name": "stderr",
          "text": [
            "\u001b[92mINFO \u001b[0m:      aggregate_fit: received 7 results and 0 failures\n",
            "\u001b[92mINFO \u001b[0m:      configure_evaluate: strategy sampled 7 clients (out of 7)\n"
          ]
        },
        {
          "output_type": "stream",
          "name": "stdout",
          "text": [
            "[0.14735864102840424, 0.10900626331567764, 0.12542350590229034, 0.1462763249874115, 0.11745652556419373, 0.11644984781742096, 0.11760584264993668]\n",
            "[4, 4, 4, 4, 4, 4, 4]\n",
            "\u001b[36m(ClientAppActor pid=75190)\u001b[0m 2000\u001b[32m [repeated 3x across cluster]\u001b[0m\n",
            "\u001b[36m(ClientAppActor pid=75190)\u001b[0m [Client 4] fit, config: {}\u001b[32m [repeated 3x across cluster]\u001b[0m\n",
            "\u001b[36m(ClientAppActor pid=75190)\u001b[0m [Client 3] evaluate, config: {}\n"
          ]
        },
        {
          "output_type": "stream",
          "name": "stderr",
          "text": [
            "\u001b[92mINFO \u001b[0m:      aggregate_evaluate: received 7 results and 0 failures\n",
            "\u001b[92mINFO \u001b[0m:      \n",
            "\u001b[92mINFO \u001b[0m:      [ROUND 7]\n",
            "\u001b[92mINFO \u001b[0m:      configure_fit: strategy sampled 7 clients (out of 7)\n"
          ]
        },
        {
          "output_type": "stream",
          "name": "stdout",
          "text": [
            "Client 6 threshold: 0.5079229979952637\n",
            "Client 1 threshold: 0.500013730214584\n",
            "Client 5 threshold: 0.5148246356643605\n",
            "Client 2 threshold: 0.5006763708236389\n",
            "Client 4 threshold: 0.5107023828056134\n",
            "Client 0 threshold: 0.502766697424347\n",
            "Client 3 threshold: 0.5015540187928355\n",
            "Lowest validation threshold updated\n",
            "Saving model at round 6\n",
            "\u001b[36m(ClientAppActor pid=75190)\u001b[0m Epoch [3/4], Train Loss: 0.1244\u001b[32m [repeated 14x across cluster]\u001b[0m\n",
            "\u001b[36m(ClientAppActor pid=75190)\u001b[0m 2000\u001b[32m [repeated 13x across cluster]\u001b[0m\n",
            "\u001b[36m(ClientAppActor pid=75191)\u001b[0m [Client 4] fit, config: {}\u001b[32m [repeated 6x across cluster]\u001b[0m\n",
            "\u001b[36m(ClientAppActor pid=75190)\u001b[0m [Client 2] evaluate, config: {}\u001b[32m [repeated 6x across cluster]\u001b[0m\n"
          ]
        },
        {
          "output_type": "stream",
          "name": "stderr",
          "text": [
            "\u001b[92mINFO \u001b[0m:      aggregate_fit: received 7 results and 0 failures\n",
            "\u001b[92mINFO \u001b[0m:      configure_evaluate: strategy sampled 7 clients (out of 7)\n"
          ]
        },
        {
          "output_type": "stream",
          "name": "stdout",
          "text": [
            "[0.14353305101394653, 0.1162511333823204, 0.12528495490550995, 0.11731217056512833, 0.10864877700805664, 0.11759331077337265, 0.14778737723827362]\n",
            "[4, 4, 4, 4, 4, 4, 4]\n",
            "\u001b[36m(ClientAppActor pid=75190)\u001b[0m Epoch [4/4], Train Loss: 0.1086\u001b[32m [repeated 23x across cluster]\u001b[0m\n"
          ]
        },
        {
          "output_type": "stream",
          "name": "stderr",
          "text": [
            "\u001b[92mINFO \u001b[0m:      aggregate_evaluate: received 7 results and 0 failures\n",
            "\u001b[92mINFO \u001b[0m:      \n",
            "\u001b[92mINFO \u001b[0m:      [ROUND 8]\n",
            "\u001b[92mINFO \u001b[0m:      configure_fit: strategy sampled 7 clients (out of 7)\n"
          ]
        },
        {
          "output_type": "stream",
          "name": "stdout",
          "text": [
            "Client 3 threshold: 0.5009816815860885\n",
            "Client 4 threshold: 0.5101062976842319\n",
            "Client 2 threshold: 0.500081078246144\n",
            "Client 0 threshold: 0.5022007613086833\n",
            "Client 6 threshold: 0.5073456555719447\n",
            "Client 5 threshold: 0.514266634060711\n",
            "Client 1 threshold: 0.49945873451575223\n",
            "Lowest validation threshold updated\n",
            "Saving model at round 7\n",
            "\u001b[36m(ClientAppActor pid=75190)\u001b[0m 2000\u001b[32m [repeated 10x across cluster]\u001b[0m\n",
            "\u001b[36m(ClientAppActor pid=75191)\u001b[0m [Client 4] fit, config: {}\u001b[32m [repeated 3x across cluster]\u001b[0m\n",
            "\u001b[36m(ClientAppActor pid=75190)\u001b[0m [Client 0] evaluate, config: {}\u001b[32m [repeated 7x across cluster]\u001b[0m\n",
            "\u001b[36m(ClientAppActor pid=75191)\u001b[0m Epoch [3/4], Train Loss: 0.1139\u001b[32m [repeated 14x across cluster]\u001b[0m\n",
            "\u001b[36m(ClientAppActor pid=75191)\u001b[0m 2000\u001b[32m [repeated 4x across cluster]\u001b[0m\n",
            "\u001b[36m(ClientAppActor pid=75191)\u001b[0m [Client 6] fit, config: {}\u001b[32m [repeated 4x across cluster]\u001b[0m\n"
          ]
        },
        {
          "output_type": "stream",
          "name": "stderr",
          "text": [
            "\u001b[92mINFO \u001b[0m:      aggregate_fit: received 7 results and 0 failures\n",
            "\u001b[92mINFO \u001b[0m:      configure_evaluate: strategy sampled 7 clients (out of 7)\n"
          ]
        },
        {
          "output_type": "stream",
          "name": "stdout",
          "text": [
            "[0.11763420701026917, 0.14332741498947144, 0.1082414910197258, 0.11541721969842911, 0.13038639724254608, 0.1479647159576416, 0.1177966520190239]\n",
            "[4, 4, 4, 4, 4, 4, 4]\n",
            "\u001b[36m(ClientAppActor pid=75191)\u001b[0m [Client 3] evaluate, config: {}\n"
          ]
        },
        {
          "output_type": "stream",
          "name": "stderr",
          "text": [
            "\u001b[92mINFO \u001b[0m:      aggregate_evaluate: received 7 results and 0 failures\n",
            "\u001b[92mINFO \u001b[0m:      \n",
            "\u001b[92mINFO \u001b[0m:      [ROUND 9]\n",
            "\u001b[92mINFO \u001b[0m:      configure_fit: strategy sampled 7 clients (out of 7)\n"
          ]
        },
        {
          "output_type": "stream",
          "name": "stdout",
          "text": [
            "Client 4 threshold: 0.5094951822393087\n",
            "Client 3 threshold: 0.500394722601524\n",
            "Client 1 threshold: 0.4989633922579733\n",
            "Client 0 threshold: 0.5016564814745959\n",
            "Client 2 threshold: 0.49952820124813196\n",
            "Client 5 threshold: 0.5136922751413364\n",
            "Client 6 threshold: 0.5067541749376172\n",
            "Lowest validation threshold updated\n",
            "Saving model at round 8\n",
            "\u001b[36m(ClientAppActor pid=75191)\u001b[0m Epoch [1/4], Train Loss: 0.3745\u001b[32m [repeated 15x across cluster]\u001b[0m\n",
            "\u001b[36m(ClientAppActor pid=75191)\u001b[0m 1956\u001b[32m [repeated 13x across cluster]\u001b[0m\n",
            "\u001b[36m(ClientAppActor pid=75191)\u001b[0m [Client 1] fit, config: {}\u001b[32m [repeated 6x across cluster]\u001b[0m\n",
            "\u001b[36m(ClientAppActor pid=75190)\u001b[0m [Client 6] evaluate, config: {}\u001b[32m [repeated 6x across cluster]\u001b[0m\n"
          ]
        },
        {
          "output_type": "stream",
          "name": "stderr",
          "text": [
            "\u001b[92mINFO \u001b[0m:      aggregate_fit: received 7 results and 0 failures\n",
            "\u001b[92mINFO \u001b[0m:      configure_evaluate: strategy sampled 7 clients (out of 7)\n"
          ]
        },
        {
          "output_type": "stream",
          "name": "stdout",
          "text": [
            "[0.14340201020240784, 0.14799994230270386, 0.1079448014497757, 0.13120678067207336, 0.1176319271326065, 0.11718292534351349, 0.11513833701610565]\n",
            "[4, 4, 4, 4, 4, 4, 4]\n",
            "\u001b[36m(ClientAppActor pid=75191)\u001b[0m Epoch [4/4], Train Loss: 0.1312\u001b[32m [repeated 27x across cluster]\u001b[0m\n"
          ]
        },
        {
          "output_type": "stream",
          "name": "stderr",
          "text": [
            "\u001b[92mINFO \u001b[0m:      aggregate_evaluate: received 7 results and 0 failures\n",
            "\u001b[92mINFO \u001b[0m:      \n",
            "\u001b[92mINFO \u001b[0m:      [ROUND 10]\n",
            "\u001b[92mINFO \u001b[0m:      configure_fit: strategy sampled 7 clients (out of 7)\n"
          ]
        },
        {
          "output_type": "stream",
          "name": "stdout",
          "text": [
            "Client 3 threshold: 0.4998668669053023\n",
            "Client 5 threshold: 0.5130998356324088\n",
            "Client 1 threshold: 0.4983525955003294\n",
            "Client 4 threshold: 0.5088683132049241\n",
            "Client 2 threshold: 0.49892039356146256\n",
            "Client 0 threshold: 0.5010604470217466\n",
            "Client 6 threshold: 0.5061472837718002\n",
            "Lowest validation threshold updated\n",
            "Saving model at round 9\n",
            "\u001b[36m(ClientAppActor pid=75190)\u001b[0m 2000\u001b[32m [repeated 13x across cluster]\u001b[0m\n",
            "\u001b[36m(ClientAppActor pid=75190)\u001b[0m [Client 4] fit, config: {}\u001b[32m [repeated 6x across cluster]\u001b[0m\n",
            "\u001b[36m(ClientAppActor pid=75191)\u001b[0m [Client 6] evaluate, config: {}\u001b[32m [repeated 7x across cluster]\u001b[0m\n",
            "\u001b[36m(ClientAppActor pid=75190)\u001b[0m Epoch [1/4], Train Loss: 0.3519\u001b[32m [repeated 18x across cluster]\u001b[0m\n",
            "\u001b[36m(ClientAppActor pid=75191)\u001b[0m 2000\u001b[32m [repeated 3x across cluster]\u001b[0m\n",
            "\u001b[36m(ClientAppActor pid=75191)\u001b[0m [Client 2] fit, config: {}\u001b[32m [repeated 3x across cluster]\u001b[0m\n"
          ]
        },
        {
          "output_type": "stream",
          "name": "stderr",
          "text": [
            "\u001b[92mINFO \u001b[0m:      aggregate_fit: received 7 results and 0 failures\n",
            "\u001b[92mINFO \u001b[0m:      configure_evaluate: strategy sampled 7 clients (out of 7)\n"
          ]
        },
        {
          "output_type": "stream",
          "name": "stdout",
          "text": [
            "[0.11562218517065048, 0.12748399376869202, 0.11708731204271317, 0.13353274762630463, 0.11682503670454025, 0.10786076635122299, 0.14814816415309906]\n",
            "[4, 4, 4, 4, 4, 4, 4]\n",
            "\u001b[36m(ClientAppActor pid=75191)\u001b[0m [Client 3] evaluate, config: {}\u001b[32m [repeated 3x across cluster]\u001b[0m\n"
          ]
        },
        {
          "output_type": "stream",
          "name": "stderr",
          "text": [
            "\u001b[92mINFO \u001b[0m:      aggregate_evaluate: received 7 results and 0 failures\n",
            "\u001b[92mINFO \u001b[0m:      \n",
            "\u001b[92mINFO \u001b[0m:      [ROUND 11]\n",
            "\u001b[92mINFO \u001b[0m:      configure_fit: strategy sampled 7 clients (out of 7)\n"
          ]
        },
        {
          "output_type": "stream",
          "name": "stdout",
          "text": [
            "Client 2 threshold: 0.49829456579610165\n",
            "Client 3 threshold: 0.4992462925322642\n",
            "Client 6 threshold: 0.5055228540791364\n",
            "Client 0 threshold: 0.5004474064253177\n",
            "Client 4 threshold: 0.5081995354591045\n",
            "Client 5 threshold: 0.5124883073036139\n",
            "Client 1 threshold: 0.49767511929553593\n",
            "Lowest validation threshold updated\n",
            "Saving model at round 10\n",
            "\u001b[36m(ClientAppActor pid=75190)\u001b[0m Epoch [1/4], Train Loss: 0.3308\u001b[32m [repeated 12x across cluster]\u001b[0m\n",
            "\u001b[36m(ClientAppActor pid=75190)\u001b[0m 2000\u001b[32m [repeated 13x across cluster]\u001b[0m\n",
            "\u001b[36m(ClientAppActor pid=75190)\u001b[0m [Client 4] fit, config: {}\u001b[32m [repeated 6x across cluster]\u001b[0m\n",
            "\u001b[36m(ClientAppActor pid=75191)\u001b[0m [Client 6] evaluate, config: {}\u001b[32m [repeated 4x across cluster]\u001b[0m\n"
          ]
        },
        {
          "output_type": "stream",
          "name": "stderr",
          "text": [
            "\u001b[92mINFO \u001b[0m:      aggregate_fit: received 7 results and 0 failures\n",
            "\u001b[92mINFO \u001b[0m:      configure_evaluate: strategy sampled 7 clients (out of 7)\n"
          ]
        },
        {
          "output_type": "stream",
          "name": "stdout",
          "text": [
            "[0.10775525867938995, 0.13984324038028717, 0.11691344529390335, 0.14809252321720123, 0.11554020643234253, 0.11751145124435425, 0.12698379158973694]\n",
            "[4, 4, 4, 4, 4, 4, 4]\n",
            "\u001b[36m(ClientAppActor pid=75191)\u001b[0m Epoch [4/4], Train Loss: 0.1481\u001b[32m [repeated 26x across cluster]\u001b[0m\n"
          ]
        },
        {
          "output_type": "stream",
          "name": "stderr",
          "text": [
            "\u001b[92mINFO \u001b[0m:      aggregate_evaluate: received 7 results and 0 failures\n",
            "\u001b[92mINFO \u001b[0m:      \n",
            "\u001b[92mINFO \u001b[0m:      [ROUND 12]\n",
            "\u001b[92mINFO \u001b[0m:      configure_fit: strategy sampled 7 clients (out of 7)\n"
          ]
        },
        {
          "output_type": "stream",
          "name": "stdout",
          "text": [
            "Client 6 threshold: 0.5048790196961208\n",
            "Client 3 threshold: 0.4986077511824233\n",
            "Client 4 threshold: 0.5075914531510427\n",
            "Client 5 threshold: 0.5118574535084209\n",
            "Client 2 threshold: 0.4976505703991182\n",
            "Client 0 threshold: 0.4998131450449031\n",
            "Client 1 threshold: 0.49702986406817284\n",
            "Lowest validation threshold updated\n",
            "Saving model at round 11\n",
            "\u001b[36m(ClientAppActor pid=75190)\u001b[0m 2000\u001b[32m [repeated 12x across cluster]\u001b[0m\n",
            "\u001b[36m(ClientAppActor pid=75190)\u001b[0m [Client 6] fit, config: {}\u001b[32m [repeated 5x across cluster]\u001b[0m\n",
            "\u001b[36m(ClientAppActor pid=75191)\u001b[0m [Client 1] evaluate, config: {}\u001b[32m [repeated 7x across cluster]\u001b[0m\n",
            "\u001b[36m(ClientAppActor pid=75190)\u001b[0m Epoch [3/4], Train Loss: 0.1241\u001b[32m [repeated 22x across cluster]\u001b[0m\n"
          ]
        },
        {
          "output_type": "stream",
          "name": "stderr",
          "text": [
            "\u001b[92mINFO \u001b[0m:      aggregate_fit: received 7 results and 0 failures\n",
            "\u001b[92mINFO \u001b[0m:      configure_evaluate: strategy sampled 7 clients (out of 7)\n"
          ]
        },
        {
          "output_type": "stream",
          "name": "stdout",
          "text": [
            "[0.14848759770393372, 0.11529862135648727, 0.11685175448656082, 0.11569032073020935, 0.10766028612852097, 0.14289197325706482, 0.1235714852809906]\n",
            "[4, 4, 4, 4, 4, 4, 4]\n",
            "\u001b[36m(ClientAppActor pid=75191)\u001b[0m 2000\u001b[32m [repeated 6x across cluster]\u001b[0m\n",
            "\u001b[36m(ClientAppActor pid=75191)\u001b[0m [Client 5] fit, config: {}\u001b[32m [repeated 3x across cluster]\u001b[0m\n"
          ]
        },
        {
          "output_type": "stream",
          "name": "stderr",
          "text": [
            "\u001b[92mINFO \u001b[0m:      aggregate_evaluate: received 7 results and 0 failures\n",
            "\u001b[92mINFO \u001b[0m:      \n",
            "\u001b[92mINFO \u001b[0m:      [ROUND 13]\n",
            "\u001b[92mINFO \u001b[0m:      configure_fit: strategy sampled 7 clients (out of 7)\n"
          ]
        },
        {
          "output_type": "stream",
          "name": "stdout",
          "text": [
            "Client 3 threshold: 0.4978259591356111\n",
            "Client 0 threshold: 0.49911211542889466\n",
            "Client 6 threshold: 0.50421552858342\n",
            "Client 4 threshold: 0.5069656537630892\n",
            "Client 5 threshold: 0.5112306483815832\n",
            "Client 2 threshold: 0.4969869757420558\n",
            "Client 1 threshold: 0.49636690506810127\n",
            "Lowest validation threshold updated\n",
            "Saving model at round 12\n",
            "\u001b[36m(ClientAppActor pid=75190)\u001b[0m [Client 6] evaluate, config: {}\u001b[32m [repeated 7x across cluster]\u001b[0m\n",
            "\u001b[36m(ClientAppActor pid=75191)\u001b[0m Epoch [3/4], Train Loss: 0.1129\u001b[32m [repeated 11x across cluster]\u001b[0m\n",
            "\u001b[36m(ClientAppActor pid=75190)\u001b[0m 2000\u001b[32m [repeated 8x across cluster]\u001b[0m\n",
            "\u001b[36m(ClientAppActor pid=75190)\u001b[0m [Client 6] fit, config: {}\u001b[32m [repeated 4x across cluster]\u001b[0m\n"
          ]
        },
        {
          "output_type": "stream",
          "name": "stderr",
          "text": [
            "\u001b[92mINFO \u001b[0m:      aggregate_fit: received 7 results and 0 failures\n",
            "\u001b[92mINFO \u001b[0m:      configure_evaluate: strategy sampled 7 clients (out of 7)\n"
          ]
        },
        {
          "output_type": "stream",
          "name": "stdout",
          "text": [
            "[0.11734720319509506, 0.10777509212493896, 0.11550313234329224, 0.11635930836200714, 0.12153279036283493, 0.14409175515174866, 0.14891649782657623]\n",
            "[4, 4, 4, 4, 4, 4, 4]\n",
            "\u001b[36m(ClientAppActor pid=75191)\u001b[0m [Client 1] evaluate, config: {}\n",
            "\u001b[36m(ClientAppActor pid=75191)\u001b[0m Epoch [4/4], Train Loss: 0.1164\u001b[32m [repeated 23x across cluster]\u001b[0m\n"
          ]
        },
        {
          "output_type": "stream",
          "name": "stderr",
          "text": [
            "\u001b[92mINFO \u001b[0m:      aggregate_evaluate: received 7 results and 0 failures\n",
            "\u001b[92mINFO \u001b[0m:      \n",
            "\u001b[92mINFO \u001b[0m:      [ROUND 14]\n",
            "\u001b[92mINFO \u001b[0m:      configure_fit: strategy sampled 7 clients (out of 7)\n"
          ]
        },
        {
          "output_type": "stream",
          "name": "stdout",
          "text": [
            "Client 2 threshold: 0.4962835407490286\n",
            "Client 3 threshold: 0.4969499701048456\n",
            "Client 4 threshold: 0.5063214864401062\n",
            "Client 1 threshold: 0.4957108432052748\n",
            "Client 0 threshold: 0.4984364329732715\n",
            "Client 6 threshold: 0.5035302504387507\n",
            "Client 5 threshold: 0.510558787777104\n",
            "Lowest validation threshold updated\n",
            "Saving model at round 13\n",
            "\u001b[36m(ClientAppActor pid=75190)\u001b[0m 2000\u001b[32m [repeated 12x across cluster]\u001b[0m\n",
            "\u001b[36m(ClientAppActor pid=75190)\u001b[0m [Client 6] fit, config: {}\u001b[32m [repeated 5x across cluster]\u001b[0m\n",
            "\u001b[36m(ClientAppActor pid=75191)\u001b[0m [Client 3] evaluate, config: {}\u001b[32m [repeated 6x across cluster]\u001b[0m\n",
            "\u001b[36m(ClientAppActor pid=75190)\u001b[0m Epoch [3/4], Train Loss: 0.1239\u001b[32m [repeated 22x across cluster]\u001b[0m\n"
          ]
        },
        {
          "output_type": "stream",
          "name": "stderr",
          "text": [
            "\u001b[92mINFO \u001b[0m:      aggregate_fit: received 7 results and 0 failures\n",
            "\u001b[92mINFO \u001b[0m:      configure_evaluate: strategy sampled 7 clients (out of 7)\n"
          ]
        },
        {
          "output_type": "stream",
          "name": "stdout",
          "text": [
            "[0.11797170341014862, 0.11513590067625046, 0.1163051575422287, 0.10763270407915115, 0.14906354248523712, 0.14153559505939484, 0.11906145513057709]\n",
            "[4, 4, 4, 4, 4, 4, 4]\n",
            "\u001b[36m(ClientAppActor pid=75191)\u001b[0m 2000\u001b[32m [repeated 8x across cluster]\u001b[0m\n",
            "\u001b[36m(ClientAppActor pid=75191)\u001b[0m [Client 2] fit, config: {}\u001b[32m [repeated 5x across cluster]\u001b[0m\n"
          ]
        },
        {
          "output_type": "stream",
          "name": "stderr",
          "text": [
            "\u001b[92mINFO \u001b[0m:      aggregate_evaluate: received 7 results and 0 failures\n",
            "\u001b[92mINFO \u001b[0m:      \n",
            "\u001b[92mINFO \u001b[0m:      [ROUND 15]\n",
            "\u001b[92mINFO \u001b[0m:      configure_fit: strategy sampled 7 clients (out of 7)\n"
          ]
        },
        {
          "output_type": "stream",
          "name": "stdout",
          "text": [
            "Client 5 threshold: 0.5098630838267537\n",
            "Client 3 threshold: 0.4961807442078238\n",
            "Client 1 threshold: 0.49493422078481136\n",
            "Client 0 threshold: 0.49773970607915036\n",
            "Client 6 threshold: 0.5028182413605613\n",
            "Client 2 threshold: 0.49557941363845925\n",
            "Client 4 threshold: 0.5056077836100228\n",
            "Lowest validation threshold updated\n",
            "Saving model at round 14\n",
            "\u001b[36m(ClientAppActor pid=75191)\u001b[0m [Client 2] evaluate, config: {}\u001b[32m [repeated 7x across cluster]\u001b[0m\n",
            "\u001b[36m(ClientAppActor pid=75191)\u001b[0m Epoch [4/4], Train Loss: 0.1491\u001b[32m [repeated 13x across cluster]\u001b[0m\n",
            "\u001b[36m(ClientAppActor pid=75190)\u001b[0m 36\u001b[32m [repeated 8x across cluster]\u001b[0m\n",
            "\u001b[36m(ClientAppActor pid=75190)\u001b[0m [Client 3] fit, config: {}\u001b[32m [repeated 4x across cluster]\u001b[0m\n"
          ]
        },
        {
          "output_type": "stream",
          "name": "stderr",
          "text": [
            "\u001b[92mINFO \u001b[0m:      aggregate_fit: received 7 results and 0 failures\n",
            "\u001b[92mINFO \u001b[0m:      configure_evaluate: strategy sampled 7 clients (out of 7)\n"
          ]
        },
        {
          "output_type": "stream",
          "name": "stdout",
          "text": [
            "\u001b[36m(ClientAppActor pid=75191)\u001b[0m Epoch [3/4], Train Loss: 0.1376\u001b[32m [repeated 20x across cluster]\u001b[0m\n",
            "[0.12339252233505249, 0.14910480380058289, 0.11526686698198318, 0.10772400349378586, 0.1151469349861145, 0.1179669201374054, 0.1428479701280594]\n",
            "[4, 4, 4, 4, 4, 4, 4]\n",
            "\u001b[36m(ClientAppActor pid=75191)\u001b[0m [Client 0] evaluate, config: {}\n"
          ]
        },
        {
          "output_type": "stream",
          "name": "stderr",
          "text": [
            "\u001b[92mINFO \u001b[0m:      aggregate_evaluate: received 7 results and 0 failures\n",
            "\u001b[92mINFO \u001b[0m:      \n",
            "\u001b[92mINFO \u001b[0m:      [ROUND 16]\n",
            "\u001b[92mINFO \u001b[0m:      configure_fit: strategy sampled 7 clients (out of 7)\n"
          ]
        },
        {
          "output_type": "stream",
          "name": "stdout",
          "text": [
            "Client 0 threshold: 0.4970247734647037\n",
            "Client 6 threshold: 0.5020778601740886\n",
            "Client 3 threshold: 0.49532327842033225\n",
            "Client 4 threshold: 0.5048700171695486\n",
            "Client 2 threshold: 0.4948530287734044\n",
            "Client 1 threshold: 0.49423824016561896\n",
            "Client 5 threshold: 0.5091380150416476\n",
            "Lowest validation threshold updated\n",
            "Saving model at round 15\n",
            "\u001b[36m(ClientAppActor pid=75190)\u001b[0m 1956\u001b[32m [repeated 12x across cluster]\u001b[0m\n",
            "\u001b[36m(ClientAppActor pid=75190)\u001b[0m [Client 1] fit, config: {}\u001b[32m [repeated 5x across cluster]\u001b[0m\n",
            "\u001b[36m(ClientAppActor pid=75191)\u001b[0m Epoch [3/4], Train Loss: 0.1126\u001b[32m [repeated 22x across cluster]\u001b[0m\n",
            "\u001b[36m(ClientAppActor pid=75191)\u001b[0m [Client 2] evaluate, config: {}\u001b[32m [repeated 6x across cluster]\u001b[0m\n"
          ]
        },
        {
          "output_type": "stream",
          "name": "stderr",
          "text": [
            "\u001b[92mINFO \u001b[0m:      aggregate_fit: received 7 results and 0 failures\n",
            "\u001b[92mINFO \u001b[0m:      configure_evaluate: strategy sampled 7 clients (out of 7)\n"
          ]
        },
        {
          "output_type": "stream",
          "name": "stdout",
          "text": [
            "[0.10768482089042664, 0.11493540555238724, 0.11534836888313293, 0.14927077293395996, 0.11515814810991287, 0.13536593317985535, 0.11768944561481476]\n",
            "[4, 4, 4, 4, 4, 4, 4]\n",
            "\u001b[36m(ClientAppActor pid=75191)\u001b[0m 2000\u001b[32m [repeated 6x across cluster]\u001b[0m\n",
            "\u001b[36m(ClientAppActor pid=75191)\u001b[0m [Client 5] fit, config: {}\u001b[32m [repeated 5x across cluster]\u001b[0m\n"
          ]
        },
        {
          "output_type": "stream",
          "name": "stderr",
          "text": [
            "\u001b[92mINFO \u001b[0m:      aggregate_evaluate: received 7 results and 0 failures\n",
            "\u001b[92mINFO \u001b[0m:      \n",
            "\u001b[92mINFO \u001b[0m:      [ROUND 17]\n",
            "\u001b[92mINFO \u001b[0m:      configure_fit: strategy sampled 7 clients (out of 7)\n"
          ]
        },
        {
          "output_type": "stream",
          "name": "stdout",
          "text": [
            "Client 3 threshold: 0.4945831883833074\n",
            "Client 0 threshold: 0.49628963610268056\n",
            "Client 2 threshold: 0.49415882248024257\n",
            "Client 4 threshold: 0.5041087565835612\n",
            "Client 6 threshold: 0.5013088001122937\n",
            "Client 5 threshold: 0.5083853182165973\n",
            "Client 1 threshold: 0.4934701653803142\n",
            "Lowest validation threshold updated\n",
            "Saving model at round 16\n",
            "\u001b[36m(ClientAppActor pid=75190)\u001b[0m Epoch [1/4], Train Loss: 0.3127\u001b[32m [repeated 17x across cluster]\u001b[0m\n",
            "\u001b[36m(ClientAppActor pid=75191)\u001b[0m [Client 5] evaluate, config: {}\u001b[32m [repeated 7x across cluster]\u001b[0m\n",
            "\u001b[36m(ClientAppActor pid=75190)\u001b[0m 2000\u001b[32m [repeated 10x across cluster]\u001b[0m\n",
            "\u001b[36m(ClientAppActor pid=75190)\u001b[0m [Client 6] fit, config: {}\u001b[32m [repeated 4x across cluster]\u001b[0m\n"
          ]
        },
        {
          "output_type": "stream",
          "name": "stderr",
          "text": [
            "\u001b[92mINFO \u001b[0m:      aggregate_fit: received 7 results and 0 failures\n"
          ]
        },
        {
          "output_type": "stream",
          "name": "stdout",
          "text": [
            "\u001b[36m(ClientAppActor pid=75191)\u001b[0m Epoch [3/4], Train Loss: 0.1557\u001b[32m [repeated 17x across cluster]\u001b[0m\n"
          ]
        },
        {
          "output_type": "stream",
          "name": "stderr",
          "text": [
            "\u001b[92mINFO \u001b[0m:      configure_evaluate: strategy sampled 7 clients (out of 7)\n"
          ]
        },
        {
          "output_type": "stream",
          "name": "stdout",
          "text": [
            "[0.11508861929178238, 0.10764863342046738, 0.13887442648410797, 0.11531954258680344, 0.14943519234657288, 0.11749223619699478, 0.11486556380987167]\n",
            "[4, 4, 4, 4, 4, 4, 4]\n",
            "\u001b[36m(ClientAppActor pid=75191)\u001b[0m [Client 0] evaluate, config: {}\n",
            "\u001b[36m(ClientAppActor pid=75191)\u001b[0m 2000\u001b[32m [repeated 8x across cluster]\u001b[0m\n",
            "\u001b[36m(ClientAppActor pid=75191)\u001b[0m [Client 0] fit, config: {}\u001b[32m [repeated 3x across cluster]\u001b[0m\n"
          ]
        },
        {
          "output_type": "stream",
          "name": "stderr",
          "text": [
            "\u001b[92mINFO \u001b[0m:      aggregate_evaluate: received 7 results and 0 failures\n",
            "\u001b[92mINFO \u001b[0m:      \n",
            "\u001b[92mINFO \u001b[0m:      [ROUND 18]\n",
            "\u001b[92mINFO \u001b[0m:      configure_fit: strategy sampled 7 clients (out of 7)\n"
          ]
        },
        {
          "output_type": "stream",
          "name": "stdout",
          "text": [
            "Client 1 threshold: 0.49272621006704453\n",
            "Client 6 threshold: 0.500511451379433\n",
            "Client 3 threshold: 0.4937485592787349\n",
            "Client 5 threshold: 0.5076021546569763\n",
            "Client 0 threshold: 0.49552924138118565\n",
            "Client 2 threshold: 0.4933788790050397\n",
            "Client 4 threshold: 0.503247433382224\n",
            "Lowest validation threshold updated\n",
            "Saving model at round 17\n",
            "\u001b[36m(ClientAppActor pid=75191)\u001b[0m Epoch [2/4], Train Loss: 0.1676\u001b[32m [repeated 20x across cluster]\u001b[0m\n",
            "\u001b[36m(ClientAppActor pid=75191)\u001b[0m [Client 2] evaluate, config: {}\u001b[32m [repeated 6x across cluster]\u001b[0m\n",
            "\u001b[36m(ClientAppActor pid=75191)\u001b[0m 2000\u001b[32m [repeated 9x across cluster]\u001b[0m\n",
            "\u001b[36m(ClientAppActor pid=75191)\u001b[0m [Client 2] fit, config: {}\u001b[32m [repeated 7x across cluster]\u001b[0m\n"
          ]
        },
        {
          "output_type": "stream",
          "name": "stderr",
          "text": [
            "\u001b[92mINFO \u001b[0m:      aggregate_fit: received 7 results and 0 failures\n",
            "\u001b[92mINFO \u001b[0m:      configure_evaluate: strategy sampled 7 clients (out of 7)\n"
          ]
        },
        {
          "output_type": "stream",
          "name": "stdout",
          "text": [
            "[0.11749481409788132, 0.1074976921081543, 0.1492598056793213, 0.11458724737167358, 0.11549287289381027, 0.1148291677236557, 0.1426728069782257]\n",
            "[4, 4, 4, 4, 4, 4, 4]\n"
          ]
        },
        {
          "output_type": "stream",
          "name": "stderr",
          "text": [
            "\u001b[92mINFO \u001b[0m:      aggregate_evaluate: received 7 results and 0 failures\n",
            "\u001b[92mINFO \u001b[0m:      \n",
            "\u001b[92mINFO \u001b[0m:      [ROUND 19]\n",
            "\u001b[92mINFO \u001b[0m:      configure_fit: strategy sampled 7 clients (out of 7)\n"
          ]
        },
        {
          "output_type": "stream",
          "name": "stdout",
          "text": [
            "Client 0 threshold: 0.49470522053916466\n",
            "Client 1 threshold: 0.49197883155575334\n",
            "Client 5 threshold: 0.506784203276158\n",
            "Client 2 threshold: 0.4925728419284404\n",
            "Client 6 threshold: 0.4996847760445294\n",
            "Client 3 threshold: 0.4929790628393934\n",
            "Client 4 threshold: 0.5024318167258518\n",
            "Lowest validation threshold updated\n",
            "Saving model at round 18\n",
            "\u001b[36m(ClientAppActor pid=75191)\u001b[0m Epoch [3/4], Train Loss: 0.1363\u001b[32m [repeated 22x across cluster]\u001b[0m\n",
            "\u001b[36m(ClientAppActor pid=75191)\u001b[0m [Client 1] evaluate, config: {}\u001b[32m [repeated 7x across cluster]\u001b[0m\n",
            "\u001b[36m(ClientAppActor pid=75190)\u001b[0m 2000\u001b[32m [repeated 13x across cluster]\u001b[0m\n",
            "\u001b[36m(ClientAppActor pid=75190)\u001b[0m [Client 6] fit, config: {}\u001b[32m [repeated 6x across cluster]\u001b[0m\n"
          ]
        },
        {
          "output_type": "stream",
          "name": "stderr",
          "text": [
            "\u001b[92mINFO \u001b[0m:      aggregate_fit: received 7 results and 0 failures\n",
            "\u001b[92mINFO \u001b[0m:      configure_evaluate: strategy sampled 7 clients (out of 7)\n"
          ]
        },
        {
          "output_type": "stream",
          "name": "stdout",
          "text": [
            "[0.11819033324718475, 0.11702611297369003, 0.11517053097486496, 0.10758625715970993, 0.11442692577838898, 0.14905044436454773, 0.14639997482299805]\n",
            "[4, 4, 4, 4, 4, 4, 4]\n",
            "\u001b[36m(ClientAppActor pid=75191)\u001b[0m Epoch [4/4], Train Loss: 0.1144\u001b[32m [repeated 15x across cluster]\u001b[0m\n"
          ]
        },
        {
          "output_type": "stream",
          "name": "stderr",
          "text": [
            "\u001b[92mINFO \u001b[0m:      aggregate_evaluate: received 7 results and 0 failures\n",
            "\u001b[92mINFO \u001b[0m:      \n",
            "\u001b[92mINFO \u001b[0m:      [ROUND 20]\n",
            "\u001b[92mINFO \u001b[0m:      configure_fit: strategy sampled 7 clients (out of 7)\n"
          ]
        },
        {
          "output_type": "stream",
          "name": "stdout",
          "text": [
            "Client 1 threshold: 0.49115189021242583\n",
            "Client 4 threshold: 0.5015665363084583\n",
            "Client 0 threshold: 0.49388768591837223\n",
            "Client 3 threshold: 0.4922738243379456\n",
            "Client 6 threshold: 0.4988266071419595\n",
            "Client 5 threshold: 0.5059300859832473\n",
            "Client 2 threshold: 0.49173850076968456\n",
            "Lowest validation threshold updated\n",
            "Saving model at round 19\n",
            "\u001b[36m(ClientAppActor pid=75190)\u001b[0m [Client 6] evaluate, config: {}\u001b[32m [repeated 7x across cluster]\u001b[0m\n",
            "\u001b[36m(ClientAppActor pid=75191)\u001b[0m 2000\u001b[32m [repeated 10x across cluster]\u001b[0m\n",
            "\u001b[36m(ClientAppActor pid=75191)\u001b[0m [Client 0] fit, config: {}\u001b[32m [repeated 3x across cluster]\u001b[0m\n",
            "\u001b[36m(ClientAppActor pid=75191)\u001b[0m Epoch [4/4], Train Loss: 0.1137\u001b[32m [repeated 16x across cluster]\u001b[0m\n",
            "\u001b[36m(ClientAppActor pid=75190)\u001b[0m 2000\u001b[32m [repeated 5x across cluster]\u001b[0m\n",
            "\u001b[36m(ClientAppActor pid=75190)\u001b[0m [Client 4] fit, config: {}\u001b[32m [repeated 5x across cluster]\u001b[0m\n"
          ]
        },
        {
          "output_type": "stream",
          "name": "stderr",
          "text": [
            "\u001b[92mINFO \u001b[0m:      aggregate_fit: received 7 results and 0 failures\n",
            "\u001b[92mINFO \u001b[0m:      configure_evaluate: strategy sampled 7 clients (out of 7)\n"
          ]
        },
        {
          "output_type": "stream",
          "name": "stdout",
          "text": [
            "[0.10746866464614868, 0.14631718397140503, 0.11685917526483536, 0.11398439854383469, 0.14842413365840912, 0.11366996169090271, 0.11494468152523041]\n",
            "[4, 4, 4, 4, 4, 4, 4]\n",
            "\u001b[36m(ClientAppActor pid=75190)\u001b[0m [Client 5] evaluate, config: {}\n"
          ]
        },
        {
          "output_type": "stream",
          "name": "stderr",
          "text": [
            "\u001b[92mINFO \u001b[0m:      aggregate_evaluate: received 7 results and 0 failures\n",
            "\u001b[92mINFO \u001b[0m:      \n",
            "\u001b[92mINFO \u001b[0m:      [ROUND 21]\n",
            "\u001b[92mINFO \u001b[0m:      configure_fit: strategy sampled 7 clients (out of 7)\n"
          ]
        },
        {
          "output_type": "stream",
          "name": "stdout",
          "text": [
            "Client 5 threshold: 0.5050382782853159\n",
            "Client 6 threshold: 0.4979311521941778\n",
            "Client 4 threshold: 0.5006450792683013\n",
            "Client 1 threshold: 0.49029756079439085\n",
            "Client 0 threshold: 0.49302665453271755\n",
            "Client 3 threshold: 0.4914656500352167\n",
            "Client 2 threshold: 0.49087146175897384\n",
            "Lowest validation threshold updated\n",
            "Saving model at round 20\n",
            "\u001b[36m(ClientAppActor pid=75191)\u001b[0m Epoch [1/4], Train Loss: 0.3119\u001b[32m [repeated 22x across cluster]\u001b[0m\n",
            "\u001b[36m(ClientAppActor pid=75191)\u001b[0m 2000\u001b[32m [repeated 13x across cluster]\u001b[0m\n",
            "\u001b[36m(ClientAppActor pid=75191)\u001b[0m [Client 0] fit, config: {}\u001b[32m [repeated 6x across cluster]\u001b[0m\n",
            "\u001b[36m(ClientAppActor pid=75190)\u001b[0m [Client 4] evaluate, config: {}\u001b[32m [repeated 6x across cluster]\u001b[0m\n"
          ]
        },
        {
          "output_type": "stream",
          "name": "stderr",
          "text": [
            "\u001b[92mINFO \u001b[0m:      aggregate_fit: received 7 results and 0 failures\n",
            "\u001b[92mINFO \u001b[0m:      configure_evaluate: strategy sampled 7 clients (out of 7)\n"
          ]
        },
        {
          "output_type": "stream",
          "name": "stdout",
          "text": [
            "[0.14823567867279053, 0.11451036483049393, 0.11687944084405899, 0.11369750648736954, 0.14400914311408997, 0.10743200778961182, 0.11565735191106796]\n",
            "[4, 4, 4, 4, 4, 4, 4]\n"
          ]
        },
        {
          "output_type": "stream",
          "name": "stderr",
          "text": [
            "\u001b[92mINFO \u001b[0m:      aggregate_evaluate: received 7 results and 0 failures\n",
            "\u001b[92mINFO \u001b[0m:      \n",
            "\u001b[92mINFO \u001b[0m:      [ROUND 22]\n",
            "\u001b[92mINFO \u001b[0m:      configure_fit: strategy sampled 7 clients (out of 7)\n"
          ]
        },
        {
          "output_type": "stream",
          "name": "stdout",
          "text": [
            "Client 6 threshold: 0.4969908020187743\n",
            "Client 5 threshold: 0.5041325269178438\n",
            "Client 1 threshold: 0.48941394739670974\n",
            "Client 3 threshold: 0.4906442322069485\n",
            "Client 2 threshold: 0.48998857739016083\n",
            "Client 4 threshold: 0.49974089880220846\n",
            "Client 0 threshold: 0.4921545631959445\n",
            "Lowest validation threshold updated\n",
            "Saving model at round 21\n",
            "\u001b[36m(ClientAppActor pid=75190)\u001b[0m Epoch [1/4], Train Loss: 0.3072\u001b[32m [repeated 19x across cluster]\u001b[0m\n",
            "\u001b[36m(ClientAppActor pid=75190)\u001b[0m 2000\u001b[32m [repeated 10x across cluster]\u001b[0m\n",
            "\u001b[36m(ClientAppActor pid=75190)\u001b[0m [Client 4] fit, config: {}\u001b[32m [repeated 3x across cluster]\u001b[0m\n",
            "\u001b[36m(ClientAppActor pid=75191)\u001b[0m [Client 3] evaluate, config: {}\u001b[32m [repeated 7x across cluster]\u001b[0m\n",
            "\u001b[36m(ClientAppActor pid=75190)\u001b[0m Epoch [1/4], Train Loss: 0.2975\u001b[32m [repeated 16x across cluster]\u001b[0m\n",
            "\u001b[36m(ClientAppActor pid=75191)\u001b[0m 2000\u001b[32m [repeated 4x across cluster]\u001b[0m\n",
            "\u001b[36m(ClientAppActor pid=75191)\u001b[0m [Client 6] fit, config: {}\u001b[32m [repeated 4x across cluster]\u001b[0m\n"
          ]
        },
        {
          "output_type": "stream",
          "name": "stderr",
          "text": [
            "\u001b[92mINFO \u001b[0m:      aggregate_fit: received 7 results and 0 failures\n",
            "\u001b[92mINFO \u001b[0m:      configure_evaluate: strategy sampled 7 clients (out of 7)\n"
          ]
        },
        {
          "output_type": "stream",
          "name": "stdout",
          "text": [
            "[0.1136440858244896, 0.14793048799037933, 0.11769377440214157, 0.11364277452230453, 0.10744492709636688, 0.13985687494277954, 0.11344975978136063]\n",
            "[4, 4, 4, 4, 4, 4, 4]\n",
            "\u001b[36m(ClientAppActor pid=75190)\u001b[0m [Client 2] evaluate, config: {}\n"
          ]
        },
        {
          "output_type": "stream",
          "name": "stderr",
          "text": [
            "\u001b[92mINFO \u001b[0m:      aggregate_evaluate: received 7 results and 0 failures\n",
            "\u001b[92mINFO \u001b[0m:      \n",
            "\u001b[92mINFO \u001b[0m:      [ROUND 23]\n",
            "\u001b[92mINFO \u001b[0m:      configure_fit: strategy sampled 7 clients (out of 7)\n"
          ]
        },
        {
          "output_type": "stream",
          "name": "stdout",
          "text": [
            "Client 1 threshold: 0.48849845134622527\n",
            "Client 3 threshold: 0.48978464705455055\n",
            "Client 4 threshold: 0.4987999750525453\n",
            "Client 5 threshold: 0.5031447529310463\n",
            "Client 2 threshold: 0.4890323630470946\n",
            "Client 0 threshold: 0.49113666194494005\n",
            "Client 6 threshold: 0.4959626129418982\n",
            "Lowest validation threshold updated\n",
            "Saving model at round 22\n",
            "\u001b[36m(ClientAppActor pid=75191)\u001b[0m Epoch [4/4], Train Loss: 0.1135\u001b[32m [repeated 19x across cluster]\u001b[0m\n",
            "\u001b[36m(ClientAppActor pid=75191)\u001b[0m 2000\u001b[32m [repeated 12x across cluster]\u001b[0m\n",
            "\u001b[36m(ClientAppActor pid=75191)\u001b[0m [Client 4] fit, config: {}\u001b[32m [repeated 5x across cluster]\u001b[0m\n",
            "\u001b[36m(ClientAppActor pid=75190)\u001b[0m [Client 1] evaluate, config: {}\u001b[32m [repeated 6x across cluster]\u001b[0m\n"
          ]
        },
        {
          "output_type": "stream",
          "name": "stderr",
          "text": [
            "\u001b[92mINFO \u001b[0m:      aggregate_fit: received 7 results and 0 failures\n",
            "\u001b[92mINFO \u001b[0m:      configure_evaluate: strategy sampled 7 clients (out of 7)\n"
          ]
        },
        {
          "output_type": "stream",
          "name": "stdout",
          "text": [
            "[0.11364017426967621, 0.14203420281410217, 0.10735142230987549, 0.14756228029727936, 0.11353360116481781, 0.11612191796302795, 0.11745263636112213]\n",
            "[4, 4, 4, 4, 4, 4, 4]\n"
          ]
        },
        {
          "output_type": "stream",
          "name": "stderr",
          "text": [
            "\u001b[92mINFO \u001b[0m:      aggregate_evaluate: received 7 results and 0 failures\n",
            "\u001b[92mINFO \u001b[0m:      \n",
            "\u001b[92mINFO \u001b[0m:      [ROUND 24]\n",
            "\u001b[92mINFO \u001b[0m:      configure_fit: strategy sampled 7 clients (out of 7)\n"
          ]
        },
        {
          "output_type": "stream",
          "name": "stdout",
          "text": [
            "Client 3 threshold: 0.48893233311086265\n",
            "Client 5 threshold: 0.5021043396545986\n",
            "Client 2 threshold: 0.488060827580534\n",
            "Client 1 threshold: 0.4875262211523898\n",
            "Client 6 threshold: 0.49492992200188696\n",
            "Client 0 threshold: 0.4902057703023516\n",
            "Client 4 threshold: 0.49779714138117614\n",
            "Lowest validation threshold updated\n",
            "Saving model at round 23\n",
            "\u001b[36m(ClientAppActor pid=75191)\u001b[0m Epoch [1/4], Train Loss: 0.2905\u001b[32m [repeated 21x across cluster]\u001b[0m\n",
            "\u001b[36m(ClientAppActor pid=75191)\u001b[0m 2000\u001b[32m [repeated 13x across cluster]\u001b[0m\n",
            "\u001b[36m(ClientAppActor pid=75191)\u001b[0m [Client 5] fit, config: {}\u001b[32m [repeated 6x across cluster]\u001b[0m\n",
            "\u001b[36m(ClientAppActor pid=75190)\u001b[0m [Client 4] evaluate, config: {}\u001b[32m [repeated 7x across cluster]\u001b[0m\n",
            "\u001b[36m(ClientAppActor pid=75190)\u001b[0m Epoch [2/4], Train Loss: 0.1300\u001b[32m [repeated 19x across cluster]\u001b[0m\n",
            "\u001b[36m(ClientAppActor pid=75191)\u001b[0m 2000\u001b[32m [repeated 4x across cluster]\u001b[0m\n",
            "\u001b[36m(ClientAppActor pid=75191)\u001b[0m [Client 6] fit, config: {}\u001b[32m [repeated 4x across cluster]\u001b[0m\n"
          ]
        },
        {
          "output_type": "stream",
          "name": "stderr",
          "text": [
            "\u001b[92mINFO \u001b[0m:      aggregate_fit: received 7 results and 0 failures\n",
            "\u001b[92mINFO \u001b[0m:      configure_evaluate: strategy sampled 7 clients (out of 7)\n"
          ]
        },
        {
          "output_type": "stream",
          "name": "stdout",
          "text": [
            "[0.14694547653198242, 0.10731839388608932, 0.11338108777999878, 0.11391579359769821, 0.11658203601837158, 0.11762693524360657, 0.1420944482088089]\n",
            "[4, 4, 4, 4, 4, 4, 4]\n",
            "\u001b[36m(ClientAppActor pid=75191)\u001b[0m [Client 5] evaluate, config: {}\n"
          ]
        },
        {
          "output_type": "stream",
          "name": "stderr",
          "text": [
            "\u001b[92mINFO \u001b[0m:      aggregate_evaluate: received 7 results and 0 failures\n",
            "\u001b[92mINFO \u001b[0m:      \n",
            "\u001b[92mINFO \u001b[0m:      [ROUND 25]\n",
            "\u001b[92mINFO \u001b[0m:      configure_fit: strategy sampled 7 clients (out of 7)\n"
          ]
        },
        {
          "output_type": "stream",
          "name": "stdout",
          "text": [
            "Client 2 threshold: 0.48701447815286014\n",
            "Client 6 threshold: 0.49374782502575937\n",
            "Client 3 threshold: 0.4880649800328141\n",
            "Client 5 threshold: 0.5010094726550907\n",
            "Client 1 threshold: 0.4865199898673979\n",
            "Client 0 threshold: 0.48921718906719996\n",
            "Client 4 threshold: 0.4967821849067361\n",
            "Lowest validation threshold updated\n",
            "Saving model at round 24\n",
            "\u001b[36m(ClientAppActor pid=75190)\u001b[0m Epoch [2/4], Train Loss: 0.1665\u001b[32m [repeated 11x across cluster]\u001b[0m\n",
            "\u001b[36m(ClientAppActor pid=75191)\u001b[0m 2000\u001b[32m [repeated 11x across cluster]\u001b[0m\n",
            "\u001b[36m(ClientAppActor pid=75190)\u001b[0m [Client 0] fit, config: {}\u001b[32m [repeated 3x across cluster]\u001b[0m\n",
            "\u001b[36m(ClientAppActor pid=75190)\u001b[0m [Client 1] evaluate, config: {}\u001b[32m [repeated 6x across cluster]\u001b[0m\n"
          ]
        },
        {
          "output_type": "stream",
          "name": "stderr",
          "text": [
            "\u001b[92mINFO \u001b[0m:      aggregate_fit: received 7 results and 0 failures\n",
            "\u001b[92mINFO \u001b[0m:      configure_evaluate: strategy sampled 7 clients (out of 7)\n"
          ]
        },
        {
          "output_type": "stream",
          "name": "stdout",
          "text": [
            "[0.14134645462036133, 0.1132211834192276, 0.14652664959430695, 0.11374358832836151, 0.11710139364004135, 0.10721632093191147, 0.1175055280327797]\n",
            "[4, 4, 4, 4, 4, 4, 4]\n",
            "\u001b[36m(ClientAppActor pid=75190)\u001b[0m Epoch [4/4], Train Loss: 0.1137\u001b[32m [repeated 25x across cluster]\u001b[0m\n"
          ]
        },
        {
          "output_type": "stream",
          "name": "stderr",
          "text": [
            "\u001b[92mINFO \u001b[0m:      aggregate_evaluate: received 7 results and 0 failures\n",
            "\u001b[92mINFO \u001b[0m:      \n",
            "\u001b[92mINFO \u001b[0m:      [ROUND 26]\n",
            "\u001b[92mINFO \u001b[0m:      configure_fit: strategy sampled 7 clients (out of 7)\n"
          ]
        },
        {
          "output_type": "stream",
          "name": "stdout",
          "text": [
            "Client 0 threshold: 0.48820286369388666\n",
            "Client 6 threshold: 0.49259406254836413\n",
            "Client 1 threshold: 0.48554699843561006\n",
            "Client 5 threshold: 0.49984189980469784\n",
            "Client 2 threshold: 0.4858610000999828\n",
            "Client 3 threshold: 0.4872931285516016\n",
            "Client 4 threshold: 0.4957481418751162\n",
            "Lowest validation threshold updated\n",
            "Saving model at round 25\n",
            "\u001b[36m(ClientAppActor pid=75191)\u001b[0m 2000\u001b[32m [repeated 12x across cluster]\u001b[0m\n",
            "\u001b[36m(ClientAppActor pid=75190)\u001b[0m [Client 3] fit, config: {}\u001b[32m [repeated 6x across cluster]\u001b[0m\n",
            "\u001b[36m(ClientAppActor pid=75190)\u001b[0m [Client 1] evaluate, config: {}\u001b[32m [repeated 7x across cluster]\u001b[0m\n",
            "\u001b[36m(ClientAppActor pid=75190)\u001b[0m Epoch [3/4], Train Loss: 0.1351\u001b[32m [repeated 22x across cluster]\u001b[0m\n"
          ]
        },
        {
          "output_type": "stream",
          "name": "stderr",
          "text": [
            "\u001b[92mINFO \u001b[0m:      aggregate_fit: received 7 results and 0 failures\n",
            "\u001b[92mINFO \u001b[0m:      configure_evaluate: strategy sampled 7 clients (out of 7)\n"
          ]
        },
        {
          "output_type": "stream",
          "name": "stdout",
          "text": [
            "[0.10720357298851013, 0.11243182420730591, 0.1173836886882782, 0.11256635189056396, 0.13970795273780823, 0.1167755275964737, 0.14603103697299957]\n",
            "[4, 4, 4, 4, 4, 4, 4]\n",
            "\u001b[36m(ClientAppActor pid=75191)\u001b[0m 2000\u001b[32m [repeated 5x across cluster]\u001b[0m\n",
            "\u001b[36m(ClientAppActor pid=75191)\u001b[0m [Client 2] fit, config: {}\u001b[32m [repeated 5x across cluster]\u001b[0m\n",
            "\u001b[36m(ClientAppActor pid=75190)\u001b[0m [Client 6] evaluate, config: {}\u001b[32m [repeated 4x across cluster]\u001b[0m\n"
          ]
        },
        {
          "output_type": "stream",
          "name": "stderr",
          "text": [
            "\u001b[92mINFO \u001b[0m:      aggregate_evaluate: received 7 results and 0 failures\n",
            "\u001b[92mINFO \u001b[0m:      \n",
            "\u001b[92mINFO \u001b[0m:      [ROUND 27]\n",
            "\u001b[92mINFO \u001b[0m:      configure_fit: strategy sampled 7 clients (out of 7)\n"
          ]
        },
        {
          "output_type": "stream",
          "name": "stdout",
          "text": [
            "Client 2 threshold: 0.4846765206183038\n",
            "Client 4 threshold: 0.4946201099364761\n",
            "Client 3 threshold: 0.4863697835524202\n",
            "Client 0 threshold: 0.48719313317194674\n",
            "Client 6 threshold: 0.49137054101717914\n",
            "Client 1 threshold: 0.48447897969759013\n",
            "Client 5 threshold: 0.49860783268872344\n",
            "Lowest validation threshold updated\n",
            "Saving model at round 26\n",
            "\u001b[36m(ClientAppActor pid=75191)\u001b[0m Epoch [3/4], Train Loss: 0.1215\u001b[32m [repeated 11x across cluster]\u001b[0m\n",
            "\u001b[36m(ClientAppActor pid=75190)\u001b[0m 2000\u001b[32m [repeated 11x across cluster]\u001b[0m\n",
            "\u001b[36m(ClientAppActor pid=75190)\u001b[0m [Client 0] fit, config: {}\u001b[32m [repeated 4x across cluster]\u001b[0m\n",
            "\u001b[36m(ClientAppActor pid=75191)\u001b[0m [Client 3] evaluate, config: {}\u001b[32m [repeated 3x across cluster]\u001b[0m\n"
          ]
        },
        {
          "output_type": "stream",
          "name": "stderr",
          "text": [
            "\u001b[92mINFO \u001b[0m:      aggregate_fit: received 7 results and 0 failures\n",
            "\u001b[92mINFO \u001b[0m:      configure_evaluate: strategy sampled 7 clients (out of 7)\n"
          ]
        },
        {
          "output_type": "stream",
          "name": "stdout",
          "text": [
            "[0.11499783396720886, 0.1458446979522705, 0.13801780343055725, 0.11243880540132523, 0.11224249005317688, 0.11713016033172607, 0.10717256367206573]\n",
            "[4, 4, 4, 4, 4, 4, 4]\n"
          ]
        },
        {
          "output_type": "stream",
          "name": "stderr",
          "text": [
            "\u001b[92mINFO \u001b[0m:      aggregate_evaluate: received 7 results and 0 failures\n",
            "\u001b[92mINFO \u001b[0m:      \n",
            "\u001b[92mINFO \u001b[0m:      [ROUND 28]\n",
            "\u001b[92mINFO \u001b[0m:      configure_fit: strategy sampled 7 clients (out of 7)\n"
          ]
        },
        {
          "output_type": "stream",
          "name": "stdout",
          "text": [
            "\u001b[36m(ClientAppActor pid=75191)\u001b[0m Epoch [4/4], Train Loss: 0.1072\u001b[32m [repeated 23x across cluster]\u001b[0m\n",
            "Client 6 threshold: 0.49002538526243883\n",
            "Client 1 threshold: 0.4834001246875693\n",
            "Client 0 threshold: 0.4861624397155779\n",
            "Client 2 threshold: 0.483497106544995\n",
            "Client 5 threshold: 0.4973168971900167\n",
            "Client 4 threshold: 0.4934606791510929\n",
            "Client 3 threshold: 0.48525576446494834\n",
            "Lowest validation threshold updated\n",
            "Saving model at round 27\n",
            "\u001b[36m(ClientAppActor pid=75190)\u001b[0m 2000\u001b[32m [repeated 12x across cluster]\u001b[0m\n",
            "\u001b[36m(ClientAppActor pid=75190)\u001b[0m [Client 4] fit, config: {}\u001b[32m [repeated 5x across cluster]\u001b[0m\n",
            "\u001b[36m(ClientAppActor pid=75191)\u001b[0m [Client 0] evaluate, config: {}\u001b[32m [repeated 7x across cluster]\u001b[0m\n",
            "\u001b[36m(ClientAppActor pid=75190)\u001b[0m Epoch [4/4], Train Loss: 0.1070\u001b[32m [repeated 24x across cluster]\u001b[0m\n"
          ]
        },
        {
          "output_type": "stream",
          "name": "stderr",
          "text": [
            "\u001b[92mINFO \u001b[0m:      aggregate_fit: received 7 results and 0 failures\n",
            "\u001b[92mINFO \u001b[0m:      configure_evaluate: strategy sampled 7 clients (out of 7)\n"
          ]
        },
        {
          "output_type": "stream",
          "name": "stdout",
          "text": [
            "[0.11449827998876572, 0.11721938103437424, 0.13919208943843842, 0.10695042461156845, 0.14583604037761688, 0.11180270463228226, 0.11194165796041489]\n",
            "[4, 4, 4, 4, 4, 4, 4]\n",
            "\u001b[36m(ClientAppActor pid=75191)\u001b[0m 2000\u001b[32m [repeated 8x across cluster]\u001b[0m\n",
            "\u001b[36m(ClientAppActor pid=75191)\u001b[0m [Client 1] fit, config: {}\u001b[32m [repeated 5x across cluster]\u001b[0m\n"
          ]
        },
        {
          "output_type": "stream",
          "name": "stderr",
          "text": [
            "\u001b[92mINFO \u001b[0m:      aggregate_evaluate: received 7 results and 0 failures\n",
            "\u001b[92mINFO \u001b[0m:      \n",
            "\u001b[92mINFO \u001b[0m:      [ROUND 29]\n",
            "\u001b[92mINFO \u001b[0m:      configure_fit: strategy sampled 7 clients (out of 7)\n"
          ]
        },
        {
          "output_type": "stream",
          "name": "stdout",
          "text": [
            "Client 6 threshold: 0.4886301268011842\n",
            "Client 4 threshold: 0.49223814000593225\n",
            "Client 5 threshold: 0.49596279539043564\n",
            "Client 2 threshold: 0.4822427697463725\n",
            "Client 1 threshold: 0.4823293996128729\n",
            "Client 0 threshold: 0.48494144289031205\n",
            "Client 3 threshold: 0.48413335705326865\n",
            "Lowest validation threshold updated\n",
            "Saving model at round 28\n",
            "\u001b[36m(ClientAppActor pid=75191)\u001b[0m [Client 5] evaluate, config: {}\u001b[32m [repeated 7x across cluster]\u001b[0m\n",
            "\u001b[36m(ClientAppActor pid=75191)\u001b[0m Epoch [1/4], Train Loss: 0.2743\u001b[32m [repeated 13x across cluster]\u001b[0m\n",
            "\u001b[36m(ClientAppActor pid=75190)\u001b[0m 2000\u001b[32m [repeated 8x across cluster]\u001b[0m\n",
            "\u001b[36m(ClientAppActor pid=75190)\u001b[0m [Client 5] fit, config: {}\u001b[32m [repeated 4x across cluster]\u001b[0m\n"
          ]
        },
        {
          "output_type": "stream",
          "name": "stderr",
          "text": [
            "\u001b[92mINFO \u001b[0m:      aggregate_fit: received 7 results and 0 failures\n",
            "\u001b[92mINFO \u001b[0m:      configure_evaluate: strategy sampled 7 clients (out of 7)\n"
          ]
        },
        {
          "output_type": "stream",
          "name": "stdout",
          "text": [
            "[0.13608242571353912, 0.10692295432090759, 0.11179649829864502, 0.11605851352214813, 0.11283525824546814, 0.1456652134656906, 0.11243589222431183]\n",
            "[4, 4, 4, 4, 4, 4, 4]\n",
            "\u001b[36m(ClientAppActor pid=75190)\u001b[0m [Client 4] evaluate, config: {}\n",
            "\u001b[36m(ClientAppActor pid=75190)\u001b[0m Epoch [4/4], Train Loss: 0.1161\u001b[32m [repeated 19x across cluster]\u001b[0m\n"
          ]
        },
        {
          "output_type": "stream",
          "name": "stderr",
          "text": [
            "\u001b[92mINFO \u001b[0m:      aggregate_evaluate: received 7 results and 0 failures\n",
            "\u001b[92mINFO \u001b[0m:      \n",
            "\u001b[92mINFO \u001b[0m:      [ROUND 30]\n",
            "\u001b[92mINFO \u001b[0m:      configure_fit: strategy sampled 7 clients (out of 7)\n"
          ]
        },
        {
          "output_type": "stream",
          "name": "stdout",
          "text": [
            "Client 5 threshold: 0.4945313339057592\n",
            "Client 6 threshold: 0.48714671581585506\n",
            "Client 4 threshold: 0.4909438625703876\n",
            "Client 3 threshold: 0.48292547974809535\n",
            "Client 0 threshold: 0.483785251597432\n",
            "Client 2 threshold: 0.4810064118781593\n",
            "Client 1 threshold: 0.48119353511629703\n",
            "Lowest validation threshold updated\n",
            "Saving model at round 29\n",
            "\u001b[36m(ClientAppActor pid=75191)\u001b[0m 2000\u001b[32m [repeated 12x across cluster]\u001b[0m\n",
            "\u001b[36m(ClientAppActor pid=75190)\u001b[0m [Client 1] fit, config: {}\u001b[32m [repeated 5x across cluster]\u001b[0m\n",
            "\u001b[36m(ClientAppActor pid=75190)\u001b[0m [Client 3] evaluate, config: {}\u001b[32m [repeated 6x across cluster]\u001b[0m\n",
            "\u001b[36m(ClientAppActor pid=75190)\u001b[0m Epoch [1/4], Train Loss: 0.2913\u001b[32m [repeated 25x across cluster]\u001b[0m\n"
          ]
        },
        {
          "output_type": "stream",
          "name": "stderr",
          "text": [
            "\u001b[92mINFO \u001b[0m:      aggregate_fit: received 7 results and 0 failures\n",
            "\u001b[92mINFO \u001b[0m:      configure_evaluate: strategy sampled 7 clients (out of 7)\n"
          ]
        },
        {
          "output_type": "stream",
          "name": "stdout",
          "text": [
            "[0.11211469769477844, 0.10699427872896194, 0.1166006475687027, 0.13458579778671265, 0.11121714115142822, 0.11543916910886765, 0.14532354474067688]\n",
            "[4, 4, 4, 4, 4, 4, 4]\n",
            "\u001b[36m(ClientAppActor pid=75190)\u001b[0m 2000\u001b[32m [repeated 10x across cluster]\u001b[0m\n",
            "\u001b[36m(ClientAppActor pid=75190)\u001b[0m [Client 0] fit, config: {}\u001b[32m [repeated 5x across cluster]\u001b[0m\n"
          ]
        },
        {
          "output_type": "stream",
          "name": "stderr",
          "text": [
            "\u001b[92mINFO \u001b[0m:      aggregate_evaluate: received 7 results and 0 failures\n",
            "\u001b[92mINFO \u001b[0m:      \n",
            "\u001b[92mINFO \u001b[0m:      [ROUND 31]\n",
            "\u001b[92mINFO \u001b[0m:      configure_fit: strategy sampled 7 clients (out of 7)\n"
          ]
        },
        {
          "output_type": "stream",
          "name": "stdout",
          "text": [
            "Client 0 threshold: 0.4824408378242624\n",
            "Client 2 threshold: 0.4796818545013427\n",
            "Client 1 threshold: 0.4800772973366116\n",
            "Client 3 threshold: 0.4816020733346852\n",
            "Client 6 threshold: 0.48557061216470815\n",
            "Client 5 threshold: 0.49300718157974577\n",
            "Client 4 threshold: 0.4894798462172276\n",
            "Lowest validation threshold updated\n",
            "Saving model at round 30\n",
            "\u001b[36m(ClientAppActor pid=75190)\u001b[0m [Client 6] evaluate, config: {}\u001b[32m [repeated 7x across cluster]\u001b[0m\n",
            "\u001b[36m(ClientAppActor pid=75190)\u001b[0m Epoch [3/4], Train Loss: 0.1349\u001b[32m [repeated 16x across cluster]\u001b[0m\n",
            "\u001b[36m(ClientAppActor pid=75191)\u001b[0m 2000\u001b[32m [repeated 8x across cluster]\u001b[0m\n",
            "\u001b[36m(ClientAppActor pid=75191)\u001b[0m [Client 0] fit, config: {}\u001b[32m [repeated 6x across cluster]\u001b[0m\n"
          ]
        },
        {
          "output_type": "stream",
          "name": "stderr",
          "text": [
            "\u001b[92mINFO \u001b[0m:      aggregate_fit: received 7 results and 0 failures\n",
            "\u001b[92mINFO \u001b[0m:      configure_evaluate: strategy sampled 7 clients (out of 7)\n"
          ]
        },
        {
          "output_type": "stream",
          "name": "stdout",
          "text": [
            "[0.11053688824176788, 0.11609575897455215, 0.1382003277540207, 0.11195944249629974, 0.11510893702507019, 0.10696674883365631, 0.14548449218273163]\n",
            "[4, 4, 4, 4, 4, 4, 4]\n",
            "\u001b[36m(ClientAppActor pid=75190)\u001b[0m [Client 0] evaluate, config: {}\n",
            "\u001b[36m(ClientAppActor pid=75190)\u001b[0m Epoch [4/4], Train Loss: 0.1120\u001b[32m [repeated 15x across cluster]\u001b[0m\n"
          ]
        },
        {
          "output_type": "stream",
          "name": "stderr",
          "text": [
            "\u001b[92mINFO \u001b[0m:      aggregate_evaluate: received 7 results and 0 failures\n",
            "\u001b[92mINFO \u001b[0m:      \n",
            "\u001b[92mINFO \u001b[0m:      [ROUND 32]\n",
            "\u001b[92mINFO \u001b[0m:      configure_fit: strategy sampled 7 clients (out of 7)\n"
          ]
        },
        {
          "output_type": "stream",
          "name": "stdout",
          "text": [
            "Client 5 threshold: 0.4914508072375082\n",
            "Client 0 threshold: 0.4810996703728964\n",
            "Client 1 threshold: 0.4787403095039987\n",
            "Client 6 threshold: 0.4838658085977458\n",
            "Client 2 threshold: 0.478274638757586\n",
            "Client 4 threshold: 0.4881013061183827\n",
            "Client 3 threshold: 0.48041885599579065\n",
            "Lowest validation threshold updated\n",
            "Saving model at round 31\n",
            "\u001b[36m(ClientAppActor pid=75191)\u001b[0m 2000\u001b[32m [repeated 10x across cluster]\u001b[0m\n",
            "\u001b[36m(ClientAppActor pid=75190)\u001b[0m [Client 3] fit, config: {}\u001b[32m [repeated 3x across cluster]\u001b[0m\n",
            "\u001b[36m(ClientAppActor pid=75190)\u001b[0m [Client 6] evaluate, config: {}\u001b[32m [repeated 6x across cluster]\u001b[0m\n",
            "\u001b[36m(ClientAppActor pid=75190)\u001b[0m Epoch [4/4], Train Loss: 0.1351\u001b[32m [repeated 24x across cluster]\u001b[0m\n"
          ]
        },
        {
          "output_type": "stream",
          "name": "stderr",
          "text": [
            "\u001b[92mINFO \u001b[0m:      aggregate_fit: received 7 results and 0 failures\n",
            "\u001b[92mINFO \u001b[0m:      configure_evaluate: strategy sampled 7 clients (out of 7)\n"
          ]
        },
        {
          "output_type": "stream",
          "name": "stdout",
          "text": [
            "[0.1351161152124405, 0.11350119858980179, 0.14498783648014069, 0.11071272194385529, 0.10652285069227219, 0.10998889803886414, 0.11163368076086044]\n",
            "[4, 4, 4, 4, 4, 4, 4]\n",
            "\u001b[36m(ClientAppActor pid=75190)\u001b[0m 2000\u001b[32m [repeated 8x across cluster]\u001b[0m\n",
            "\u001b[36m(ClientAppActor pid=75190)\u001b[0m [Client 4] fit, config: {}\u001b[32m [repeated 5x across cluster]\u001b[0m\n"
          ]
        },
        {
          "output_type": "stream",
          "name": "stderr",
          "text": [
            "\u001b[92mINFO \u001b[0m:      aggregate_evaluate: received 7 results and 0 failures\n",
            "\u001b[92mINFO \u001b[0m:      \n",
            "\u001b[92mINFO \u001b[0m:      [ROUND 33]\n",
            "\u001b[92mINFO \u001b[0m:      configure_fit: strategy sampled 7 clients (out of 7)\n"
          ]
        },
        {
          "output_type": "stream",
          "name": "stdout",
          "text": [
            "Client 0 threshold: 0.47979918390990234\n",
            "Client 4 threshold: 0.4866032446270055\n",
            "Client 2 threshold: 0.4768401380328212\n",
            "Client 3 threshold: 0.4790560946492826\n",
            "Client 1 threshold: 0.47746999644921595\n",
            "Client 6 threshold: 0.48208066148046075\n",
            "Client 5 threshold: 0.48983561786628205\n",
            "Lowest validation threshold updated\n",
            "Saving model at round 32\n",
            "\u001b[36m(ClientAppActor pid=75190)\u001b[0m [Client 6] evaluate, config: {}\u001b[32m [repeated 7x across cluster]\u001b[0m\n",
            "\u001b[36m(ClientAppActor pid=75190)\u001b[0m Epoch [1/4], Train Loss: 0.2625\u001b[32m [repeated 21x across cluster]\u001b[0m\n",
            "\u001b[36m(ClientAppActor pid=75191)\u001b[0m 2000\u001b[32m [repeated 10x across cluster]\u001b[0m\n",
            "\u001b[36m(ClientAppActor pid=75191)\u001b[0m [Client 0] fit, config: {}\u001b[32m [repeated 6x across cluster]\u001b[0m\n"
          ]
        },
        {
          "output_type": "stream",
          "name": "stderr",
          "text": [
            "\u001b[92mINFO \u001b[0m:      aggregate_fit: received 7 results and 0 failures\n",
            "\u001b[92mINFO \u001b[0m:      configure_evaluate: strategy sampled 7 clients (out of 7)\n"
          ]
        },
        {
          "output_type": "stream",
          "name": "stdout",
          "text": [
            "[0.14481011033058167, 0.10882483422756195, 0.13972195982933044, 0.10646385699510574, 0.11196662485599518, 0.111726313829422, 0.11235800385475159]\n",
            "[4, 4, 4, 4, 4, 4, 4]\n"
          ]
        },
        {
          "output_type": "stream",
          "name": "stderr",
          "text": [
            "\u001b[92mINFO \u001b[0m:      aggregate_evaluate: received 7 results and 0 failures\n",
            "\u001b[92mINFO \u001b[0m:      \n",
            "\u001b[92mINFO \u001b[0m:      [ROUND 34]\n",
            "\u001b[92mINFO \u001b[0m:      configure_fit: strategy sampled 7 clients (out of 7)\n"
          ]
        },
        {
          "output_type": "stream",
          "name": "stdout",
          "text": [
            "Client 1 threshold: 0.47619024202281285\n",
            "Client 4 threshold: 0.48506981639792784\n",
            "Client 0 threshold: 0.4783420084837716\n",
            "Client 3 threshold: 0.47747821985955585\n",
            "Client 2 threshold: 0.4753562551230104\n",
            "Client 6 threshold: 0.48017421160391144\n",
            "Client 5 threshold: 0.4881619956994706\n",
            "Lowest validation threshold updated\n",
            "Saving model at round 33\n",
            "\u001b[36m(ClientAppActor pid=75190)\u001b[0m [Client 3] evaluate, config: {}\u001b[32m [repeated 7x across cluster]\u001b[0m\n",
            "\u001b[36m(ClientAppActor pid=75191)\u001b[0m Epoch [4/4], Train Loss: 0.1088\u001b[32m [repeated 11x across cluster]\u001b[0m\n",
            "\u001b[36m(ClientAppActor pid=75191)\u001b[0m 2000\u001b[32m [repeated 10x across cluster]\u001b[0m\n",
            "\u001b[36m(ClientAppActor pid=75191)\u001b[0m [Client 4] fit, config: {}\u001b[32m [repeated 3x across cluster]\u001b[0m\n",
            "\u001b[36m(ClientAppActor pid=75190)\u001b[0m Epoch [1/4], Train Loss: 0.2594\u001b[32m [repeated 25x across cluster]\u001b[0m\n"
          ]
        },
        {
          "output_type": "stream",
          "name": "stderr",
          "text": [
            "\u001b[92mINFO \u001b[0m:      aggregate_fit: received 7 results and 0 failures\n",
            "\u001b[92mINFO \u001b[0m:      configure_evaluate: strategy sampled 7 clients (out of 7)\n"
          ]
        },
        {
          "output_type": "stream",
          "name": "stdout",
          "text": [
            "[0.10891897976398468, 0.10920469462871552, 0.14434346556663513, 0.112300343811512, 0.10617652535438538, 0.11401621997356415, 0.13893060386180878]\n",
            "[4, 4, 4, 4, 4, 4, 4]\n",
            "\u001b[36m(ClientAppActor pid=75191)\u001b[0m [Client 0] evaluate, config: {}\n",
            "\u001b[36m(ClientAppActor pid=75191)\u001b[0m 36\u001b[32m [repeated 11x across cluster]\u001b[0m\n",
            "\u001b[36m(ClientAppActor pid=75190)\u001b[0m [Client 5] fit, config: {}\u001b[32m [repeated 5x across cluster]\u001b[0m\n"
          ]
        },
        {
          "output_type": "stream",
          "name": "stderr",
          "text": [
            "\u001b[92mINFO \u001b[0m:      aggregate_evaluate: received 7 results and 0 failures\n",
            "\u001b[92mINFO \u001b[0m:      \n",
            "\u001b[92mINFO \u001b[0m:      [ROUND 35]\n",
            "\u001b[92mINFO \u001b[0m:      configure_fit: strategy sampled 7 clients (out of 7)\n"
          ]
        },
        {
          "output_type": "stream",
          "name": "stdout",
          "text": [
            "Client 5 threshold: 0.4864283542646294\n",
            "Client 3 threshold: 0.475802805090603\n",
            "Client 6 threshold: 0.4782052904537857\n",
            "Client 1 threshold: 0.4750222086782668\n",
            "Client 2 threshold: 0.4738793052398767\n",
            "Client 0 threshold: 0.47684458419566694\n",
            "Client 4 threshold: 0.4837588853283816\n",
            "Lowest validation threshold updated\n",
            "Saving model at round 34\n",
            "\u001b[36m(ClientAppActor pid=75191)\u001b[0m Epoch [1/4], Train Loss: 0.2638\u001b[32m [repeated 21x across cluster]\u001b[0m\n",
            "\u001b[36m(ClientAppActor pid=75190)\u001b[0m [Client 1] evaluate, config: {}\u001b[32m [repeated 6x across cluster]\u001b[0m\n",
            "\u001b[36m(ClientAppActor pid=75190)\u001b[0m 2000\u001b[32m [repeated 8x across cluster]\u001b[0m\n",
            "\u001b[36m(ClientAppActor pid=75190)\u001b[0m [Client 5] fit, config: {}\u001b[32m [repeated 7x across cluster]\u001b[0m\n"
          ]
        },
        {
          "output_type": "stream",
          "name": "stderr",
          "text": [
            "\u001b[92mINFO \u001b[0m:      aggregate_fit: received 7 results and 0 failures\n",
            "\u001b[92mINFO \u001b[0m:      configure_evaluate: strategy sampled 7 clients (out of 7)\n"
          ]
        },
        {
          "output_type": "stream",
          "name": "stdout",
          "text": [
            "[0.11459948867559433, 0.11165907233953476, 0.1368425488471985, 0.14439424872398376, 0.10604126006364822, 0.10820035636425018, 0.10952416807413101]\n",
            "[4, 4, 4, 4, 4, 4, 4]\n"
          ]
        },
        {
          "output_type": "stream",
          "name": "stderr",
          "text": [
            "\u001b[92mINFO \u001b[0m:      aggregate_evaluate: received 7 results and 0 failures\n",
            "\u001b[92mINFO \u001b[0m:      \n",
            "\u001b[92mINFO \u001b[0m:      [ROUND 36]\n",
            "\u001b[92mINFO \u001b[0m:      configure_fit: strategy sampled 7 clients (out of 7)\n"
          ]
        },
        {
          "output_type": "stream",
          "name": "stdout",
          "text": [
            "Client 3 threshold: 0.4740756289246425\n",
            "Client 6 threshold: 0.4761393968557179\n",
            "Client 1 threshold: 0.4737238917690458\n",
            "Client 2 threshold: 0.47236624947800643\n",
            "Client 4 threshold: 0.4821595726619447\n",
            "Client 0 threshold: 0.47530052275390366\n",
            "Client 5 threshold: 0.484617021561099\n",
            "Lowest validation threshold updated\n",
            "Saving model at round 35\n",
            "\u001b[36m(ClientAppActor pid=75191)\u001b[0m Epoch [3/4], Train Loss: 0.1287\u001b[32m [repeated 15x across cluster]\u001b[0m\n",
            "\u001b[36m(ClientAppActor pid=75191)\u001b[0m [Client 1] evaluate, config: {}\u001b[32m [repeated 7x across cluster]\u001b[0m\n",
            "\u001b[36m(ClientAppActor pid=75190)\u001b[0m 36\u001b[32m [repeated 11x across cluster]\u001b[0m\n",
            "\u001b[36m(ClientAppActor pid=75190)\u001b[0m [Client 3] fit, config: {}\u001b[32m [repeated 4x across cluster]\u001b[0m\n",
            "\u001b[36m(ClientAppActor pid=75191)\u001b[0m Epoch [1/4], Train Loss: 0.2599\u001b[32m [repeated 20x across cluster]\u001b[0m\n"
          ]
        },
        {
          "output_type": "stream",
          "name": "stderr",
          "text": [
            "\u001b[92mINFO \u001b[0m:      aggregate_fit: received 7 results and 0 failures\n",
            "\u001b[92mINFO \u001b[0m:      configure_evaluate: strategy sampled 7 clients (out of 7)\n"
          ]
        },
        {
          "output_type": "stream",
          "name": "stdout",
          "text": [
            "[0.11160672456026077, 0.10785895586013794, 0.10940582305192947, 0.10671831667423248, 0.1318245232105255, 0.14428925514221191, 0.10598479211330414]\n",
            "[4, 4, 4, 4, 4, 4, 4]\n",
            "\u001b[36m(ClientAppActor pid=75191)\u001b[0m [Client 2] evaluate, config: {}\n",
            "\u001b[36m(ClientAppActor pid=75190)\u001b[0m [Client 0] evaluate, config: {}\n",
            "\u001b[36m(ClientAppActor pid=75191)\u001b[0m 2000\u001b[32m [repeated 8x across cluster]\u001b[0m\n",
            "\u001b[36m(ClientAppActor pid=75191)\u001b[0m [Client 2] fit, config: {}\u001b[32m [repeated 3x across cluster]\u001b[0m\n"
          ]
        },
        {
          "output_type": "stream",
          "name": "stderr",
          "text": [
            "\u001b[92mINFO \u001b[0m:      aggregate_evaluate: received 7 results and 0 failures\n",
            "\u001b[92mINFO \u001b[0m:      \n",
            "\u001b[92mINFO \u001b[0m:      [ROUND 37]\n",
            "\u001b[92mINFO \u001b[0m:      configure_fit: strategy sampled 7 clients (out of 7)\n"
          ]
        },
        {
          "output_type": "stream",
          "name": "stdout",
          "text": [
            "Client 3 threshold: 0.47229134848894283\n",
            "Client 5 threshold: 0.4827371624004748\n",
            "Client 6 threshold: 0.47401797679369584\n",
            "Client 4 threshold: 0.48033709986549883\n",
            "Client 2 threshold: 0.47070925654122736\n",
            "Client 1 threshold: 0.47247633826089835\n",
            "Client 0 threshold: 0.47356489562818327\n",
            "Lowest validation threshold updated\n",
            "Saving model at round 36\n",
            "\u001b[36m(ClientAppActor pid=75191)\u001b[0m Epoch [2/4], Train Loss: 0.1232\u001b[32m [repeated 22x across cluster]\u001b[0m\n",
            "\u001b[36m(ClientAppActor pid=75191)\u001b[0m [Client 3] evaluate, config: {}\u001b[32m [repeated 5x across cluster]\u001b[0m\n",
            "\u001b[36m(ClientAppActor pid=75191)\u001b[0m 2000\u001b[32m [repeated 9x across cluster]\u001b[0m\n",
            "\u001b[36m(ClientAppActor pid=75191)\u001b[0m [Client 5] fit, config: {}\u001b[32m [repeated 7x across cluster]\u001b[0m\n"
          ]
        },
        {
          "output_type": "stream",
          "name": "stderr",
          "text": [
            "\u001b[92mINFO \u001b[0m:      aggregate_fit: received 7 results and 0 failures\n",
            "\u001b[92mINFO \u001b[0m:      configure_evaluate: strategy sampled 7 clients (out of 7)\n"
          ]
        },
        {
          "output_type": "stream",
          "name": "stdout",
          "text": [
            "[0.10884195566177368, 0.10342160612344742, 0.1112738847732544, 0.1432381570339203, 0.1298070102930069, 0.10608305037021637, 0.1073429137468338]\n",
            "[4, 4, 4, 4, 4, 4, 4]\n"
          ]
        },
        {
          "output_type": "stream",
          "name": "stderr",
          "text": [
            "\u001b[92mINFO \u001b[0m:      aggregate_evaluate: received 7 results and 0 failures\n",
            "\u001b[92mINFO \u001b[0m:      \n",
            "\u001b[92mINFO \u001b[0m:      [ROUND 38]\n",
            "\u001b[92mINFO \u001b[0m:      configure_fit: strategy sampled 7 clients (out of 7)\n"
          ]
        },
        {
          "output_type": "stream",
          "name": "stdout",
          "text": [
            "Client 2 threshold: 0.4690043686070685\n",
            "Client 6 threshold: 0.4717165216142203\n",
            "Client 5 threshold: 0.48081989086287646\n",
            "Client 4 threshold: 0.4786660098696694\n",
            "Client 1 threshold: 0.4711282435609714\n",
            "Client 0 threshold: 0.47175714689592374\n",
            "Client 3 threshold: 0.47045562348249637\n",
            "Lowest validation threshold updated\n",
            "Saving model at round 37\n",
            "\u001b[36m(ClientAppActor pid=75190)\u001b[0m Epoch [1/4], Train Loss: 0.2548\u001b[32m [repeated 19x across cluster]\u001b[0m\n",
            "\u001b[36m(ClientAppActor pid=75191)\u001b[0m [Client 1] evaluate, config: {}\u001b[32m [repeated 7x across cluster]\u001b[0m\n",
            "\u001b[36m(ClientAppActor pid=75190)\u001b[0m 2000\u001b[32m [repeated 11x across cluster]\u001b[0m\n",
            "\u001b[36m(ClientAppActor pid=75190)\u001b[0m [Client 4] fit, config: {}\u001b[32m [repeated 4x across cluster]\u001b[0m\n"
          ]
        },
        {
          "output_type": "stream",
          "name": "stderr",
          "text": [
            "\u001b[92mINFO \u001b[0m:      aggregate_fit: received 7 results and 0 failures\n",
            "\u001b[92mINFO \u001b[0m:      configure_evaluate: strategy sampled 7 clients (out of 7)\n"
          ]
        },
        {
          "output_type": "stream",
          "name": "stdout",
          "text": [
            "[0.10084743052721024, 0.10530081391334534, 0.12913349270820618, 0.14376133680343628, 0.1055283322930336, 0.10860322415828705, 0.10908429324626923]\n",
            "[4, 4, 4, 4, 4, 4, 4]\n",
            "\u001b[36m(ClientAppActor pid=75191)\u001b[0m Epoch [4/4], Train Loss: 0.1008\u001b[32m [repeated 18x across cluster]\u001b[0m\n",
            "\u001b[36m(ClientAppActor pid=75191)\u001b[0m [Client 6] evaluate, config: {}\u001b[32m [repeated 3x across cluster]\u001b[0m\n"
          ]
        },
        {
          "output_type": "stream",
          "name": "stderr",
          "text": [
            "\u001b[92mINFO \u001b[0m:      aggregate_evaluate: received 7 results and 0 failures\n",
            "\u001b[92mINFO \u001b[0m:      \n",
            "\u001b[92mINFO \u001b[0m:      [ROUND 39]\n",
            "\u001b[92mINFO \u001b[0m:      configure_fit: strategy sampled 7 clients (out of 7)\n"
          ]
        },
        {
          "output_type": "stream",
          "name": "stdout",
          "text": [
            "\u001b[36m(ClientAppActor pid=75190)\u001b[0m 2000\u001b[32m [repeated 9x across cluster]\u001b[0m\n",
            "\u001b[36m(ClientAppActor pid=75191)\u001b[0m [Client 5] fit, config: {}\u001b[32m [repeated 3x across cluster]\u001b[0m\n",
            "Client 6 threshold: 0.4693308857615013\n",
            "Client 3 threshold: 0.46851725973494673\n",
            "Client 5 threshold: 0.478820145922901\n",
            "Client 1 threshold: 0.4703085256770553\n",
            "Client 4 threshold: 0.4767921617783244\n",
            "Client 2 threshold: 0.4672314638837255\n",
            "Client 0 threshold: 0.46975321742491266\n",
            "Lowest validation threshold updated\n",
            "Saving model at round 38\n",
            "\u001b[36m(ClientAppActor pid=75191)\u001b[0m Epoch [3/4], Train Loss: 0.1130\u001b[32m [repeated 21x across cluster]\u001b[0m\n",
            "\u001b[36m(ClientAppActor pid=75191)\u001b[0m [Client 4] evaluate, config: {}\u001b[32m [repeated 4x across cluster]\u001b[0m\n"
          ]
        },
        {
          "output_type": "stream",
          "name": "stderr",
          "text": [
            "\u001b[92mINFO \u001b[0m:      aggregate_fit: received 7 results and 0 failures\n",
            "\u001b[92mINFO \u001b[0m:      configure_evaluate: strategy sampled 7 clients (out of 7)\n"
          ]
        },
        {
          "output_type": "stream",
          "name": "stdout",
          "text": [
            "\u001b[36m(ClientAppActor pid=75191)\u001b[0m 2000\u001b[32m [repeated 8x across cluster]\u001b[0m\n",
            "\u001b[36m(ClientAppActor pid=75191)\u001b[0m [Client 0] fit, config: {}\u001b[32m [repeated 7x across cluster]\u001b[0m\n",
            "[0.14349313080310822, 0.10848193615674973, 0.12938345968723297, 0.10541489720344543, 0.10359873622655869, 0.10952121019363403, 0.10487942397594452]\n",
            "[4, 4, 4, 4, 4, 4, 4]\n"
          ]
        },
        {
          "output_type": "stream",
          "name": "stderr",
          "text": [
            "\u001b[92mINFO \u001b[0m:      aggregate_evaluate: received 7 results and 0 failures\n",
            "\u001b[92mINFO \u001b[0m:      \n",
            "\u001b[92mINFO \u001b[0m:      [ROUND 40]\n",
            "\u001b[92mINFO \u001b[0m:      configure_fit: strategy sampled 7 clients (out of 7)\n"
          ]
        },
        {
          "output_type": "stream",
          "name": "stdout",
          "text": [
            "Client 2 threshold: 0.465494824290634\n",
            "Client 1 threshold: 0.46881167760154724\n",
            "Client 0 threshold: 0.4677576127982374\n",
            "Client 4 threshold: 0.4756369403132157\n",
            "Client 3 threshold: 0.4664599314049347\n",
            "Client 5 threshold: 0.47675355963298194\n",
            "Client 6 threshold: 0.4667688392830843\n",
            "Lowest validation threshold updated\n",
            "Saving model at round 39\n",
            "\u001b[36m(ClientAppActor pid=75191)\u001b[0m Epoch [4/4], Train Loss: 0.1079\u001b[32m [repeated 22x across cluster]\u001b[0m\n",
            "\u001b[36m(ClientAppActor pid=75191)\u001b[0m [Client 6] evaluate, config: {}\u001b[32m [repeated 7x across cluster]\u001b[0m\n",
            "\u001b[36m(ClientAppActor pid=75190)\u001b[0m 2000\u001b[32m [repeated 13x across cluster]\u001b[0m\n",
            "\u001b[36m(ClientAppActor pid=75190)\u001b[0m [Client 2] fit, config: {}\u001b[32m [repeated 6x across cluster]\u001b[0m\n"
          ]
        },
        {
          "output_type": "stream",
          "name": "stderr",
          "text": [
            "\u001b[92mINFO \u001b[0m:      aggregate_fit: received 7 results and 0 failures\n",
            "\u001b[92mINFO \u001b[0m:      configure_evaluate: strategy sampled 7 clients (out of 7)\n"
          ]
        },
        {
          "output_type": "stream",
          "name": "stdout",
          "text": [
            "[0.10677661001682281, 0.10352328419685364, 0.14362119138240814, 0.10786447674036026, 0.10458672046661377, 0.10496298968791962, 0.12754639983177185]\n",
            "[4, 4, 4, 4, 4, 4, 4]\n"
          ]
        },
        {
          "output_type": "stream",
          "name": "stderr",
          "text": [
            "\u001b[92mINFO \u001b[0m:      aggregate_evaluate: received 7 results and 0 failures\n",
            "\u001b[92mINFO \u001b[0m:      \n",
            "\u001b[92mINFO \u001b[0m:      [ROUND 41]\n",
            "\u001b[92mINFO \u001b[0m:      configure_fit: strategy sampled 7 clients (out of 7)\n"
          ]
        },
        {
          "output_type": "stream",
          "name": "stdout",
          "text": [
            "Client 4 threshold: 0.47366883064702886\n",
            "Client 6 threshold: 0.4641366846515154\n",
            "Client 2 threshold: 0.46386710163104655\n",
            "Client 0 threshold: 0.4657886581819813\n",
            "Client 5 threshold: 0.4746153920361722\n",
            "Client 1 threshold: 0.46738478666521893\n",
            "Client 3 threshold: 0.46431425317470887\n",
            "Lowest validation threshold updated\n",
            "Saving model at round 40\n",
            "\u001b[36m(ClientAppActor pid=75190)\u001b[0m Epoch [4/4], Train Loss: 0.1046\u001b[32m [repeated 13x across cluster]\u001b[0m\n",
            "\u001b[36m(ClientAppActor pid=75190)\u001b[0m [Client 5] evaluate, config: {}\u001b[32m [repeated 7x across cluster]\u001b[0m\n",
            "\u001b[36m(ClientAppActor pid=75191)\u001b[0m 1956\u001b[32m [repeated 10x across cluster]\u001b[0m\n",
            "\u001b[36m(ClientAppActor pid=75191)\u001b[0m [Client 1] fit, config: {}\u001b[32m [repeated 3x across cluster]\u001b[0m\n",
            "\u001b[36m(ClientAppActor pid=75191)\u001b[0m Epoch [2/4], Train Loss: 0.1207\u001b[32m [repeated 19x across cluster]\u001b[0m\n"
          ]
        },
        {
          "output_type": "stream",
          "name": "stderr",
          "text": [
            "\u001b[92mINFO \u001b[0m:      aggregate_fit: received 7 results and 0 failures\n",
            "\u001b[92mINFO \u001b[0m:      configure_evaluate: strategy sampled 7 clients (out of 7)\n"
          ]
        },
        {
          "output_type": "stream",
          "name": "stdout",
          "text": [
            "[0.14293742179870605, 0.1066749095916748, 0.10311663895845413, 0.12172287702560425, 0.10493767261505127, 0.1073376014828682, 0.1045331209897995]\n",
            "[4, 4, 4, 4, 4, 4, 4]\n",
            "\u001b[36m(ClientAppActor pid=75190)\u001b[0m 2000\u001b[32m [repeated 5x across cluster]\u001b[0m\n",
            "\u001b[36m(ClientAppActor pid=75190)\u001b[0m [Client 5] fit, config: {}\u001b[32m [repeated 5x across cluster]\u001b[0m\n",
            "\u001b[36m(ClientAppActor pid=75191)\u001b[0m [Client 5] evaluate, config: {}\n"
          ]
        },
        {
          "output_type": "stream",
          "name": "stderr",
          "text": [
            "\u001b[92mINFO \u001b[0m:      aggregate_evaluate: received 7 results and 0 failures\n",
            "\u001b[92mINFO \u001b[0m:      \n",
            "\u001b[92mINFO \u001b[0m:      [ROUND 42]\n",
            "\u001b[92mINFO \u001b[0m:      configure_fit: strategy sampled 7 clients (out of 7)\n"
          ]
        },
        {
          "output_type": "stream",
          "name": "stdout",
          "text": [
            "Client 3 threshold: 0.4624937690819078\n",
            "Client 1 threshold: 0.4658953619199976\n",
            "Client 5 threshold: 0.4724115830804034\n",
            "Client 4 threshold: 0.4715663896604817\n",
            "Client 2 threshold: 0.46223775971571307\n",
            "Client 0 threshold: 0.4636363482560866\n",
            "Client 6 threshold: 0.46149959951723457\n",
            "Lowest validation threshold updated\n",
            "Saving model at round 41\n",
            "\u001b[36m(ClientAppActor pid=75191)\u001b[0m Epoch [3/4], Train Loss: 0.1252\u001b[32m [repeated 23x across cluster]\u001b[0m\n",
            "\u001b[36m(ClientAppActor pid=75191)\u001b[0m 1956\u001b[32m [repeated 13x across cluster]\u001b[0m\n",
            "\u001b[36m(ClientAppActor pid=75191)\u001b[0m [Client 1] fit, config: {}\u001b[32m [repeated 6x across cluster]\u001b[0m\n"
          ]
        },
        {
          "output_type": "stream",
          "name": "stderr",
          "text": [
            "\u001b[92mINFO \u001b[0m:      aggregate_fit: received 7 results and 0 failures\n",
            "\u001b[92mINFO \u001b[0m:      configure_evaluate: strategy sampled 7 clients (out of 7)\n"
          ]
        },
        {
          "output_type": "stream",
          "name": "stdout",
          "text": [
            "\u001b[36m(ClientAppActor pid=75190)\u001b[0m [Client 0] evaluate, config: {}\u001b[32m [repeated 6x across cluster]\u001b[0m\n",
            "[0.12078865617513657, 0.10672435909509659, 0.10436119139194489, 0.14284498989582062, 0.10478570312261581, 0.09982997924089432, 0.10631151497364044]\n",
            "[4, 4, 4, 4, 4, 4, 4]\n"
          ]
        },
        {
          "output_type": "stream",
          "name": "stderr",
          "text": [
            "\u001b[92mINFO \u001b[0m:      aggregate_evaluate: received 7 results and 0 failures\n",
            "\u001b[92mINFO \u001b[0m:      \n",
            "\u001b[92mINFO \u001b[0m:      [ROUND 43]\n",
            "\u001b[92mINFO \u001b[0m:      configure_fit: strategy sampled 7 clients (out of 7)\n"
          ]
        },
        {
          "output_type": "stream",
          "name": "stdout",
          "text": [
            "Client 4 threshold: 0.4694133686585453\n",
            "Client 2 threshold: 0.4603575994062974\n",
            "Client 0 threshold: 0.46150132067566774\n",
            "Client 3 threshold: 0.4603629424735187\n",
            "Client 6 threshold: 0.45880845328913994\n",
            "Client 1 threshold: 0.464541800042127\n",
            "Client 5 threshold: 0.4700569084365285\n",
            "Lowest validation threshold updated\n",
            "Saving model at round 42\n",
            "\u001b[36m(ClientAppActor pid=75190)\u001b[0m Epoch [2/4], Train Loss: 0.1383\u001b[32m [repeated 17x across cluster]\u001b[0m\n",
            "\u001b[36m(ClientAppActor pid=75190)\u001b[0m 2000\u001b[32m [repeated 12x across cluster]\u001b[0m\n",
            "\u001b[36m(ClientAppActor pid=75190)\u001b[0m [Client 2] fit, config: {}\u001b[32m [repeated 5x across cluster]\u001b[0m\n",
            "\u001b[36m(ClientAppActor pid=75190)\u001b[0m [Client 2] evaluate, config: {}\u001b[32m [repeated 7x across cluster]\u001b[0m\n",
            "\u001b[36m(ClientAppActor pid=75191)\u001b[0m Epoch [2/4], Train Loss: 0.1233\u001b[32m [repeated 16x across cluster]\u001b[0m\n",
            "\u001b[36m(ClientAppActor pid=75191)\u001b[0m 2000\u001b[32m [repeated 3x across cluster]\u001b[0m\n",
            "\u001b[36m(ClientAppActor pid=75191)\u001b[0m [Client 0] fit, config: {}\u001b[32m [repeated 3x across cluster]\u001b[0m\n"
          ]
        },
        {
          "output_type": "stream",
          "name": "stderr",
          "text": [
            "\u001b[92mINFO \u001b[0m:      aggregate_fit: received 7 results and 0 failures\n",
            "\u001b[92mINFO \u001b[0m:      configure_evaluate: strategy sampled 7 clients (out of 7)\n"
          ]
        },
        {
          "output_type": "stream",
          "name": "stdout",
          "text": [
            "[0.1043044775724411, 0.12610752880573273, 0.09794318675994873, 0.1062050312757492, 0.14223836362361908, 0.10354942828416824, 0.10638336092233658]\n",
            "[4, 4, 4, 4, 4, 4, 4]\n",
            "\u001b[36m(ClientAppActor pid=75191)\u001b[0m [Client 5] evaluate, config: {}\n",
            "\u001b[36m(ClientAppActor pid=75190)\u001b[0m [Client 1] evaluate, config: {}\n"
          ]
        },
        {
          "output_type": "stream",
          "name": "stderr",
          "text": [
            "\u001b[92mINFO \u001b[0m:      aggregate_evaluate: received 7 results and 0 failures\n",
            "\u001b[92mINFO \u001b[0m:      \n",
            "\u001b[92mINFO \u001b[0m:      [ROUND 44]\n",
            "\u001b[92mINFO \u001b[0m:      configure_fit: strategy sampled 7 clients (out of 7)\n"
          ]
        },
        {
          "output_type": "stream",
          "name": "stdout",
          "text": [
            "Client 6 threshold: 0.45600777117180463\n",
            "Client 1 threshold: 0.46370633006466494\n",
            "Client 0 threshold: 0.459331553495998\n",
            "Client 2 threshold: 0.45867416202111544\n",
            "Client 4 threshold: 0.467168188261119\n",
            "Client 3 threshold: 0.45835631581253605\n",
            "Client 5 threshold: 0.4676855932443327\n",
            "Lowest validation threshold updated\n",
            "Saving model at round 43\n",
            "\u001b[36m(ClientAppActor pid=75191)\u001b[0m Epoch [3/4], Train Loss: 0.1115\u001b[32m [repeated 22x across cluster]\u001b[0m\n",
            "\u001b[36m(ClientAppActor pid=75190)\u001b[0m 2000\u001b[32m [repeated 13x across cluster]\u001b[0m\n",
            "\u001b[36m(ClientAppActor pid=75190)\u001b[0m [Client 5] fit, config: {}\u001b[32m [repeated 6x across cluster]\u001b[0m\n",
            "\u001b[36m(ClientAppActor pid=75191)\u001b[0m [Client 2] evaluate, config: {}\u001b[32m [repeated 5x across cluster]\u001b[0m\n"
          ]
        },
        {
          "output_type": "stream",
          "name": "stderr",
          "text": [
            "\u001b[92mINFO \u001b[0m:      aggregate_fit: received 7 results and 0 failures\n",
            "\u001b[92mINFO \u001b[0m:      configure_evaluate: strategy sampled 7 clients (out of 7)\n"
          ]
        },
        {
          "output_type": "stream",
          "name": "stdout",
          "text": [
            "[0.10342389345169067, 0.10606158524751663, 0.09755350649356842, 0.14231425523757935, 0.11979132890701294, 0.10372555255889893, 0.10556704550981522]\n",
            "[4, 4, 4, 4, 4, 4, 4]\n"
          ]
        },
        {
          "output_type": "stream",
          "name": "stderr",
          "text": [
            "\u001b[92mINFO \u001b[0m:      aggregate_evaluate: received 7 results and 0 failures\n",
            "\u001b[92mINFO \u001b[0m:      \n",
            "\u001b[92mINFO \u001b[0m:      [ROUND 45]\n",
            "\u001b[92mINFO \u001b[0m:      configure_fit: strategy sampled 7 clients (out of 7)\n"
          ]
        },
        {
          "output_type": "stream",
          "name": "stdout",
          "text": [
            "Client 2 threshold: 0.45702764082637826\n",
            "Client 3 threshold: 0.4560820213600134\n",
            "Client 1 threshold: 0.46342541446895075\n",
            "Client 6 threshold: 0.453169446476203\n",
            "Client 5 threshold: 0.46519213114619024\n",
            "Client 4 threshold: 0.46487238522834606\n",
            "Client 0 threshold: 0.457224297418826\n",
            "Lowest validation threshold updated\n",
            "Saving model at round 44\n",
            "\u001b[36m(ClientAppActor pid=75191)\u001b[0m Epoch [4/4], Train Loss: 0.1057\u001b[32m [repeated 22x across cluster]\u001b[0m\n",
            "\u001b[36m(ClientAppActor pid=75190)\u001b[0m 2000\u001b[32m [repeated 12x across cluster]\u001b[0m\n",
            "\u001b[36m(ClientAppActor pid=75190)\u001b[0m [Client 6] fit, config: {}\u001b[32m [repeated 5x across cluster]\u001b[0m\n",
            "\u001b[36m(ClientAppActor pid=75191)\u001b[0m [Client 2] evaluate, config: {}\u001b[32m [repeated 7x across cluster]\u001b[0m\n",
            "\u001b[36m(ClientAppActor pid=75190)\u001b[0m Epoch [1/4], Train Loss: 0.2395\u001b[32m [repeated 18x across cluster]\u001b[0m\n"
          ]
        },
        {
          "output_type": "stream",
          "name": "stderr",
          "text": [
            "\u001b[92mINFO \u001b[0m:      aggregate_fit: received 7 results and 0 failures\n",
            "\u001b[92mINFO \u001b[0m:      configure_evaluate: strategy sampled 7 clients (out of 7)\n"
          ]
        },
        {
          "output_type": "stream",
          "name": "stdout",
          "text": [
            "[0.0967368632555008, 0.1035483106970787, 0.11907964199781418, 0.14244931936264038, 0.10573508590459824, 0.10355238616466522, 0.10645680874586105]\n",
            "[4, 4, 4, 4, 4, 4, 4]\n",
            "\u001b[36m(ClientAppActor pid=75191)\u001b[0m 2000\u001b[32m [repeated 6x across cluster]\u001b[0m\n",
            "\u001b[36m(ClientAppActor pid=75190)\u001b[0m [Client 5] fit, config: {}\u001b[32m [repeated 3x across cluster]\u001b[0m\n",
            "\u001b[36m(ClientAppActor pid=75191)\u001b[0m [Client 0] evaluate, config: {}\u001b[32m [repeated 3x across cluster]\u001b[0m\n"
          ]
        },
        {
          "output_type": "stream",
          "name": "stderr",
          "text": [
            "\u001b[92mINFO \u001b[0m:      aggregate_evaluate: received 7 results and 0 failures\n",
            "\u001b[92mINFO \u001b[0m:      \n",
            "\u001b[92mINFO \u001b[0m:      [ROUND 46]\n",
            "\u001b[92mINFO \u001b[0m:      configure_fit: strategy sampled 7 clients (out of 7)\n"
          ]
        },
        {
          "output_type": "stream",
          "name": "stdout",
          "text": [
            "Client 6 threshold: 0.4503033756770036\n",
            "Client 0 threshold: 0.45497485341604643\n",
            "Client 5 threshold: 0.46271721765965323\n",
            "Client 2 threshold: 0.45497510683230774\n",
            "Client 4 threshold: 0.4625352056349671\n",
            "Client 1 threshold: 0.4617838753947416\n",
            "Client 3 threshold: 0.4539633692605578\n",
            "Lowest validation threshold updated\n",
            "Saving model at round 45\n",
            "\u001b[36m(ClientAppActor pid=75190)\u001b[0m Epoch [4/4], Train Loss: 0.1170\u001b[32m [repeated 18x across cluster]\u001b[0m\n",
            "\u001b[36m(ClientAppActor pid=75191)\u001b[0m 2000\u001b[32m [repeated 10x across cluster]\u001b[0m\n",
            "\u001b[36m(ClientAppActor pid=75191)\u001b[0m [Client 4] fit, config: {}\u001b[32m [repeated 6x across cluster]\u001b[0m\n",
            "\u001b[36m(ClientAppActor pid=75190)\u001b[0m [Client 5] evaluate, config: {}\u001b[32m [repeated 4x across cluster]\u001b[0m\n"
          ]
        },
        {
          "output_type": "stream",
          "name": "stderr",
          "text": [
            "\u001b[92mINFO \u001b[0m:      aggregate_fit: received 7 results and 0 failures\n",
            "\u001b[92mINFO \u001b[0m:      configure_evaluate: strategy sampled 7 clients (out of 7)\n"
          ]
        },
        {
          "output_type": "stream",
          "name": "stdout",
          "text": [
            "[0.1424456089735031, 0.10559368133544922, 0.10615710914134979, 0.10326103121042252, 0.09650766104459763, 0.10340516269207001, 0.11698221415281296]\n",
            "[4, 4, 4, 4, 4, 4, 4]\n"
          ]
        },
        {
          "output_type": "stream",
          "name": "stderr",
          "text": [
            "\u001b[92mINFO \u001b[0m:      aggregate_evaluate: received 7 results and 0 failures\n",
            "\u001b[92mINFO \u001b[0m:      \n",
            "\u001b[92mINFO \u001b[0m:      [ROUND 47]\n",
            "\u001b[92mINFO \u001b[0m:      configure_fit: strategy sampled 7 clients (out of 7)\n"
          ]
        },
        {
          "output_type": "stream",
          "name": "stdout",
          "text": [
            "Client 0 threshold: 0.4526125502071542\n",
            "Client 5 threshold: 0.4601501546792156\n",
            "Client 3 threshold: 0.4514071563951459\n",
            "Client 6 threshold: 0.4474194611992805\n",
            "Client 2 threshold: 0.4530246300423061\n",
            "Client 1 threshold: 0.46002115751697936\n",
            "Client 4 threshold: 0.46020601773530895\n",
            "Lowest validation threshold updated\n",
            "Saving model at round 46\n",
            "\u001b[36m(ClientAppActor pid=75190)\u001b[0m Epoch [1/4], Train Loss: 0.2285\u001b[32m [repeated 22x across cluster]\u001b[0m\n",
            "\u001b[36m(ClientAppActor pid=75191)\u001b[0m 2000\u001b[32m [repeated 14x across cluster]\u001b[0m\n",
            "\u001b[36m(ClientAppActor pid=75191)\u001b[0m [Client 0] fit, config: {}\u001b[32m [repeated 7x across cluster]\u001b[0m\n",
            "\u001b[36m(ClientAppActor pid=75190)\u001b[0m [Client 4] evaluate, config: {}\u001b[32m [repeated 7x across cluster]\u001b[0m\n"
          ]
        },
        {
          "output_type": "stream",
          "name": "stderr",
          "text": [
            "\u001b[92mINFO \u001b[0m:      aggregate_fit: received 7 results and 0 failures\n",
            "\u001b[92mINFO \u001b[0m:      configure_evaluate: strategy sampled 7 clients (out of 7)\n"
          ]
        },
        {
          "output_type": "stream",
          "name": "stdout",
          "text": [
            "[0.10532601177692413, 0.1024228036403656, 0.09660988301038742, 0.10283172130584717, 0.14258483052253723, 0.106136254966259, 0.11556412279605865]\n",
            "[4, 4, 4, 4, 4, 4, 4]\n",
            "\u001b[36m(ClientAppActor pid=75190)\u001b[0m Epoch [4/4], Train Loss: 0.1156\u001b[32m [repeated 19x across cluster]\u001b[0m\n"
          ]
        },
        {
          "output_type": "stream",
          "name": "stderr",
          "text": [
            "\u001b[92mINFO \u001b[0m:      aggregate_evaluate: received 7 results and 0 failures\n",
            "\u001b[92mINFO \u001b[0m:      \n",
            "\u001b[92mINFO \u001b[0m:      [ROUND 48]\n",
            "\u001b[92mINFO \u001b[0m:      configure_fit: strategy sampled 7 clients (out of 7)\n"
          ]
        },
        {
          "output_type": "stream",
          "name": "stdout",
          "text": [
            "Client 5 threshold: 0.45746668986872224\n",
            "Client 6 threshold: 0.44452193694899805\n",
            "Client 2 threshold: 0.45127357998969236\n",
            "Client 4 threshold: 0.4576206997662101\n",
            "Client 0 threshold: 0.4499571407515208\n",
            "Client 3 threshold: 0.4492090109685271\n",
            "Client 1 threshold: 0.4578909596496176\n",
            "Lowest validation threshold updated\n",
            "Saving model at round 47\n",
            "\u001b[36m(ClientAppActor pid=75191)\u001b[0m 2000\u001b[32m [repeated 10x across cluster]\u001b[0m\n",
            "\u001b[36m(ClientAppActor pid=75191)\u001b[0m [Client 6] fit, config: {}\u001b[32m [repeated 3x across cluster]\u001b[0m\n",
            "\u001b[36m(ClientAppActor pid=75190)\u001b[0m [Client 0] evaluate, config: {}\u001b[32m [repeated 7x across cluster]\u001b[0m\n",
            "\u001b[36m(ClientAppActor pid=75191)\u001b[0m Epoch [4/4], Train Loss: 0.1014\u001b[32m [repeated 15x across cluster]\u001b[0m\n",
            "\u001b[36m(ClientAppActor pid=75191)\u001b[0m 2000\u001b[32m [repeated 5x across cluster]\u001b[0m\n",
            "\u001b[36m(ClientAppActor pid=75191)\u001b[0m [Client 2] fit, config: {}\u001b[32m [repeated 5x across cluster]\u001b[0m\n"
          ]
        },
        {
          "output_type": "stream",
          "name": "stderr",
          "text": [
            "\u001b[92mINFO \u001b[0m:      aggregate_fit: received 7 results and 0 failures\n",
            "\u001b[92mINFO \u001b[0m:      configure_evaluate: strategy sampled 7 clients (out of 7)\n"
          ]
        },
        {
          "output_type": "stream",
          "name": "stdout",
          "text": [
            "[0.1013517826795578, 0.11455648392438889, 0.10217094421386719, 0.10501466691493988, 0.14264237880706787, 0.1050078421831131, 0.09373145550489426]\n",
            "[4, 4, 4, 4, 4, 4, 4]\n",
            "\u001b[36m(ClientAppActor pid=75191)\u001b[0m [Client 5] evaluate, config: {}\n"
          ]
        },
        {
          "output_type": "stream",
          "name": "stderr",
          "text": [
            "\u001b[92mINFO \u001b[0m:      aggregate_evaluate: received 7 results and 0 failures\n",
            "\u001b[92mINFO \u001b[0m:      \n",
            "\u001b[92mINFO \u001b[0m:      [ROUND 49]\n",
            "\u001b[92mINFO \u001b[0m:      configure_fit: strategy sampled 7 clients (out of 7)\n"
          ]
        },
        {
          "output_type": "stream",
          "name": "stdout",
          "text": [
            "Client 6 threshold: 0.4413711512394025\n",
            "Client 2 threshold: 0.44923115191819224\n",
            "Client 1 threshold: 0.45540329827603715\n",
            "Client 4 threshold: 0.45514529290415023\n",
            "Client 5 threshold: 0.45479381614723857\n",
            "Client 3 threshold: 0.4468344136033289\n",
            "Client 0 threshold: 0.4474714130607183\n",
            "Lowest validation threshold updated\n",
            "Saving model at round 48\n",
            "\u001b[36m(ClientAppActor pid=75190)\u001b[0m Epoch [1/4], Train Loss: 0.2231\u001b[32m [repeated 23x across cluster]\u001b[0m\n",
            "\u001b[36m(ClientAppActor pid=75190)\u001b[0m 2000\u001b[32m [repeated 13x across cluster]\u001b[0m\n",
            "\u001b[36m(ClientAppActor pid=75190)\u001b[0m [Client 0] fit, config: {}\u001b[32m [repeated 6x across cluster]\u001b[0m\n",
            "\u001b[36m(ClientAppActor pid=75191)\u001b[0m [Client 0] evaluate, config: {}\u001b[32m [repeated 6x across cluster]\u001b[0m\n"
          ]
        },
        {
          "output_type": "stream",
          "name": "stderr",
          "text": [
            "\u001b[92mINFO \u001b[0m:      aggregate_fit: received 7 results and 0 failures\n",
            "\u001b[92mINFO \u001b[0m:      configure_evaluate: strategy sampled 7 clients (out of 7)\n"
          ]
        },
        {
          "output_type": "stream",
          "name": "stdout",
          "text": [
            "[0.1009407639503479, 0.09341718256473541, 0.1424657702445984, 0.1005224958062172, 0.10469347983598709, 0.1043744832277298, 0.11376816034317017]\n",
            "[4, 4, 4, 4, 4, 4, 4]\n"
          ]
        },
        {
          "output_type": "stream",
          "name": "stderr",
          "text": [
            "\u001b[92mINFO \u001b[0m:      aggregate_evaluate: received 7 results and 0 failures\n",
            "\u001b[92mINFO \u001b[0m:      \n",
            "\u001b[92mINFO \u001b[0m:      [ROUND 50]\n",
            "\u001b[92mINFO \u001b[0m:      configure_fit: strategy sampled 7 clients (out of 7)\n"
          ]
        },
        {
          "output_type": "stream",
          "name": "stdout",
          "text": [
            "Client 5 threshold: 0.45201743749966516\n",
            "Client 3 threshold: 0.44447551708931765\n",
            "Client 1 threshold: 0.4529308857955664\n",
            "Client 2 threshold: 0.44741981229491645\n",
            "Client 0 threshold: 0.4448969555974991\n",
            "Client 4 threshold: 0.45248480468746033\n",
            "Client 6 threshold: 0.43823628134694353\n",
            "Lowest validation threshold updated\n",
            "Saving model at round 49\n",
            "\u001b[36m(ClientAppActor pid=75191)\u001b[0m Epoch [2/4], Train Loss: 0.1190\u001b[32m [repeated 21x across cluster]\u001b[0m\n",
            "\u001b[36m(ClientAppActor pid=75191)\u001b[0m 1956\u001b[32m [repeated 12x across cluster]\u001b[0m\n",
            "\u001b[36m(ClientAppActor pid=75191)\u001b[0m [Client 1] fit, config: {}\u001b[32m [repeated 5x across cluster]\u001b[0m\n",
            "\u001b[36m(ClientAppActor pid=75191)\u001b[0m [Client 3] evaluate, config: {}\u001b[32m [repeated 7x across cluster]\u001b[0m\n",
            "\u001b[36m(ClientAppActor pid=75191)\u001b[0m Epoch [2/4], Train Loss: 0.1538\u001b[32m [repeated 17x across cluster]\u001b[0m\n"
          ]
        },
        {
          "output_type": "stream",
          "name": "stderr",
          "text": [
            "\u001b[92mINFO \u001b[0m:      aggregate_fit: received 7 results and 0 failures\n",
            "\u001b[92mINFO \u001b[0m:      configure_evaluate: strategy sampled 7 clients (out of 7)\n"
          ]
        },
        {
          "output_type": "stream",
          "name": "stdout",
          "text": [
            "\u001b[36m(ClientAppActor pid=75190)\u001b[0m 36\u001b[32m [repeated 3x across cluster]\u001b[0m\n",
            "\u001b[36m(ClientAppActor pid=75190)\u001b[0m [Client 3] fit, config: {}\u001b[32m [repeated 3x across cluster]\u001b[0m\n",
            "[0.11573176085948944, 0.1417819857597351, 0.10325471311807632, 0.102914959192276, 0.09924669563770294, 0.09970273077487946, 0.09347467124462128]\n",
            "[4, 4, 4, 4, 4, 4, 4]\n",
            "\u001b[36m(ClientAppActor pid=75190)\u001b[0m [Client 4] evaluate, config: {}\u001b[32m [repeated 3x across cluster]\u001b[0m\n"
          ]
        },
        {
          "output_type": "stream",
          "name": "stderr",
          "text": [
            "\u001b[92mINFO \u001b[0m:      aggregate_evaluate: received 7 results and 0 failures\n",
            "\u001b[92mINFO \u001b[0m:      \n",
            "\u001b[92mINFO \u001b[0m:      [SUMMARY]\n",
            "\u001b[92mINFO \u001b[0m:      Run finished 50 round(s) in 403.81s\n",
            "\u001b[92mINFO \u001b[0m:      \tHistory (loss, distributed):\n",
            "\u001b[92mINFO \u001b[0m:      \t\tround 1: 0.4859507185583154\n",
            "\u001b[92mINFO \u001b[0m:      \t\tround 2: 0.48547654579416893\n",
            "\u001b[92mINFO \u001b[0m:      \t\tround 3: 0.484969517544874\n",
            "\u001b[92mINFO \u001b[0m:      \t\tround 4: 0.484440197830555\n",
            "\u001b[92mINFO \u001b[0m:      \t\tround 5: 0.48389381669715803\n",
            "\u001b[92mINFO \u001b[0m:      \t\tround 6: 0.48333242791042946\n",
            "\u001b[92mINFO \u001b[0m:      \t\tround 7: 0.4827566860999117\n",
            "\u001b[92mINFO \u001b[0m:      \t\tround 8: 0.4821666409524081\n",
            "\u001b[92mINFO \u001b[0m:      \t\tround 9: 0.4815617348245464\n",
            "\u001b[92mINFO \u001b[0m:      \t\tround 10: 0.48094144662494936\n",
            "\u001b[92mINFO \u001b[0m:      \t\tround 11: 0.4803058187979235\n",
            "\u001b[92mINFO \u001b[0m:      \t\tround 12: 0.4796541972003287\n",
            "\u001b[92mINFO \u001b[0m:      \t\tround 13: 0.4789861505998778\n",
            "\u001b[92mINFO \u001b[0m:      \t\tround 14: 0.47830083290629366\n",
            "\u001b[92mINFO \u001b[0m:      \t\tround 15: 0.4775968780944973\n",
            "\u001b[92mINFO \u001b[0m:      \t\tround 16: 0.4768728995274422\n",
            "\u001b[92mINFO \u001b[0m:      \t\tround 17: 0.47612698876012277\n",
            "\u001b[92mINFO \u001b[0m:      \t\tround 18: 0.47535846380543006\n",
            "\u001b[92mINFO \u001b[0m:      \t\tround 19: 0.4745661079845791\n",
            "\u001b[92mINFO \u001b[0m:      \t\tround 20: 0.47374851621856706\n",
            "\u001b[92mINFO \u001b[0m:      \t\tround 21: 0.47290406739675817\n",
            "\u001b[92mINFO \u001b[0m:      \t\tround 22: 0.4720306113857687\n",
            "\u001b[92mINFO \u001b[0m:      \t\tround 23: 0.4711270478764564\n",
            "\u001b[92mINFO \u001b[0m:      \t\tround 24: 0.4701917350280012\n",
            "\u001b[92mINFO \u001b[0m:      \t\tround 25: 0.46922073781621165\n",
            "\u001b[92mINFO \u001b[0m:      \t\tround 26: 0.46821123960646654\n",
            "\u001b[92mINFO \u001b[0m:      \t\tround 27: 0.467160165625913\n",
            "\u001b[92mINFO \u001b[0m:      \t\tround 28: 0.4660629281832574\n",
            "\u001b[92mINFO \u001b[0m:      \t\tround 29: 0.4649171677955753\n",
            "\u001b[92mINFO \u001b[0m:      \t\tround 30: 0.4637186570032443\n",
            "\u001b[92mINFO \u001b[0m:      \t\tround 31: 0.46246472912194714\n",
            "\u001b[92mINFO \u001b[0m:      \t\tround 32: 0.4611537082735652\n",
            "\u001b[92mINFO \u001b[0m:      \t\tround 33: 0.45978343778319863\n",
            "\u001b[92mINFO \u001b[0m:      \t\tround 34: 0.4583506545200182\n",
            "\u001b[92mINFO \u001b[0m:      \t\tround 35: 0.45685423925401913\n",
            "\u001b[92mINFO \u001b[0m:      \t\tround 36: 0.4552938395828061\n",
            "\u001b[92mINFO \u001b[0m:      \t\tround 37: 0.45366718034063824\n",
            "\u001b[92mINFO \u001b[0m:      \t\tround 38: 0.45197286938765874\n",
            "\u001b[92mINFO \u001b[0m:      \t\tround 39: 0.4502071790111634\n",
            "\u001b[92mINFO \u001b[0m:      \t\tround 40: 0.44836787643460707\n",
            "\u001b[92mINFO \u001b[0m:      \t\tround 41: 0.4464512408015342\n",
            "\u001b[92mINFO \u001b[0m:      \t\tround 42: 0.4444538079875228\n",
            "\u001b[92mINFO \u001b[0m:      \t\tround 43: 0.4423762069167362\n",
            "\u001b[92mINFO \u001b[0m:      \t\tround 44: 0.44021919133999055\n",
            "\u001b[92mINFO \u001b[0m:      \t\tround 45: 0.43798024251040835\n",
            "\u001b[92mINFO \u001b[0m:      \t\tround 46: 0.43566019107475606\n",
            "\u001b[92mINFO \u001b[0m:      \t\tround 47: 0.4332616691000134\n",
            "\u001b[92mINFO \u001b[0m:      \t\tround 48: 0.43078548418484836\n",
            "\u001b[92mINFO \u001b[0m:      \t\tround 49: 0.4282342722884927\n",
            "\u001b[92mINFO \u001b[0m:      \t\tround 50: 0.4256083854300049\n",
            "\u001b[92mINFO \u001b[0m:      \tHistory (metrics, distributed, fit):\n",
            "\u001b[92mINFO \u001b[0m:      \t{'train_loss': [(1, 0.12924946951014654),\n",
            "\u001b[92mINFO \u001b[0m:      \t                (2, 0.12973255344799586),\n",
            "\u001b[92mINFO \u001b[0m:      \t                (3, 0.12785019086939947),\n",
            "\u001b[92mINFO \u001b[0m:      \t                (4, 0.12533925686563765),\n",
            "\u001b[92mINFO \u001b[0m:      \t                (5, 0.1246046285544123),\n",
            "\u001b[92mINFO \u001b[0m:      \t                (6, 0.12565385018076217),\n",
            "\u001b[92mINFO \u001b[0m:      \t                (7, 0.12520153926951544),\n",
            "\u001b[92mINFO \u001b[0m:      \t                (8, 0.1258240139910153),\n",
            "\u001b[92mINFO \u001b[0m:      \t                (9, 0.12578667487416947),\n",
            "\u001b[92mINFO \u001b[0m:      \t                (10, 0.12379431511674609),\n",
            "\u001b[92mINFO \u001b[0m:      \t                (11, 0.12466284526245934),\n",
            "\u001b[92mINFO \u001b[0m:      \t                (12, 0.12435029127768107),\n",
            "\u001b[92mINFO \u001b[0m:      \t                (13, 0.1245036827666419),\n",
            "\u001b[92mINFO \u001b[0m:      \t                (14, 0.12381515119756971),\n",
            "\u001b[92mINFO \u001b[0m:      \t                (15, 0.12449286026614052),\n",
            "\u001b[92mINFO \u001b[0m:      \t                (16, 0.12220755645206996),\n",
            "\u001b[92mINFO \u001b[0m:      \t                (17, 0.12267488773380007),\n",
            "\u001b[92mINFO \u001b[0m:      \t                (18, 0.12311920097896031),\n",
            "\u001b[92mINFO \u001b[0m:      \t                (19, 0.1239786541887692),\n",
            "\u001b[92mINFO \u001b[0m:      \t                (20, 0.12309545704296657),\n",
            "\u001b[92mINFO \u001b[0m:      \t                (21, 0.12291735623564039),\n",
            "\u001b[92mINFO \u001b[0m:      \t                (22, 0.12195181207997459),\n",
            "\u001b[92mINFO \u001b[0m:      \t                (23, 0.12252803359712873),\n",
            "\u001b[92mINFO \u001b[0m:      \t                (24, 0.12255202446665082),\n",
            "\u001b[92mINFO \u001b[0m:      \t                (25, 0.12238015979528427),\n",
            "\u001b[92mINFO \u001b[0m:      \t                (26, 0.12172856501170568),\n",
            "\u001b[92mINFO \u001b[0m:      \t                (27, 0.12112062211547579),\n",
            "\u001b[92mINFO \u001b[0m:      \t                (28, 0.12106293972049441),\n",
            "\u001b[92mINFO \u001b[0m:      \t                (29, 0.12025667939867292),\n",
            "\u001b[92mINFO \u001b[0m:      \t                (30, 0.12032503954001836),\n",
            "\u001b[92mINFO \u001b[0m:      \t                (31, 0.1206217993582998),\n",
            "\u001b[92mINFO \u001b[0m:      \t                (32, 0.11892332881689072),\n",
            "\u001b[92mINFO \u001b[0m:      \t                (33, 0.1194102434175355),\n",
            "\u001b[92mINFO \u001b[0m:      \t                (34, 0.11912726185151509),\n",
            "\u001b[92mINFO \u001b[0m:      \t                (35, 0.11875159186976296),\n",
            "\u001b[92mINFO \u001b[0m:      \t                (36, 0.11681262723037175),\n",
            "\u001b[92mINFO \u001b[0m:      \t                (37, 0.11571551114320755),\n",
            "\u001b[92mINFO \u001b[0m:      \t                (38, 0.11460841766425542),\n",
            "\u001b[92mINFO \u001b[0m:      \t                (39, 0.11496754203523908),\n",
            "\u001b[92mINFO \u001b[0m:      \t                (40, 0.1141259531889643),\n",
            "\u001b[92mINFO \u001b[0m:      \t                (41, 0.11303717749459403),\n",
            "\u001b[92mINFO \u001b[0m:      \t                (42, 0.11223519912787847),\n",
            "\u001b[92mINFO \u001b[0m:      \t                (43, 0.11239019674914223),\n",
            "\u001b[92mINFO \u001b[0m:      \t                (44, 0.11120530962944031),\n",
            "\u001b[92mINFO \u001b[0m:      \t                (45, 0.11107977373259408),\n",
            "\u001b[92mINFO \u001b[0m:      \t                (46, 0.1106217812214579),\n",
            "\u001b[92mINFO \u001b[0m:      \t                (47, 0.1102108040026256),\n",
            "\u001b[92mINFO \u001b[0m:      \t                (48, 0.10921079346111842),\n",
            "\u001b[92mINFO \u001b[0m:      \t                (49, 0.10859747656754085),\n",
            "\u001b[92mINFO \u001b[0m:      \t                (50, 0.10801535951239723)]}\n",
            "\u001b[92mINFO \u001b[0m:      \tHistory (metrics, distributed, evaluate):\n",
            "\u001b[92mINFO \u001b[0m:      \t{'aggregate_threshold_mean': [(1, 0.5080838516786043),\n",
            "\u001b[92mINFO \u001b[0m:      \t                              (2, 0.5076393067626443),\n",
            "\u001b[92mINFO \u001b[0m:      \t                              (3, 0.5071436649156802),\n",
            "\u001b[92mINFO \u001b[0m:      \t                              (4, 0.5066047520131748),\n",
            "\u001b[92mINFO \u001b[0m:      \t                              (5, 0.5060454160141507),\n",
            "\u001b[92mINFO \u001b[0m:      \t                              (6, 0.5054944048172346),\n",
            "\u001b[92mINFO \u001b[0m:      \t                              (7, 0.5049201204247937),\n"
          ]
        },
        {
          "output_type": "stream",
          "name": "stdout",
          "text": [
            "Client 6 threshold: 0.4352211955133246\n",
            "Client 4 threshold: 0.4498932238794101\n",
            "Client 2 threshold: 0.44482439472559715\n",
            "Client 3 threshold: 0.44184230702187133\n",
            "Client 5 threshold: 0.4491364409083609\n",
            "Client 1 threshold: 0.45044332392816755\n",
            "Client 0 threshold: 0.4421259769810922\n",
            "Lowest validation threshold updated\n",
            "Saving model at round 50\n"
          ]
        },
        {
          "output_type": "stream",
          "name": "stderr",
          "text": [
            "\u001b[92mINFO \u001b[0m:      \t                              (8, 0.5043549185572126),\n",
            "\u001b[92mINFO \u001b[0m:      \t                              (9, 0.5037593907997105),\n",
            "\u001b[92mINFO \u001b[0m:      \t                              (10, 0.5031248686987249),\n",
            "\u001b[92mINFO \u001b[0m:      \t                              (11, 0.5024898938643146),\n",
            "\u001b[92mINFO \u001b[0m:      \t                              (12, 0.5018148265861079),\n",
            "\u001b[92mINFO \u001b[0m:      \t                              (13, 0.5011130445269116),\n",
            "\u001b[92mINFO \u001b[0m:      \t                              (14, 0.5003890276439404),\n",
            "\u001b[92mINFO \u001b[0m:      \t                              (15, 0.49964645902990634),\n",
            "\u001b[92mINFO \u001b[0m:      \t                              (16, 0.4989006696084281),\n",
            "\u001b[92mINFO \u001b[0m:      \t                              (17, 0.4981062755929483),\n",
            "\u001b[92mINFO \u001b[0m:      \t                              (18, 0.497305250415613),\n",
            "\u001b[92mINFO \u001b[0m:      \t                              (19, 0.4964821615245848),\n",
            "\u001b[92mINFO \u001b[0m:      \t                              (20, 0.495610833838442),\n",
            "\u001b[92mINFO \u001b[0m:      \t                              (21, 0.4947236497040843),\n",
            "\u001b[92mINFO \u001b[0m:      \t                              (22, 0.4937656377597572),\n",
            "\u001b[92mINFO \u001b[0m:      \t                              (23, 0.49279379359768566),\n",
            "\u001b[92mINFO \u001b[0m:      \t                              (24, 0.4917651599582655),\n",
            "\u001b[92mINFO \u001b[0m:      \t                              (25, 0.4907268707156085),\n",
            "\u001b[92mINFO \u001b[0m:      \t                              (26, 0.4896167000975199),\n",
            "\u001b[92mINFO \u001b[0m:      \t                              (27, 0.48844548528809123),\n",
            "\u001b[92mINFO \u001b[0m:      \t                              (28, 0.4872111473571969),\n",
            "\u001b[92mINFO \u001b[0m:      \t                              (29, 0.4859332272331408),\n",
            "\u001b[92mINFO \u001b[0m:      \t                              (30, 0.4845513861369405),\n",
            "\u001b[92mINFO \u001b[0m:      \t                              (31, 0.4831359137977012),\n",
            "\u001b[92mINFO \u001b[0m:      \t                              (32, 0.4816692767164243),\n",
            "\u001b[92mINFO \u001b[0m:      \t                              (33, 0.4801103927414944),\n",
            "\u001b[92mINFO \u001b[0m:      \t                              (34, 0.47856306189303),\n",
            "\u001b[92mINFO \u001b[0m:      \t                              (35, 0.47691175485776566),\n",
            "\u001b[92mINFO \u001b[0m:      \t                              (36, 0.4751620111398459),\n",
            "\u001b[92mINFO \u001b[0m:      \t                              (37, 0.47336397212760367),\n",
            "\u001b[92mINFO \u001b[0m:      \t                              (38, 0.47153623716905246),\n",
            "\u001b[92mINFO \u001b[0m:      \t                              (39, 0.46966905504637646),\n",
            "\u001b[92mINFO \u001b[0m:      \t                              (40, 0.46768224385538165),\n",
            "\u001b[92mINFO \u001b[0m:      \t                              (41, 0.46567725874740346),\n",
            "\u001b[92mINFO \u001b[0m:      \t                              (42, 0.46357748471168925),\n",
            "\u001b[92mINFO \u001b[0m:      \t                              (43, 0.46156141629593866),\n",
            "\u001b[92mINFO \u001b[0m:      \t                              (44, 0.4595704767035582),\n",
            "\u001b[92mINFO \u001b[0m:      \t                              (45, 0.4573218576964682),\n",
            "\u001b[92mINFO \u001b[0m:      \t                              (46, 0.45497730396791297),\n",
            "\u001b[92mINFO \u001b[0m:      \t                              (47, 0.45256285970618404),\n",
            "\u001b[92mINFO \u001b[0m:      \t                              (48, 0.4500357910212954),\n",
            "\u001b[92mINFO \u001b[0m:      \t                              (49, 0.4474945277587669),\n",
            "\u001b[92mINFO \u001b[0m:      \t                              (50, 0.44478383756540346)],\n",
            "\u001b[92mINFO \u001b[0m:      \t 'aggregate_threshold_std': [(1, 0.005306553565205247),\n",
            "\u001b[92mINFO \u001b[0m:      \t                             (2, 0.005312594724807192),\n",
            "\u001b[92mINFO \u001b[0m:      \t                             (3, 0.00531968213810474),\n",
            "\u001b[92mINFO \u001b[0m:      \t                             (4, 0.0053100221127279044),\n",
            "\u001b[92mINFO \u001b[0m:      \t                             (5, 0.005309732761066543),\n",
            "\u001b[92mINFO \u001b[0m:      \t                             (6, 0.0052954506420747035),\n",
            "\u001b[92mINFO \u001b[0m:      \t                             (7, 0.005295365253901476),\n",
            "\u001b[92mINFO \u001b[0m:      \t                             (8, 0.005273863322256952),\n",
            "\u001b[92mINFO \u001b[0m:      \t                             (9, 0.005266232051309263),\n",
            "\u001b[92mINFO \u001b[0m:      \t                             (10, 0.005270135686980526),\n",
            "\u001b[92mINFO \u001b[0m:      \t                             (11, 0.005277336938029506),\n",
            "\u001b[92mINFO \u001b[0m:      \t                             (12, 0.005307081449035894),\n",
            "\u001b[92mINFO \u001b[0m:      \t                             (13, 0.005334472005533269),\n",
            "\u001b[92mINFO \u001b[0m:      \t                             (14, 0.005352036897349312),\n",
            "\u001b[92mINFO \u001b[0m:      \t                             (15, 0.005359582038340919),\n",
            "\u001b[92mINFO \u001b[0m:      \t                             (16, 0.005349438583903596),\n",
            "\u001b[92mINFO \u001b[0m:      \t                             (17, 0.0053360267929145454),\n",
            "\u001b[92mINFO \u001b[0m:      \t                             (18, 0.005318926502158826),\n",
            "\u001b[92mINFO \u001b[0m:      \t                             (19, 0.00529104477852905),\n",
            "\u001b[92mINFO \u001b[0m:      \t                             (20, 0.005266569264356547),\n",
            "\u001b[92mINFO \u001b[0m:      \t                             (21, 0.005246705627173546),\n",
            "\u001b[92mINFO \u001b[0m:      \t                             (22, 0.00522420187171575),\n",
            "\u001b[92mINFO \u001b[0m:      \t                             (23, 0.005182936701111929),\n",
            "\u001b[92mINFO \u001b[0m:      \t                             (24, 0.0051384140324324595),\n",
            "\u001b[92mINFO \u001b[0m:      \t                             (25, 0.005077292516295945),\n",
            "\u001b[92mINFO \u001b[0m:      \t                             (26, 0.005016661114283283),\n",
            "\u001b[92mINFO \u001b[0m:      \t                             (27, 0.00495232895192104),\n",
            "\u001b[92mINFO \u001b[0m:      \t                             (28, 0.004884612715975614),\n",
            "\u001b[92mINFO \u001b[0m:      \t                             (29, 0.004794416314048747),\n",
            "\u001b[92mINFO \u001b[0m:      \t                             (30, 0.0046860230802163285),\n",
            "\u001b[92mINFO \u001b[0m:      \t                             (31, 0.004610660670650872),\n",
            "\u001b[92mINFO \u001b[0m:      \t                             (32, 0.004511618451314014),\n",
            "\u001b[92mINFO \u001b[0m:      \t                             (33, 0.0044312718129243),\n",
            "\u001b[92mINFO \u001b[0m:      \t                             (34, 0.004375823298060819),\n",
            "\u001b[92mINFO \u001b[0m:      \t                             (35, 0.004292369192441978),\n",
            "\u001b[92mINFO \u001b[0m:      \t                             (36, 0.00419701626781413),\n",
            "\u001b[92mINFO \u001b[0m:      \t                             (37, 0.004165529049676771),\n",
            "\u001b[92mINFO \u001b[0m:      \t                             (38, 0.00410357644996251),\n",
            "\u001b[92mINFO \u001b[0m:      \t                             (39, 0.0042481676010883715),\n",
            "\u001b[92mINFO \u001b[0m:      \t                             (40, 0.004243508893059654),\n",
            "\u001b[92mINFO \u001b[0m:      \t                             (41, 0.0042031190534717955),\n",
            "\u001b[92mINFO \u001b[0m:      \t                             (42, 0.004221127782583562),\n",
            "\u001b[92mINFO \u001b[0m:      \t                             (43, 0.004275616227392822),\n",
            "\u001b[92mINFO \u001b[0m:      \t                             (44, 0.004467131678676305),\n",
            "\u001b[92mINFO \u001b[0m:      \t                             (45, 0.004594293213827389),\n",
            "\u001b[92mINFO \u001b[0m:      \t                             (46, 0.004763105643270435),\n",
            "\u001b[92mINFO \u001b[0m:      \t                             (47, 0.004816262613615954),\n",
            "\u001b[92mINFO \u001b[0m:      \t                             (48, 0.004929564238244767),\n",
            "\u001b[92mINFO \u001b[0m:      \t                             (49, 0.005021327095947236),\n",
            "\u001b[92mINFO \u001b[0m:      \t                             (50, 0.0051303489575103564)],\n",
            "\u001b[92mINFO \u001b[0m:      \t 'client_thresholds': [(1,\n",
            "\u001b[92mINFO \u001b[0m:      \t                        (0.5053243871650295,\n",
            "\u001b[92mINFO \u001b[0m:      \t                         0.5025743560311272,\n",
            "\u001b[92mINFO \u001b[0m:      \t                         0.5032906305370078,\n",
            "\u001b[92mINFO \u001b[0m:      \t                         0.5040551525288053,\n",
            "\u001b[92mINFO \u001b[0m:      \t                         0.513372608689718,\n",
            "\u001b[92mINFO \u001b[0m:      \t                         0.5173260204878587,\n",
            "\u001b[92mINFO \u001b[0m:      \t                         0.5106438063106832)),\n",
            "\u001b[92mINFO \u001b[0m:      \t                       (2,\n",
            "\u001b[92mINFO \u001b[0m:      \t                        (0.5048760275087794,\n",
            "\u001b[92mINFO \u001b[0m:      \t                         0.5021486880065339,\n",
            "\u001b[92mINFO \u001b[0m:      \t                         0.5028183028915164,\n",
            "\u001b[92mINFO \u001b[0m:      \t                         0.5036092342264464,\n",
            "\u001b[92mINFO \u001b[0m:      \t                         0.5129661184541114,\n",
            "\u001b[92mINFO \u001b[0m:      \t                         0.5168871072298954,\n",
            "\u001b[92mINFO \u001b[0m:      \t                         0.5101696690212282)),\n",
            "\u001b[92mINFO \u001b[0m:      \t                       (3,\n",
            "\u001b[92mINFO \u001b[0m:      \t                        (0.5043766959940367,\n",
            "\u001b[92mINFO \u001b[0m:      \t                         0.5016381921586851,\n",
            "\u001b[92mINFO \u001b[0m:      \t                         0.5023125802921486,\n",
            "\u001b[92mINFO \u001b[0m:      \t                         0.5031301717317106,\n",
            "\u001b[92mINFO \u001b[0m:      \t                         0.5124713668083155,\n",
            "\u001b[92mINFO \u001b[0m:      \t                         0.5164147760493831,\n",
            "\u001b[92mINFO \u001b[0m:      \t                         0.5096618713754814)),\n",
            "\u001b[92mINFO \u001b[0m:      \t                       (4,\n",
            "\u001b[92mINFO \u001b[0m:      \t                        (0.503855686336813,\n",
            "\u001b[92mINFO \u001b[0m:      \t                         0.5011305831992653,\n",
            "\u001b[92mINFO \u001b[0m:      \t                         0.5017841006589477,\n",
            "\u001b[92mINFO \u001b[0m:      \t                         0.5026041479035324,\n",
            "\u001b[92mINFO \u001b[0m:      \t                         0.5119252511256027,\n",
            "\u001b[92mINFO \u001b[0m:      \t                         0.5158999131315146,\n",
            "\u001b[92mINFO \u001b[0m:      \t                         0.5090335817365484)),\n",
            "\u001b[92mINFO \u001b[0m:      \t                       (5,\n",
            "\u001b[92mINFO \u001b[0m:      \t                        (0.5033005836275153,\n",
            "\u001b[92mINFO \u001b[0m:      \t                         0.5005286864817918,\n",
            "\u001b[92mINFO \u001b[0m:      \t                         0.5012378051814211,\n",
            "\u001b[92mINFO \u001b[0m:      \t                         0.5020865353486013,\n",
            "\u001b[92mINFO \u001b[0m:      \t                         0.5113089393668668,\n",
            "\u001b[92mINFO \u001b[0m:      \t                         0.5153694686957562,\n",
            "\u001b[92mINFO \u001b[0m:      \t                         0.5084858933971023)),\n",
            "\u001b[92mINFO \u001b[0m:      \t                       (6,\n",
            "\u001b[92mINFO \u001b[0m:      \t                        (0.502766697424347,\n",
            "\u001b[92mINFO \u001b[0m:      \t                         0.500013730214584,\n",
            "\u001b[92mINFO \u001b[0m:      \t                         0.5006763708236389,\n",
            "\u001b[92mINFO \u001b[0m:      \t                         0.5015540187928355,\n",
            "\u001b[92mINFO \u001b[0m:      \t                         0.5107023828056134,\n",
            "\u001b[92mINFO \u001b[0m:      \t                         0.5148246356643605,\n",
            "\u001b[92mINFO \u001b[0m:      \t                         0.5079229979952637)),\n",
            "\u001b[92mINFO \u001b[0m:      \t                       (7,\n",
            "\u001b[92mINFO \u001b[0m:      \t                        (0.5022007613086833,\n",
            "\u001b[92mINFO \u001b[0m:      \t                         0.49945873451575223,\n",
            "\u001b[92mINFO \u001b[0m:      \t                         0.500081078246144,\n",
            "\u001b[92mINFO \u001b[0m:      \t                         0.5009816815860885,\n",
            "\u001b[92mINFO \u001b[0m:      \t                         0.5101062976842319,\n",
            "\u001b[92mINFO \u001b[0m:      \t                         0.514266634060711,\n",
            "\u001b[92mINFO \u001b[0m:      \t                         0.5073456555719447)),\n",
            "\u001b[92mINFO \u001b[0m:      \t                       (8,\n",
            "\u001b[92mINFO \u001b[0m:      \t                        (0.5016564814745959,\n",
            "\u001b[92mINFO \u001b[0m:      \t                         0.4989633922579733,\n",
            "\u001b[92mINFO \u001b[0m:      \t                         0.49952820124813196,\n",
            "\u001b[92mINFO \u001b[0m:      \t                         0.500394722601524,\n",
            "\u001b[92mINFO \u001b[0m:      \t                         0.5094951822393087,\n",
            "\u001b[92mINFO \u001b[0m:      \t                         0.5136922751413364,\n",
            "\u001b[92mINFO \u001b[0m:      \t                         0.5067541749376172)),\n",
            "\u001b[92mINFO \u001b[0m:      \t                       (9,\n",
            "\u001b[92mINFO \u001b[0m:      \t                        (0.5010604470217466,\n",
            "\u001b[92mINFO \u001b[0m:      \t                         0.4983525955003294,\n",
            "\u001b[92mINFO \u001b[0m:      \t                         0.49892039356146256,\n",
            "\u001b[92mINFO \u001b[0m:      \t                         0.4998668669053023,\n",
            "\u001b[92mINFO \u001b[0m:      \t                         0.5088683132049241,\n",
            "\u001b[92mINFO \u001b[0m:      \t                         0.5130998356324088,\n",
            "\u001b[92mINFO \u001b[0m:      \t                         0.5061472837718002)),\n",
            "\u001b[92mINFO \u001b[0m:      \t                       (10,\n",
            "\u001b[92mINFO \u001b[0m:      \t                        (0.5004474064253177,\n",
            "\u001b[92mINFO \u001b[0m:      \t                         0.49767511929553593,\n",
            "\u001b[92mINFO \u001b[0m:      \t                         0.49829456579610165,\n",
            "\u001b[92mINFO \u001b[0m:      \t                         0.4992462925322642,\n",
            "\u001b[92mINFO \u001b[0m:      \t                         0.5081995354591045,\n",
            "\u001b[92mINFO \u001b[0m:      \t                         0.5124883073036139,\n",
            "\u001b[92mINFO \u001b[0m:      \t                         0.5055228540791364)),\n",
            "\u001b[92mINFO \u001b[0m:      \t                       (11,\n",
            "\u001b[92mINFO \u001b[0m:      \t                        (0.4998131450449031,\n",
            "\u001b[92mINFO \u001b[0m:      \t                         0.49702986406817284,\n",
            "\u001b[92mINFO \u001b[0m:      \t                         0.4976505703991182,\n",
            "\u001b[92mINFO \u001b[0m:      \t                         0.4986077511824233,\n",
            "\u001b[92mINFO \u001b[0m:      \t                         0.5075914531510427,\n",
            "\u001b[92mINFO \u001b[0m:      \t                         0.5118574535084209,\n",
            "\u001b[92mINFO \u001b[0m:      \t                         0.5048790196961208)),\n",
            "\u001b[92mINFO \u001b[0m:      \t                       (12,\n",
            "\u001b[92mINFO \u001b[0m:      \t                        (0.49911211542889466,\n",
            "\u001b[92mINFO \u001b[0m:      \t                         0.49636690506810127,\n",
            "\u001b[92mINFO \u001b[0m:      \t                         0.4969869757420558,\n",
            "\u001b[92mINFO \u001b[0m:      \t                         0.4978259591356111,\n",
            "\u001b[92mINFO \u001b[0m:      \t                         0.5069656537630892,\n",
            "\u001b[92mINFO \u001b[0m:      \t                         0.5112306483815832,\n",
            "\u001b[92mINFO \u001b[0m:      \t                         0.50421552858342)),\n",
            "\u001b[92mINFO \u001b[0m:      \t                       (13,\n",
            "\u001b[92mINFO \u001b[0m:      \t                        (0.4984364329732715,\n",
            "\u001b[92mINFO \u001b[0m:      \t                         0.4957108432052748,\n",
            "\u001b[92mINFO \u001b[0m:      \t                         0.4962835407490286,\n",
            "\u001b[92mINFO \u001b[0m:      \t                         0.4969499701048456,\n",
            "\u001b[92mINFO \u001b[0m:      \t                         0.5063214864401062,\n",
            "\u001b[92mINFO \u001b[0m:      \t                         0.510558787777104,\n",
            "\u001b[92mINFO \u001b[0m:      \t                         0.5035302504387507)),\n",
            "\u001b[92mINFO \u001b[0m:      \t                       (14,\n",
            "\u001b[92mINFO \u001b[0m:      \t                        (0.49773970607915036,\n",
            "\u001b[92mINFO \u001b[0m:      \t                         0.49493422078481136,\n",
            "\u001b[92mINFO \u001b[0m:      \t                         0.49557941363845925,\n",
            "\u001b[92mINFO \u001b[0m:      \t                         0.4961807442078238,\n",
            "\u001b[92mINFO \u001b[0m:      \t                         0.5056077836100228,\n",
            "\u001b[92mINFO \u001b[0m:      \t                         0.5098630838267537,\n",
            "\u001b[92mINFO \u001b[0m:      \t                         0.5028182413605613)),\n",
            "\u001b[92mINFO \u001b[0m:      \t                       (15,\n",
            "\u001b[92mINFO \u001b[0m:      \t                        (0.4970247734647037,\n",
            "\u001b[92mINFO \u001b[0m:      \t                         0.49423824016561896,\n",
            "\u001b[92mINFO \u001b[0m:      \t                         0.4948530287734044,\n",
            "\u001b[92mINFO \u001b[0m:      \t                         0.49532327842033225,\n",
            "\u001b[92mINFO \u001b[0m:      \t                         0.5048700171695486,\n",
            "\u001b[92mINFO \u001b[0m:      \t                         0.5091380150416476,\n",
            "\u001b[92mINFO \u001b[0m:      \t                         0.5020778601740886)),\n",
            "\u001b[92mINFO \u001b[0m:      \t                       (16,\n",
            "\u001b[92mINFO \u001b[0m:      \t                        (0.49628963610268056,\n",
            "\u001b[92mINFO \u001b[0m:      \t                         0.4934701653803142,\n",
            "\u001b[92mINFO \u001b[0m:      \t                         0.49415882248024257,\n",
            "\u001b[92mINFO \u001b[0m:      \t                         0.4945831883833074,\n",
            "\u001b[92mINFO \u001b[0m:      \t                         0.5041087565835612,\n",
            "\u001b[92mINFO \u001b[0m:      \t                         0.5083853182165973,\n",
            "\u001b[92mINFO \u001b[0m:      \t                         0.5013088001122937)),\n",
            "\u001b[92mINFO \u001b[0m:      \t                       (17,\n",
            "\u001b[92mINFO \u001b[0m:      \t                        (0.49552924138118565,\n",
            "\u001b[92mINFO \u001b[0m:      \t                         0.49272621006704453,\n",
            "\u001b[92mINFO \u001b[0m:      \t                         0.4933788790050397,\n",
            "\u001b[92mINFO \u001b[0m:      \t                         0.4937485592787349,\n",
            "\u001b[92mINFO \u001b[0m:      \t                         0.503247433382224,\n",
            "\u001b[92mINFO \u001b[0m:      \t                         0.5076021546569763,\n",
            "\u001b[92mINFO \u001b[0m:      \t                         0.500511451379433)),\n",
            "\u001b[92mINFO \u001b[0m:      \t                       (18,\n",
            "\u001b[92mINFO \u001b[0m:      \t                        (0.49470522053916466,\n",
            "\u001b[92mINFO \u001b[0m:      \t                         0.49197883155575334,\n",
            "\u001b[92mINFO \u001b[0m:      \t                         0.4925728419284404,\n",
            "\u001b[92mINFO \u001b[0m:      \t                         0.4929790628393934,\n",
            "\u001b[92mINFO \u001b[0m:      \t                         0.5024318167258518,\n",
            "\u001b[92mINFO \u001b[0m:      \t                         0.506784203276158,\n",
            "\u001b[92mINFO \u001b[0m:      \t                         0.4996847760445294)),\n",
            "\u001b[92mINFO \u001b[0m:      \t                       (19,\n",
            "\u001b[92mINFO \u001b[0m:      \t                        (0.49388768591837223,\n",
            "\u001b[92mINFO \u001b[0m:      \t                         0.49115189021242583,\n",
            "\u001b[92mINFO \u001b[0m:      \t                         0.49173850076968456,\n",
            "\u001b[92mINFO \u001b[0m:      \t                         0.4922738243379456,\n",
            "\u001b[92mINFO \u001b[0m:      \t                         0.5015665363084583,\n",
            "\u001b[92mINFO \u001b[0m:      \t                         0.5059300859832473,\n",
            "\u001b[92mINFO \u001b[0m:      \t                         0.4988266071419595)),\n",
            "\u001b[92mINFO \u001b[0m:      \t                       (20,\n",
            "\u001b[92mINFO \u001b[0m:      \t                        (0.49302665453271755,\n",
            "\u001b[92mINFO \u001b[0m:      \t                         0.49029756079439085,\n",
            "\u001b[92mINFO \u001b[0m:      \t                         0.49087146175897384,\n",
            "\u001b[92mINFO \u001b[0m:      \t                         0.4914656500352167,\n",
            "\u001b[92mINFO \u001b[0m:      \t                         0.5006450792683013,\n",
            "\u001b[92mINFO \u001b[0m:      \t                         0.5050382782853159,\n",
            "\u001b[92mINFO \u001b[0m:      \t                         0.4979311521941778)),\n",
            "\u001b[92mINFO \u001b[0m:      \t                       (21,\n",
            "\u001b[92mINFO \u001b[0m:      \t                        (0.4921545631959445,\n",
            "\u001b[92mINFO \u001b[0m:      \t                         0.48941394739670974,\n",
            "\u001b[92mINFO \u001b[0m:      \t                         0.48998857739016083,\n",
            "\u001b[92mINFO \u001b[0m:      \t                         0.4906442322069485,\n",
            "\u001b[92mINFO \u001b[0m:      \t                         0.49974089880220846,\n",
            "\u001b[92mINFO \u001b[0m:      \t                         0.5041325269178438,\n",
            "\u001b[92mINFO \u001b[0m:      \t                         0.4969908020187743)),\n",
            "\u001b[92mINFO \u001b[0m:      \t                       (22,\n",
            "\u001b[92mINFO \u001b[0m:      \t                        (0.49113666194494005,\n",
            "\u001b[92mINFO \u001b[0m:      \t                         0.48849845134622527,\n",
            "\u001b[92mINFO \u001b[0m:      \t                         0.4890323630470946,\n",
            "\u001b[92mINFO \u001b[0m:      \t                         0.48978464705455055,\n",
            "\u001b[92mINFO \u001b[0m:      \t                         0.4987999750525453,\n",
            "\u001b[92mINFO \u001b[0m:      \t                         0.5031447529310463,\n",
            "\u001b[92mINFO \u001b[0m:      \t                         0.4959626129418982)),\n",
            "\u001b[92mINFO \u001b[0m:      \t                       (23,\n",
            "\u001b[92mINFO \u001b[0m:      \t                        (0.4902057703023516,\n",
            "\u001b[92mINFO \u001b[0m:      \t                         0.4875262211523898,\n",
            "\u001b[92mINFO \u001b[0m:      \t                         0.488060827580534,\n",
            "\u001b[92mINFO \u001b[0m:      \t                         0.48893233311086265,\n",
            "\u001b[92mINFO \u001b[0m:      \t                         0.49779714138117614,\n",
            "\u001b[92mINFO \u001b[0m:      \t                         0.5021043396545986,\n",
            "\u001b[92mINFO \u001b[0m:      \t                         0.49492992200188696)),\n",
            "\u001b[92mINFO \u001b[0m:      \t                       (24,\n",
            "\u001b[92mINFO \u001b[0m:      \t                        (0.48921718906719996,\n",
            "\u001b[92mINFO \u001b[0m:      \t                         0.4865199898673979,\n",
            "\u001b[92mINFO \u001b[0m:      \t                         0.48701447815286014,\n",
            "\u001b[92mINFO \u001b[0m:      \t                         0.4880649800328141,\n",
            "\u001b[92mINFO \u001b[0m:      \t                         0.4967821849067361,\n",
            "\u001b[92mINFO \u001b[0m:      \t                         0.5010094726550907,\n",
            "\u001b[92mINFO \u001b[0m:      \t                         0.49374782502575937)),\n",
            "\u001b[92mINFO \u001b[0m:      \t                       (25,\n",
            "\u001b[92mINFO \u001b[0m:      \t                        (0.48820286369388666,\n",
            "\u001b[92mINFO \u001b[0m:      \t                         0.48554699843561006,\n",
            "\u001b[92mINFO \u001b[0m:      \t                         0.4858610000999828,\n",
            "\u001b[92mINFO \u001b[0m:      \t                         0.4872931285516016,\n",
            "\u001b[92mINFO \u001b[0m:      \t                         0.4957481418751162,\n",
            "\u001b[92mINFO \u001b[0m:      \t                         0.49984189980469784,\n",
            "\u001b[92mINFO \u001b[0m:      \t                         0.49259406254836413)),\n",
            "\u001b[92mINFO \u001b[0m:      \t                       (26,\n",
            "\u001b[92mINFO \u001b[0m:      \t                        (0.48719313317194674,\n",
            "\u001b[92mINFO \u001b[0m:      \t                         0.48447897969759013,\n",
            "\u001b[92mINFO \u001b[0m:      \t                         0.4846765206183038,\n",
            "\u001b[92mINFO \u001b[0m:      \t                         0.4863697835524202,\n",
            "\u001b[92mINFO \u001b[0m:      \t                         0.4946201099364761,\n",
            "\u001b[92mINFO \u001b[0m:      \t                         0.49860783268872344,\n",
            "\u001b[92mINFO \u001b[0m:      \t                         0.49137054101717914)),\n",
            "\u001b[92mINFO \u001b[0m:      \t                       (27,\n",
            "\u001b[92mINFO \u001b[0m:      \t                        (0.4861624397155779,\n",
            "\u001b[92mINFO \u001b[0m:      \t                         0.4834001246875693,\n",
            "\u001b[92mINFO \u001b[0m:      \t                         0.483497106544995,\n",
            "\u001b[92mINFO \u001b[0m:      \t                         0.48525576446494834,\n",
            "\u001b[92mINFO \u001b[0m:      \t                         0.4934606791510929,\n",
            "\u001b[92mINFO \u001b[0m:      \t                         0.4973168971900167,\n",
            "\u001b[92mINFO \u001b[0m:      \t                         0.49002538526243883)),\n",
            "\u001b[92mINFO \u001b[0m:      \t                       (28,\n",
            "\u001b[92mINFO \u001b[0m:      \t                        (0.48494144289031205,\n",
            "\u001b[92mINFO \u001b[0m:      \t                         0.4823293996128729,\n",
            "\u001b[92mINFO \u001b[0m:      \t                         0.4822427697463725,\n",
            "\u001b[92mINFO \u001b[0m:      \t                         0.48413335705326865,\n",
            "\u001b[92mINFO \u001b[0m:      \t                         0.49223814000593225,\n",
            "\u001b[92mINFO \u001b[0m:      \t                         0.49596279539043564,\n",
            "\u001b[92mINFO \u001b[0m:      \t                         0.4886301268011842)),\n",
            "\u001b[92mINFO \u001b[0m:      \t                       (29,\n",
            "\u001b[92mINFO \u001b[0m:      \t                        (0.483785251597432,\n",
            "\u001b[92mINFO \u001b[0m:      \t                         0.48119353511629703,\n",
            "\u001b[92mINFO \u001b[0m:      \t                         0.4810064118781593,\n",
            "\u001b[92mINFO \u001b[0m:      \t                         0.48292547974809535,\n",
            "\u001b[92mINFO \u001b[0m:      \t                         0.4909438625703876,\n",
            "\u001b[92mINFO \u001b[0m:      \t                         0.4945313339057592,\n",
            "\u001b[92mINFO \u001b[0m:      \t                         0.48714671581585506)),\n",
            "\u001b[92mINFO \u001b[0m:      \t                       (30,\n",
            "\u001b[92mINFO \u001b[0m:      \t                        (0.4824408378242624,\n",
            "\u001b[92mINFO \u001b[0m:      \t                         0.4800772973366116,\n",
            "\u001b[92mINFO \u001b[0m:      \t                         0.4796818545013427,\n",
            "\u001b[92mINFO \u001b[0m:      \t                         0.4816020733346852,\n",
            "\u001b[92mINFO \u001b[0m:      \t                         0.4894798462172276,\n",
            "\u001b[92mINFO \u001b[0m:      \t                         0.49300718157974577,\n",
            "\u001b[92mINFO \u001b[0m:      \t                         0.48557061216470815)),\n",
            "\u001b[92mINFO \u001b[0m:      \t                       (31,\n",
            "\u001b[92mINFO \u001b[0m:      \t                        (0.4810996703728964,\n",
            "\u001b[92mINFO \u001b[0m:      \t                         0.4787403095039987,\n",
            "\u001b[92mINFO \u001b[0m:      \t                         0.478274638757586,\n",
            "\u001b[92mINFO \u001b[0m:      \t                         0.48041885599579065,\n",
            "\u001b[92mINFO \u001b[0m:      \t                         0.4881013061183827,\n",
            "\u001b[92mINFO \u001b[0m:      \t                         0.4914508072375082,\n",
            "\u001b[92mINFO \u001b[0m:      \t                         0.4838658085977458)),\n",
            "\u001b[92mINFO \u001b[0m:      \t                       (32,\n",
            "\u001b[92mINFO \u001b[0m:      \t                        (0.47979918390990234,\n",
            "\u001b[92mINFO \u001b[0m:      \t                         0.47746999644921595,\n",
            "\u001b[92mINFO \u001b[0m:      \t                         0.4768401380328212,\n",
            "\u001b[92mINFO \u001b[0m:      \t                         0.4790560946492826,\n",
            "\u001b[92mINFO \u001b[0m:      \t                         0.4866032446270055,\n",
            "\u001b[92mINFO \u001b[0m:      \t                         0.48983561786628205,\n",
            "\u001b[92mINFO \u001b[0m:      \t                         0.48208066148046075)),\n",
            "\u001b[92mINFO \u001b[0m:      \t                       (33,\n",
            "\u001b[92mINFO \u001b[0m:      \t                        (0.4783420084837716,\n",
            "\u001b[92mINFO \u001b[0m:      \t                         0.47619024202281285,\n",
            "\u001b[92mINFO \u001b[0m:      \t                         0.4753562551230104,\n",
            "\u001b[92mINFO \u001b[0m:      \t                         0.47747821985955585,\n",
            "\u001b[92mINFO \u001b[0m:      \t                         0.48506981639792784,\n",
            "\u001b[92mINFO \u001b[0m:      \t                         0.4881619956994706,\n",
            "\u001b[92mINFO \u001b[0m:      \t                         0.48017421160391144)),\n",
            "\u001b[92mINFO \u001b[0m:      \t                       (34,\n",
            "\u001b[92mINFO \u001b[0m:      \t                        (0.47684458419566694,\n",
            "\u001b[92mINFO \u001b[0m:      \t                         0.4750222086782668,\n",
            "\u001b[92mINFO \u001b[0m:      \t                         0.4738793052398767,\n",
            "\u001b[92mINFO \u001b[0m:      \t                         0.475802805090603,\n",
            "\u001b[92mINFO \u001b[0m:      \t                         0.4837588853283816,\n",
            "\u001b[92mINFO \u001b[0m:      \t                         0.4864283542646294,\n",
            "\u001b[92mINFO \u001b[0m:      \t                         0.4782052904537857)),\n",
            "\u001b[92mINFO \u001b[0m:      \t                       (35,\n",
            "\u001b[92mINFO \u001b[0m:      \t                        (0.47530052275390366,\n",
            "\u001b[92mINFO \u001b[0m:      \t                         0.4737238917690458,\n",
            "\u001b[92mINFO \u001b[0m:      \t                         0.47236624947800643,\n",
            "\u001b[92mINFO \u001b[0m:      \t                         0.4740756289246425,\n",
            "\u001b[92mINFO \u001b[0m:      \t                         0.4821595726619447,\n",
            "\u001b[92mINFO \u001b[0m:      \t                         0.484617021561099,\n",
            "\u001b[92mINFO \u001b[0m:      \t                         0.4761393968557179)),\n",
            "\u001b[92mINFO \u001b[0m:      \t                       (36,\n",
            "\u001b[92mINFO \u001b[0m:      \t                        (0.47356489562818327,\n",
            "\u001b[92mINFO \u001b[0m:      \t                         0.47247633826089835,\n",
            "\u001b[92mINFO \u001b[0m:      \t                         0.47070925654122736,\n",
            "\u001b[92mINFO \u001b[0m:      \t                         0.47229134848894283,\n",
            "\u001b[92mINFO \u001b[0m:      \t                         0.48033709986549883,\n",
            "\u001b[92mINFO \u001b[0m:      \t                         0.4827371624004748,\n",
            "\u001b[92mINFO \u001b[0m:      \t                         0.47401797679369584)),\n",
            "\u001b[92mINFO \u001b[0m:      \t                       (37,\n",
            "\u001b[92mINFO \u001b[0m:      \t                        (0.47175714689592374,\n",
            "\u001b[92mINFO \u001b[0m:      \t                         0.4711282435609714,\n",
            "\u001b[92mINFO \u001b[0m:      \t                         0.4690043686070685,\n",
            "\u001b[92mINFO \u001b[0m:      \t                         0.47045562348249637,\n",
            "\u001b[92mINFO \u001b[0m:      \t                         0.4786660098696694,\n",
            "\u001b[92mINFO \u001b[0m:      \t                         0.48081989086287646,\n",
            "\u001b[92mINFO \u001b[0m:      \t                         0.4717165216142203)),\n",
            "\u001b[92mINFO \u001b[0m:      \t                       (38,\n",
            "\u001b[92mINFO \u001b[0m:      \t                        (0.46975321742491266,\n",
            "\u001b[92mINFO \u001b[0m:      \t                         0.4703085256770553,\n",
            "\u001b[92mINFO \u001b[0m:      \t                         0.4672314638837255,\n",
            "\u001b[92mINFO \u001b[0m:      \t                         0.46851725973494673,\n",
            "\u001b[92mINFO \u001b[0m:      \t                         0.4767921617783244,\n",
            "\u001b[92mINFO \u001b[0m:      \t                         0.478820145922901,\n",
            "\u001b[92mINFO \u001b[0m:      \t                         0.4693308857615013)),\n",
            "\u001b[92mINFO \u001b[0m:      \t                       (39,\n",
            "\u001b[92mINFO \u001b[0m:      \t                        (0.4677576127982374,\n",
            "\u001b[92mINFO \u001b[0m:      \t                         0.46881167760154724,\n",
            "\u001b[92mINFO \u001b[0m:      \t                         0.465494824290634,\n",
            "\u001b[92mINFO \u001b[0m:      \t                         0.4664599314049347,\n",
            "\u001b[92mINFO \u001b[0m:      \t                         0.4756369403132157,\n",
            "\u001b[92mINFO \u001b[0m:      \t                         0.47675355963298194,\n",
            "\u001b[92mINFO \u001b[0m:      \t                         0.4667688392830843)),\n",
            "\u001b[92mINFO \u001b[0m:      \t                       (40,\n",
            "\u001b[92mINFO \u001b[0m:      \t                        (0.4657886581819813,\n",
            "\u001b[92mINFO \u001b[0m:      \t                         0.46738478666521893,\n",
            "\u001b[92mINFO \u001b[0m:      \t                         0.46386710163104655,\n",
            "\u001b[92mINFO \u001b[0m:      \t                         0.46431425317470887,\n",
            "\u001b[92mINFO \u001b[0m:      \t                         0.47366883064702886,\n",
            "\u001b[92mINFO \u001b[0m:      \t                         0.4746153920361722,\n",
            "\u001b[92mINFO \u001b[0m:      \t                         0.4641366846515154)),\n",
            "\u001b[92mINFO \u001b[0m:      \t                       (41,\n",
            "\u001b[92mINFO \u001b[0m:      \t                        (0.4636363482560866,\n",
            "\u001b[92mINFO \u001b[0m:      \t                         0.4658953619199976,\n",
            "\u001b[92mINFO \u001b[0m:      \t                         0.46223775971571307,\n",
            "\u001b[92mINFO \u001b[0m:      \t                         0.4624937690819078,\n",
            "\u001b[92mINFO \u001b[0m:      \t                         0.4715663896604817,\n",
            "\u001b[92mINFO \u001b[0m:      \t                         0.4724115830804034,\n",
            "\u001b[92mINFO \u001b[0m:      \t                         0.46149959951723457)),\n",
            "\u001b[92mINFO \u001b[0m:      \t                       (42,\n",
            "\u001b[92mINFO \u001b[0m:      \t                        (0.46150132067566774,\n",
            "\u001b[92mINFO \u001b[0m:      \t                         0.464541800042127,\n",
            "\u001b[92mINFO \u001b[0m:      \t                         0.4603575994062974,\n",
            "\u001b[92mINFO \u001b[0m:      \t                         0.4603629424735187,\n",
            "\u001b[92mINFO \u001b[0m:      \t                         0.4694133686585453,\n",
            "\u001b[92mINFO \u001b[0m:      \t                         0.4700569084365285,\n",
            "\u001b[92mINFO \u001b[0m:      \t                         0.45880845328913994)),\n",
            "\u001b[92mINFO \u001b[0m:      \t                       (43,\n",
            "\u001b[92mINFO \u001b[0m:      \t                        (0.459331553495998,\n",
            "\u001b[92mINFO \u001b[0m:      \t                         0.46370633006466494,\n",
            "\u001b[92mINFO \u001b[0m:      \t                         0.45867416202111544,\n",
            "\u001b[92mINFO \u001b[0m:      \t                         0.45835631581253605,\n",
            "\u001b[92mINFO \u001b[0m:      \t                         0.467168188261119,\n",
            "\u001b[92mINFO \u001b[0m:      \t                         0.4676855932443327,\n",
            "\u001b[92mINFO \u001b[0m:      \t                         0.45600777117180463)),\n",
            "\u001b[92mINFO \u001b[0m:      \t                       (44,\n",
            "\u001b[92mINFO \u001b[0m:      \t                        (0.457224297418826,\n",
            "\u001b[92mINFO \u001b[0m:      \t                         0.46342541446895075,\n",
            "\u001b[92mINFO \u001b[0m:      \t                         0.45702764082637826,\n",
            "\u001b[92mINFO \u001b[0m:      \t                         0.4560820213600134,\n",
            "\u001b[92mINFO \u001b[0m:      \t                         0.46487238522834606,\n",
            "\u001b[92mINFO \u001b[0m:      \t                         0.46519213114619024,\n",
            "\u001b[92mINFO \u001b[0m:      \t                         0.453169446476203)),\n",
            "\u001b[92mINFO \u001b[0m:      \t                       (45,\n",
            "\u001b[92mINFO \u001b[0m:      \t                        (0.45497485341604643,\n",
            "\u001b[92mINFO \u001b[0m:      \t                         0.4617838753947416,\n",
            "\u001b[92mINFO \u001b[0m:      \t                         0.45497510683230774,\n",
            "\u001b[92mINFO \u001b[0m:      \t                         0.4539633692605578,\n",
            "\u001b[92mINFO \u001b[0m:      \t                         0.4625352056349671,\n",
            "\u001b[92mINFO \u001b[0m:      \t                         0.46271721765965323,\n",
            "\u001b[92mINFO \u001b[0m:      \t                         0.4503033756770036)),\n",
            "\u001b[92mINFO \u001b[0m:      \t                       (46,\n",
            "\u001b[92mINFO \u001b[0m:      \t                        (0.4526125502071542,\n",
            "\u001b[92mINFO \u001b[0m:      \t                         0.46002115751697936,\n",
            "\u001b[92mINFO \u001b[0m:      \t                         0.4530246300423061,\n",
            "\u001b[92mINFO \u001b[0m:      \t                         0.4514071563951459,\n",
            "\u001b[92mINFO \u001b[0m:      \t                         0.46020601773530895,\n",
            "\u001b[92mINFO \u001b[0m:      \t                         0.4601501546792156,\n",
            "\u001b[92mINFO \u001b[0m:      \t                         0.4474194611992805)),\n",
            "\u001b[92mINFO \u001b[0m:      \t                       (47,\n",
            "\u001b[92mINFO \u001b[0m:      \t                        (0.4499571407515208,\n",
            "\u001b[92mINFO \u001b[0m:      \t                         0.4578909596496176,\n",
            "\u001b[92mINFO \u001b[0m:      \t                         0.45127357998969236,\n",
            "\u001b[92mINFO \u001b[0m:      \t                         0.4492090109685271,\n",
            "\u001b[92mINFO \u001b[0m:      \t                         0.4576206997662101,\n",
            "\u001b[92mINFO \u001b[0m:      \t                         0.45746668986872224,\n",
            "\u001b[92mINFO \u001b[0m:      \t                         0.44452193694899805)),\n",
            "\u001b[92mINFO \u001b[0m:      \t                       (48,\n",
            "\u001b[92mINFO \u001b[0m:      \t                        (0.4474714130607183,\n",
            "\u001b[92mINFO \u001b[0m:      \t                         0.45540329827603715,\n",
            "\u001b[92mINFO \u001b[0m:      \t                         0.44923115191819224,\n",
            "\u001b[92mINFO \u001b[0m:      \t                         0.4468344136033289,\n",
            "\u001b[92mINFO \u001b[0m:      \t                         0.45514529290415023,\n",
            "\u001b[92mINFO \u001b[0m:      \t                         0.45479381614723857,\n",
            "\u001b[92mINFO \u001b[0m:      \t                         0.4413711512394025)),\n",
            "\u001b[92mINFO \u001b[0m:      \t                       (49,\n",
            "\u001b[92mINFO \u001b[0m:      \t                        (0.4448969555974991,\n",
            "\u001b[92mINFO \u001b[0m:      \t                         0.4529308857955664,\n",
            "\u001b[92mINFO \u001b[0m:      \t                         0.44741981229491645,\n",
            "\u001b[92mINFO \u001b[0m:      \t                         0.44447551708931765,\n",
            "\u001b[92mINFO \u001b[0m:      \t                         0.45248480468746033,\n",
            "\u001b[92mINFO \u001b[0m:      \t                         0.45201743749966516,\n",
            "\u001b[92mINFO \u001b[0m:      \t                         0.43823628134694353)),\n",
            "\u001b[92mINFO \u001b[0m:      \t                       (50,\n",
            "\u001b[92mINFO \u001b[0m:      \t                        (0.4421259769810922,\n",
            "\u001b[92mINFO \u001b[0m:      \t                         0.45044332392816755,\n",
            "\u001b[92mINFO \u001b[0m:      \t                         0.44482439472559715,\n",
            "\u001b[92mINFO \u001b[0m:      \t                         0.44184230702187133,\n",
            "\u001b[92mINFO \u001b[0m:      \t                         0.4498932238794101,\n",
            "\u001b[92mINFO \u001b[0m:      \t                         0.4491364409083609,\n",
            "\u001b[92mINFO \u001b[0m:      \t                         0.4352211955133246))]}\n",
            "\u001b[92mINFO \u001b[0m:      \n"
          ]
        }
      ]
    },
    {
      "cell_type": "code",
      "source": [
        "THRESHOLD = min([i[1] for i in history_train.metrics_distributed['aggregate_threshold_mean']])\n",
        "print(THRESHOLD)"
      ],
      "metadata": {
        "colab": {
          "base_uri": "https://localhost:8080/"
        },
        "id": "bGpemxsBssFh",
        "outputId": "c11b7291-7f51-42c8-d828-7ceef9f9e492"
      },
      "execution_count": null,
      "outputs": [
        {
          "output_type": "stream",
          "name": "stdout",
          "text": [
            "0.44478383756540346\n"
          ]
        }
      ]
    },
    {
      "cell_type": "code",
      "source": [
        "# eta = 0.0005,eta_l = 0.001\n",
        "import plotly.express as px\n",
        "import pandas as pd\n",
        "\n",
        "# Initialize data\n",
        "rounds = []\n",
        "client_threshold = {}\n",
        "for i in range(9):\n",
        "    client_threshold[i] = []\n",
        "\n",
        "# Simulating data collection from `history_train.metrics_distributed`\n",
        "# Replace this part with your actual data logic\n",
        "for round, thres_client in history_train.metrics_distributed['client_thresholds']:\n",
        "    rounds.append(round)\n",
        "    for i in range(len(thres_client)):\n",
        "        client_threshold[i].append(thres_client[i])\n",
        "\n",
        "# Prepare data for Plotly\n",
        "data = []\n",
        "for client_id, client_thres in client_threshold.items():\n",
        "    for r, thres in zip(rounds, client_thres):\n",
        "        data.append({'round': r, 'threshold': thres, 'client_id': f'Client {client_id}'})\n",
        "\n",
        "# Convert to DataFrame\n",
        "df = pd.DataFrame(data)\n",
        "\n",
        "# Plot using Plotly Express\n",
        "fig = px.line(\n",
        "    df,\n",
        "    x='round',\n",
        "    y='threshold',\n",
        "    color='client_id',\n",
        "    title='Client Thresholds Over Rounds',\n",
        "    labels={'round': 'Rounds', 'threshold': 'Threshold', 'client_id': 'Client ID'},\n",
        "    template='plotly'\n",
        ")\n",
        "\n",
        "# Show the interactive plot\n",
        "fig.show()\n"
      ],
      "metadata": {
        "colab": {
          "base_uri": "https://localhost:8080/",
          "height": 542
        },
        "id": "jRxcIPaUtIgH",
        "outputId": "20e7010a-2d41-463f-f872-f8dd35f475a2"
      },
      "execution_count": null,
      "outputs": [
        {
          "output_type": "display_data",
          "data": {
            "text/html": [
              "<html>\n",
              "<head><meta charset=\"utf-8\" /></head>\n",
              "<body>\n",
              "    <div>            <script src=\"https://cdnjs.cloudflare.com/ajax/libs/mathjax/2.7.5/MathJax.js?config=TeX-AMS-MML_SVG\"></script><script type=\"text/javascript\">if (window.MathJax && window.MathJax.Hub && window.MathJax.Hub.Config) {window.MathJax.Hub.Config({SVG: {font: \"STIX-Web\"}});}</script>                <script type=\"text/javascript\">window.PlotlyConfig = {MathJaxConfig: 'local'};</script>\n",
              "        <script charset=\"utf-8\" src=\"https://cdn.plot.ly/plotly-2.35.2.min.js\"></script>                <div id=\"8892a13e-53da-4ac9-9bed-e97cc7d5e5cb\" class=\"plotly-graph-div\" style=\"height:525px; width:100%;\"></div>            <script type=\"text/javascript\">                                    window.PLOTLYENV=window.PLOTLYENV || {};                                    if (document.getElementById(\"8892a13e-53da-4ac9-9bed-e97cc7d5e5cb\")) {                    Plotly.newPlot(                        \"8892a13e-53da-4ac9-9bed-e97cc7d5e5cb\",                        [{\"hovertemplate\":\"Client ID=Client 0\\u003cbr\\u003eRounds=%{x}\\u003cbr\\u003eThreshold=%{y}\\u003cextra\\u003e\\u003c\\u002fextra\\u003e\",\"legendgroup\":\"Client 0\",\"line\":{\"color\":\"#636efa\",\"dash\":\"solid\"},\"marker\":{\"symbol\":\"circle\"},\"mode\":\"lines\",\"name\":\"Client 0\",\"orientation\":\"v\",\"showlegend\":true,\"x\":[1,2,3,4,5,6,7,8,9,10,11,12,13,14,15,16,17,18,19,20,21,22,23,24,25,26,27,28,29,30,31,32,33,34,35,36,37,38,39,40,41,42,43,44,45,46,47,48,49,50],\"xaxis\":\"x\",\"y\":[0.5053243871650295,0.5048760275087794,0.5043766959940367,0.503855686336813,0.5033005836275153,0.502766697424347,0.5022007613086833,0.5016564814745959,0.5010604470217466,0.5004474064253177,0.4998131450449031,0.49911211542889466,0.4984364329732715,0.49773970607915036,0.4970247734647037,0.49628963610268056,0.49552924138118565,0.49470522053916466,0.49388768591837223,0.49302665453271755,0.4921545631959445,0.49113666194494005,0.4902057703023516,0.48921718906719996,0.48820286369388666,0.48719313317194674,0.4861624397155779,0.48494144289031205,0.483785251597432,0.4824408378242624,0.4810996703728964,0.47979918390990234,0.4783420084837716,0.47684458419566694,0.47530052275390366,0.47356489562818327,0.47175714689592374,0.46975321742491266,0.4677576127982374,0.4657886581819813,0.4636363482560866,0.46150132067566774,0.459331553495998,0.457224297418826,0.45497485341604643,0.4526125502071542,0.4499571407515208,0.4474714130607183,0.4448969555974991,0.4421259769810922],\"yaxis\":\"y\",\"type\":\"scatter\"},{\"hovertemplate\":\"Client ID=Client 1\\u003cbr\\u003eRounds=%{x}\\u003cbr\\u003eThreshold=%{y}\\u003cextra\\u003e\\u003c\\u002fextra\\u003e\",\"legendgroup\":\"Client 1\",\"line\":{\"color\":\"#EF553B\",\"dash\":\"solid\"},\"marker\":{\"symbol\":\"circle\"},\"mode\":\"lines\",\"name\":\"Client 1\",\"orientation\":\"v\",\"showlegend\":true,\"x\":[1,2,3,4,5,6,7,8,9,10,11,12,13,14,15,16,17,18,19,20,21,22,23,24,25,26,27,28,29,30,31,32,33,34,35,36,37,38,39,40,41,42,43,44,45,46,47,48,49,50],\"xaxis\":\"x\",\"y\":[0.5025743560311272,0.5021486880065339,0.5016381921586851,0.5011305831992653,0.5005286864817918,0.500013730214584,0.49945873451575223,0.4989633922579733,0.4983525955003294,0.49767511929553593,0.49702986406817284,0.49636690506810127,0.4957108432052748,0.49493422078481136,0.49423824016561896,0.4934701653803142,0.49272621006704453,0.49197883155575334,0.49115189021242583,0.49029756079439085,0.48941394739670974,0.48849845134622527,0.4875262211523898,0.4865199898673979,0.48554699843561006,0.48447897969759013,0.4834001246875693,0.4823293996128729,0.48119353511629703,0.4800772973366116,0.4787403095039987,0.47746999644921595,0.47619024202281285,0.4750222086782668,0.4737238917690458,0.47247633826089835,0.4711282435609714,0.4703085256770553,0.46881167760154724,0.46738478666521893,0.4658953619199976,0.464541800042127,0.46370633006466494,0.46342541446895075,0.4617838753947416,0.46002115751697936,0.4578909596496176,0.45540329827603715,0.4529308857955664,0.45044332392816755],\"yaxis\":\"y\",\"type\":\"scatter\"},{\"hovertemplate\":\"Client ID=Client 2\\u003cbr\\u003eRounds=%{x}\\u003cbr\\u003eThreshold=%{y}\\u003cextra\\u003e\\u003c\\u002fextra\\u003e\",\"legendgroup\":\"Client 2\",\"line\":{\"color\":\"#00cc96\",\"dash\":\"solid\"},\"marker\":{\"symbol\":\"circle\"},\"mode\":\"lines\",\"name\":\"Client 2\",\"orientation\":\"v\",\"showlegend\":true,\"x\":[1,2,3,4,5,6,7,8,9,10,11,12,13,14,15,16,17,18,19,20,21,22,23,24,25,26,27,28,29,30,31,32,33,34,35,36,37,38,39,40,41,42,43,44,45,46,47,48,49,50],\"xaxis\":\"x\",\"y\":[0.5032906305370078,0.5028183028915164,0.5023125802921486,0.5017841006589477,0.5012378051814211,0.5006763708236389,0.500081078246144,0.49952820124813196,0.49892039356146256,0.49829456579610165,0.4976505703991182,0.4969869757420558,0.4962835407490286,0.49557941363845925,0.4948530287734044,0.49415882248024257,0.4933788790050397,0.4925728419284404,0.49173850076968456,0.49087146175897384,0.48998857739016083,0.4890323630470946,0.488060827580534,0.48701447815286014,0.4858610000999828,0.4846765206183038,0.483497106544995,0.4822427697463725,0.4810064118781593,0.4796818545013427,0.478274638757586,0.4768401380328212,0.4753562551230104,0.4738793052398767,0.47236624947800643,0.47070925654122736,0.4690043686070685,0.4672314638837255,0.465494824290634,0.46386710163104655,0.46223775971571307,0.4603575994062974,0.45867416202111544,0.45702764082637826,0.45497510683230774,0.4530246300423061,0.45127357998969236,0.44923115191819224,0.44741981229491645,0.44482439472559715],\"yaxis\":\"y\",\"type\":\"scatter\"},{\"hovertemplate\":\"Client ID=Client 3\\u003cbr\\u003eRounds=%{x}\\u003cbr\\u003eThreshold=%{y}\\u003cextra\\u003e\\u003c\\u002fextra\\u003e\",\"legendgroup\":\"Client 3\",\"line\":{\"color\":\"#ab63fa\",\"dash\":\"solid\"},\"marker\":{\"symbol\":\"circle\"},\"mode\":\"lines\",\"name\":\"Client 3\",\"orientation\":\"v\",\"showlegend\":true,\"x\":[1,2,3,4,5,6,7,8,9,10,11,12,13,14,15,16,17,18,19,20,21,22,23,24,25,26,27,28,29,30,31,32,33,34,35,36,37,38,39,40,41,42,43,44,45,46,47,48,49,50],\"xaxis\":\"x\",\"y\":[0.5040551525288053,0.5036092342264464,0.5031301717317106,0.5026041479035324,0.5020865353486013,0.5015540187928355,0.5009816815860885,0.500394722601524,0.4998668669053023,0.4992462925322642,0.4986077511824233,0.4978259591356111,0.4969499701048456,0.4961807442078238,0.49532327842033225,0.4945831883833074,0.4937485592787349,0.4929790628393934,0.4922738243379456,0.4914656500352167,0.4906442322069485,0.48978464705455055,0.48893233311086265,0.4880649800328141,0.4872931285516016,0.4863697835524202,0.48525576446494834,0.48413335705326865,0.48292547974809535,0.4816020733346852,0.48041885599579065,0.4790560946492826,0.47747821985955585,0.475802805090603,0.4740756289246425,0.47229134848894283,0.47045562348249637,0.46851725973494673,0.4664599314049347,0.46431425317470887,0.4624937690819078,0.4603629424735187,0.45835631581253605,0.4560820213600134,0.4539633692605578,0.4514071563951459,0.4492090109685271,0.4468344136033289,0.44447551708931765,0.44184230702187133],\"yaxis\":\"y\",\"type\":\"scatter\"},{\"hovertemplate\":\"Client ID=Client 4\\u003cbr\\u003eRounds=%{x}\\u003cbr\\u003eThreshold=%{y}\\u003cextra\\u003e\\u003c\\u002fextra\\u003e\",\"legendgroup\":\"Client 4\",\"line\":{\"color\":\"#FFA15A\",\"dash\":\"solid\"},\"marker\":{\"symbol\":\"circle\"},\"mode\":\"lines\",\"name\":\"Client 4\",\"orientation\":\"v\",\"showlegend\":true,\"x\":[1,2,3,4,5,6,7,8,9,10,11,12,13,14,15,16,17,18,19,20,21,22,23,24,25,26,27,28,29,30,31,32,33,34,35,36,37,38,39,40,41,42,43,44,45,46,47,48,49,50],\"xaxis\":\"x\",\"y\":[0.513372608689718,0.5129661184541114,0.5124713668083155,0.5119252511256027,0.5113089393668668,0.5107023828056134,0.5101062976842319,0.5094951822393087,0.5088683132049241,0.5081995354591045,0.5075914531510427,0.5069656537630892,0.5063214864401062,0.5056077836100228,0.5048700171695486,0.5041087565835612,0.503247433382224,0.5024318167258518,0.5015665363084583,0.5006450792683013,0.49974089880220846,0.4987999750525453,0.49779714138117614,0.4967821849067361,0.4957481418751162,0.4946201099364761,0.4934606791510929,0.49223814000593225,0.4909438625703876,0.4894798462172276,0.4881013061183827,0.4866032446270055,0.48506981639792784,0.4837588853283816,0.4821595726619447,0.48033709986549883,0.4786660098696694,0.4767921617783244,0.4756369403132157,0.47366883064702886,0.4715663896604817,0.4694133686585453,0.467168188261119,0.46487238522834606,0.4625352056349671,0.46020601773530895,0.4576206997662101,0.45514529290415023,0.45248480468746033,0.4498932238794101],\"yaxis\":\"y\",\"type\":\"scatter\"},{\"hovertemplate\":\"Client ID=Client 5\\u003cbr\\u003eRounds=%{x}\\u003cbr\\u003eThreshold=%{y}\\u003cextra\\u003e\\u003c\\u002fextra\\u003e\",\"legendgroup\":\"Client 5\",\"line\":{\"color\":\"#19d3f3\",\"dash\":\"solid\"},\"marker\":{\"symbol\":\"circle\"},\"mode\":\"lines\",\"name\":\"Client 5\",\"orientation\":\"v\",\"showlegend\":true,\"x\":[1,2,3,4,5,6,7,8,9,10,11,12,13,14,15,16,17,18,19,20,21,22,23,24,25,26,27,28,29,30,31,32,33,34,35,36,37,38,39,40,41,42,43,44,45,46,47,48,49,50],\"xaxis\":\"x\",\"y\":[0.5173260204878587,0.5168871072298954,0.5164147760493831,0.5158999131315146,0.5153694686957562,0.5148246356643605,0.514266634060711,0.5136922751413364,0.5130998356324088,0.5124883073036139,0.5118574535084209,0.5112306483815832,0.510558787777104,0.5098630838267537,0.5091380150416476,0.5083853182165973,0.5076021546569763,0.506784203276158,0.5059300859832473,0.5050382782853159,0.5041325269178438,0.5031447529310463,0.5021043396545986,0.5010094726550907,0.49984189980469784,0.49860783268872344,0.4973168971900167,0.49596279539043564,0.4945313339057592,0.49300718157974577,0.4914508072375082,0.48983561786628205,0.4881619956994706,0.4864283542646294,0.484617021561099,0.4827371624004748,0.48081989086287646,0.478820145922901,0.47675355963298194,0.4746153920361722,0.4724115830804034,0.4700569084365285,0.4676855932443327,0.46519213114619024,0.46271721765965323,0.4601501546792156,0.45746668986872224,0.45479381614723857,0.45201743749966516,0.4491364409083609],\"yaxis\":\"y\",\"type\":\"scatter\"},{\"hovertemplate\":\"Client ID=Client 6\\u003cbr\\u003eRounds=%{x}\\u003cbr\\u003eThreshold=%{y}\\u003cextra\\u003e\\u003c\\u002fextra\\u003e\",\"legendgroup\":\"Client 6\",\"line\":{\"color\":\"#FF6692\",\"dash\":\"solid\"},\"marker\":{\"symbol\":\"circle\"},\"mode\":\"lines\",\"name\":\"Client 6\",\"orientation\":\"v\",\"showlegend\":true,\"x\":[1,2,3,4,5,6,7,8,9,10,11,12,13,14,15,16,17,18,19,20,21,22,23,24,25,26,27,28,29,30,31,32,33,34,35,36,37,38,39,40,41,42,43,44,45,46,47,48,49,50],\"xaxis\":\"x\",\"y\":[0.5106438063106832,0.5101696690212282,0.5096618713754814,0.5090335817365484,0.5084858933971023,0.5079229979952637,0.5073456555719447,0.5067541749376172,0.5061472837718002,0.5055228540791364,0.5048790196961208,0.50421552858342,0.5035302504387507,0.5028182413605613,0.5020778601740886,0.5013088001122937,0.500511451379433,0.4996847760445294,0.4988266071419595,0.4979311521941778,0.4969908020187743,0.4959626129418982,0.49492992200188696,0.49374782502575937,0.49259406254836413,0.49137054101717914,0.49002538526243883,0.4886301268011842,0.48714671581585506,0.48557061216470815,0.4838658085977458,0.48208066148046075,0.48017421160391144,0.4782052904537857,0.4761393968557179,0.47401797679369584,0.4717165216142203,0.4693308857615013,0.4667688392830843,0.4641366846515154,0.46149959951723457,0.45880845328913994,0.45600777117180463,0.453169446476203,0.4503033756770036,0.4474194611992805,0.44452193694899805,0.4413711512394025,0.43823628134694353,0.4352211955133246],\"yaxis\":\"y\",\"type\":\"scatter\"}],                        {\"template\":{\"data\":{\"histogram2dcontour\":[{\"type\":\"histogram2dcontour\",\"colorbar\":{\"outlinewidth\":0,\"ticks\":\"\"},\"colorscale\":[[0.0,\"#0d0887\"],[0.1111111111111111,\"#46039f\"],[0.2222222222222222,\"#7201a8\"],[0.3333333333333333,\"#9c179e\"],[0.4444444444444444,\"#bd3786\"],[0.5555555555555556,\"#d8576b\"],[0.6666666666666666,\"#ed7953\"],[0.7777777777777778,\"#fb9f3a\"],[0.8888888888888888,\"#fdca26\"],[1.0,\"#f0f921\"]]}],\"choropleth\":[{\"type\":\"choropleth\",\"colorbar\":{\"outlinewidth\":0,\"ticks\":\"\"}}],\"histogram2d\":[{\"type\":\"histogram2d\",\"colorbar\":{\"outlinewidth\":0,\"ticks\":\"\"},\"colorscale\":[[0.0,\"#0d0887\"],[0.1111111111111111,\"#46039f\"],[0.2222222222222222,\"#7201a8\"],[0.3333333333333333,\"#9c179e\"],[0.4444444444444444,\"#bd3786\"],[0.5555555555555556,\"#d8576b\"],[0.6666666666666666,\"#ed7953\"],[0.7777777777777778,\"#fb9f3a\"],[0.8888888888888888,\"#fdca26\"],[1.0,\"#f0f921\"]]}],\"heatmap\":[{\"type\":\"heatmap\",\"colorbar\":{\"outlinewidth\":0,\"ticks\":\"\"},\"colorscale\":[[0.0,\"#0d0887\"],[0.1111111111111111,\"#46039f\"],[0.2222222222222222,\"#7201a8\"],[0.3333333333333333,\"#9c179e\"],[0.4444444444444444,\"#bd3786\"],[0.5555555555555556,\"#d8576b\"],[0.6666666666666666,\"#ed7953\"],[0.7777777777777778,\"#fb9f3a\"],[0.8888888888888888,\"#fdca26\"],[1.0,\"#f0f921\"]]}],\"heatmapgl\":[{\"type\":\"heatmapgl\",\"colorbar\":{\"outlinewidth\":0,\"ticks\":\"\"},\"colorscale\":[[0.0,\"#0d0887\"],[0.1111111111111111,\"#46039f\"],[0.2222222222222222,\"#7201a8\"],[0.3333333333333333,\"#9c179e\"],[0.4444444444444444,\"#bd3786\"],[0.5555555555555556,\"#d8576b\"],[0.6666666666666666,\"#ed7953\"],[0.7777777777777778,\"#fb9f3a\"],[0.8888888888888888,\"#fdca26\"],[1.0,\"#f0f921\"]]}],\"contourcarpet\":[{\"type\":\"contourcarpet\",\"colorbar\":{\"outlinewidth\":0,\"ticks\":\"\"}}],\"contour\":[{\"type\":\"contour\",\"colorbar\":{\"outlinewidth\":0,\"ticks\":\"\"},\"colorscale\":[[0.0,\"#0d0887\"],[0.1111111111111111,\"#46039f\"],[0.2222222222222222,\"#7201a8\"],[0.3333333333333333,\"#9c179e\"],[0.4444444444444444,\"#bd3786\"],[0.5555555555555556,\"#d8576b\"],[0.6666666666666666,\"#ed7953\"],[0.7777777777777778,\"#fb9f3a\"],[0.8888888888888888,\"#fdca26\"],[1.0,\"#f0f921\"]]}],\"surface\":[{\"type\":\"surface\",\"colorbar\":{\"outlinewidth\":0,\"ticks\":\"\"},\"colorscale\":[[0.0,\"#0d0887\"],[0.1111111111111111,\"#46039f\"],[0.2222222222222222,\"#7201a8\"],[0.3333333333333333,\"#9c179e\"],[0.4444444444444444,\"#bd3786\"],[0.5555555555555556,\"#d8576b\"],[0.6666666666666666,\"#ed7953\"],[0.7777777777777778,\"#fb9f3a\"],[0.8888888888888888,\"#fdca26\"],[1.0,\"#f0f921\"]]}],\"mesh3d\":[{\"type\":\"mesh3d\",\"colorbar\":{\"outlinewidth\":0,\"ticks\":\"\"}}],\"scatter\":[{\"fillpattern\":{\"fillmode\":\"overlay\",\"size\":10,\"solidity\":0.2},\"type\":\"scatter\"}],\"parcoords\":[{\"type\":\"parcoords\",\"line\":{\"colorbar\":{\"outlinewidth\":0,\"ticks\":\"\"}}}],\"scatterpolargl\":[{\"type\":\"scatterpolargl\",\"marker\":{\"colorbar\":{\"outlinewidth\":0,\"ticks\":\"\"}}}],\"bar\":[{\"error_x\":{\"color\":\"#2a3f5f\"},\"error_y\":{\"color\":\"#2a3f5f\"},\"marker\":{\"line\":{\"color\":\"#E5ECF6\",\"width\":0.5},\"pattern\":{\"fillmode\":\"overlay\",\"size\":10,\"solidity\":0.2}},\"type\":\"bar\"}],\"scattergeo\":[{\"type\":\"scattergeo\",\"marker\":{\"colorbar\":{\"outlinewidth\":0,\"ticks\":\"\"}}}],\"scatterpolar\":[{\"type\":\"scatterpolar\",\"marker\":{\"colorbar\":{\"outlinewidth\":0,\"ticks\":\"\"}}}],\"histogram\":[{\"marker\":{\"pattern\":{\"fillmode\":\"overlay\",\"size\":10,\"solidity\":0.2}},\"type\":\"histogram\"}],\"scattergl\":[{\"type\":\"scattergl\",\"marker\":{\"colorbar\":{\"outlinewidth\":0,\"ticks\":\"\"}}}],\"scatter3d\":[{\"type\":\"scatter3d\",\"line\":{\"colorbar\":{\"outlinewidth\":0,\"ticks\":\"\"}},\"marker\":{\"colorbar\":{\"outlinewidth\":0,\"ticks\":\"\"}}}],\"scattermapbox\":[{\"type\":\"scattermapbox\",\"marker\":{\"colorbar\":{\"outlinewidth\":0,\"ticks\":\"\"}}}],\"scatterternary\":[{\"type\":\"scatterternary\",\"marker\":{\"colorbar\":{\"outlinewidth\":0,\"ticks\":\"\"}}}],\"scattercarpet\":[{\"type\":\"scattercarpet\",\"marker\":{\"colorbar\":{\"outlinewidth\":0,\"ticks\":\"\"}}}],\"carpet\":[{\"aaxis\":{\"endlinecolor\":\"#2a3f5f\",\"gridcolor\":\"white\",\"linecolor\":\"white\",\"minorgridcolor\":\"white\",\"startlinecolor\":\"#2a3f5f\"},\"baxis\":{\"endlinecolor\":\"#2a3f5f\",\"gridcolor\":\"white\",\"linecolor\":\"white\",\"minorgridcolor\":\"white\",\"startlinecolor\":\"#2a3f5f\"},\"type\":\"carpet\"}],\"table\":[{\"cells\":{\"fill\":{\"color\":\"#EBF0F8\"},\"line\":{\"color\":\"white\"}},\"header\":{\"fill\":{\"color\":\"#C8D4E3\"},\"line\":{\"color\":\"white\"}},\"type\":\"table\"}],\"barpolar\":[{\"marker\":{\"line\":{\"color\":\"#E5ECF6\",\"width\":0.5},\"pattern\":{\"fillmode\":\"overlay\",\"size\":10,\"solidity\":0.2}},\"type\":\"barpolar\"}],\"pie\":[{\"automargin\":true,\"type\":\"pie\"}]},\"layout\":{\"autotypenumbers\":\"strict\",\"colorway\":[\"#636efa\",\"#EF553B\",\"#00cc96\",\"#ab63fa\",\"#FFA15A\",\"#19d3f3\",\"#FF6692\",\"#B6E880\",\"#FF97FF\",\"#FECB52\"],\"font\":{\"color\":\"#2a3f5f\"},\"hovermode\":\"closest\",\"hoverlabel\":{\"align\":\"left\"},\"paper_bgcolor\":\"white\",\"plot_bgcolor\":\"#E5ECF6\",\"polar\":{\"bgcolor\":\"#E5ECF6\",\"angularaxis\":{\"gridcolor\":\"white\",\"linecolor\":\"white\",\"ticks\":\"\"},\"radialaxis\":{\"gridcolor\":\"white\",\"linecolor\":\"white\",\"ticks\":\"\"}},\"ternary\":{\"bgcolor\":\"#E5ECF6\",\"aaxis\":{\"gridcolor\":\"white\",\"linecolor\":\"white\",\"ticks\":\"\"},\"baxis\":{\"gridcolor\":\"white\",\"linecolor\":\"white\",\"ticks\":\"\"},\"caxis\":{\"gridcolor\":\"white\",\"linecolor\":\"white\",\"ticks\":\"\"}},\"coloraxis\":{\"colorbar\":{\"outlinewidth\":0,\"ticks\":\"\"}},\"colorscale\":{\"sequential\":[[0.0,\"#0d0887\"],[0.1111111111111111,\"#46039f\"],[0.2222222222222222,\"#7201a8\"],[0.3333333333333333,\"#9c179e\"],[0.4444444444444444,\"#bd3786\"],[0.5555555555555556,\"#d8576b\"],[0.6666666666666666,\"#ed7953\"],[0.7777777777777778,\"#fb9f3a\"],[0.8888888888888888,\"#fdca26\"],[1.0,\"#f0f921\"]],\"sequentialminus\":[[0.0,\"#0d0887\"],[0.1111111111111111,\"#46039f\"],[0.2222222222222222,\"#7201a8\"],[0.3333333333333333,\"#9c179e\"],[0.4444444444444444,\"#bd3786\"],[0.5555555555555556,\"#d8576b\"],[0.6666666666666666,\"#ed7953\"],[0.7777777777777778,\"#fb9f3a\"],[0.8888888888888888,\"#fdca26\"],[1.0,\"#f0f921\"]],\"diverging\":[[0,\"#8e0152\"],[0.1,\"#c51b7d\"],[0.2,\"#de77ae\"],[0.3,\"#f1b6da\"],[0.4,\"#fde0ef\"],[0.5,\"#f7f7f7\"],[0.6,\"#e6f5d0\"],[0.7,\"#b8e186\"],[0.8,\"#7fbc41\"],[0.9,\"#4d9221\"],[1,\"#276419\"]]},\"xaxis\":{\"gridcolor\":\"white\",\"linecolor\":\"white\",\"ticks\":\"\",\"title\":{\"standoff\":15},\"zerolinecolor\":\"white\",\"automargin\":true,\"zerolinewidth\":2},\"yaxis\":{\"gridcolor\":\"white\",\"linecolor\":\"white\",\"ticks\":\"\",\"title\":{\"standoff\":15},\"zerolinecolor\":\"white\",\"automargin\":true,\"zerolinewidth\":2},\"scene\":{\"xaxis\":{\"backgroundcolor\":\"#E5ECF6\",\"gridcolor\":\"white\",\"linecolor\":\"white\",\"showbackground\":true,\"ticks\":\"\",\"zerolinecolor\":\"white\",\"gridwidth\":2},\"yaxis\":{\"backgroundcolor\":\"#E5ECF6\",\"gridcolor\":\"white\",\"linecolor\":\"white\",\"showbackground\":true,\"ticks\":\"\",\"zerolinecolor\":\"white\",\"gridwidth\":2},\"zaxis\":{\"backgroundcolor\":\"#E5ECF6\",\"gridcolor\":\"white\",\"linecolor\":\"white\",\"showbackground\":true,\"ticks\":\"\",\"zerolinecolor\":\"white\",\"gridwidth\":2}},\"shapedefaults\":{\"line\":{\"color\":\"#2a3f5f\"}},\"annotationdefaults\":{\"arrowcolor\":\"#2a3f5f\",\"arrowhead\":0,\"arrowwidth\":1},\"geo\":{\"bgcolor\":\"white\",\"landcolor\":\"#E5ECF6\",\"subunitcolor\":\"white\",\"showland\":true,\"showlakes\":true,\"lakecolor\":\"white\"},\"title\":{\"x\":0.05},\"mapbox\":{\"style\":\"light\"}}},\"xaxis\":{\"anchor\":\"y\",\"domain\":[0.0,1.0],\"title\":{\"text\":\"Rounds\"}},\"yaxis\":{\"anchor\":\"x\",\"domain\":[0.0,1.0],\"title\":{\"text\":\"Threshold\"}},\"legend\":{\"title\":{\"text\":\"Client ID\"},\"tracegroupgap\":0},\"title\":{\"text\":\"Client Thresholds Over Rounds\"}},                        {\"responsive\": true}                    ).then(function(){\n",
              "                            \n",
              "var gd = document.getElementById('8892a13e-53da-4ac9-9bed-e97cc7d5e5cb');\n",
              "var x = new MutationObserver(function (mutations, observer) {{\n",
              "        var display = window.getComputedStyle(gd).display;\n",
              "        if (!display || display === 'none') {{\n",
              "            console.log([gd, 'removed!']);\n",
              "            Plotly.purge(gd);\n",
              "            observer.disconnect();\n",
              "        }}\n",
              "}});\n",
              "\n",
              "// Listen for the removal of the full notebook cells\n",
              "var notebookContainer = gd.closest('#notebook-container');\n",
              "if (notebookContainer) {{\n",
              "    x.observe(notebookContainer, {childList: true});\n",
              "}}\n",
              "\n",
              "// Listen for the clearing of the current output cell\n",
              "var outputEl = gd.closest('.output');\n",
              "if (outputEl) {{\n",
              "    x.observe(outputEl, {childList: true});\n",
              "}}\n",
              "\n",
              "                        })                };                            </script>        </div>\n",
              "</body>\n",
              "</html>"
            ]
          },
          "metadata": {}
        }
      ]
    },
    {
      "cell_type": "code",
      "source": [
        "## The first step toward creating a ClientApp is to implement a subclasses of flwr.client.Client or flwr.client.NumPyClient.\n",
        "## We use NumPyClient in this tutorial because it is easier to implement and requires us to write less boilerplate.\n",
        "from sklearn.metrics import roc_curve, auc\n",
        "class FlowerClient_Test(NumPyClient):\n",
        "    def __init__(self, net, partition_id,trainloader, valloader, benign_testloader, attack_testloader):\n",
        "        self.net = net\n",
        "        self.trainloader = trainloader\n",
        "        self.valloader = valloader\n",
        "        self.benign_testloader = benign_testloader\n",
        "        self.attack_testloader = attack_testloader\n",
        "        self.partition_id = partition_id\n",
        "\n",
        "    def get_parameters(self, config):\n",
        "        return get_parameters(self.net)\n",
        "    ## Federated Training\n",
        "    def fit(self, parameters, config):\n",
        "      print(f\"[Client {self.partition_id}] fit, config: {config}\")\n",
        "      set_parameters(self.net, parameters)\n",
        "      ## disable training for the test simulation\n",
        "      loss,loss_history, valid_loss_array = validation(self.net, self.trainloader)\n",
        "      return get_parameters(self.net), len(self.trainloader), {'validation_loss':loss}\n",
        "    ## Federated Evaluation (client-side evaluation)\n",
        "    def evaluate(self, parameters, config):\n",
        "      print(f\"[Client {self.partition_id}] evaluate, config: {config}\")\n",
        "      set_parameters(self.net, parameters)\n",
        "      client_thresholds = history_train.metrics_distributed['client_thresholds'][-1][-1]\n",
        "      ## Use individual thresholds\n",
        "      THRESHOLD = client_thresholds[self.partition_id]\n",
        "      benign_loss, benign_MSE_history,fpr_thres, benign_loss_array = test(self.net, self.valloader,threshold = THRESHOLD)\n",
        "      attack_loss, attack_MSE_history,tpr_thres, attack_loss_array = test(self.net, self.attack_testloader,threshold = THRESHOLD)\n",
        "      reconstruction_errors = benign_MSE_history+attack_MSE_history  # Combine errors\n",
        "      labels = [0]*len(benign_MSE_history) + [1]*len(attack_MSE_history)  # 0 for normal, 1 for anomaly\n",
        "      fpr, tpr, thresholds = roc_curve(labels, reconstruction_errors)\n",
        "      roc_auc = auc(fpr, tpr)\n",
        "      plt.figure(figsize=(10, 6))\n",
        "      plt.boxplot([benign_MSE_history, attack_MSE_history], vert=False, patch_artist=True, showmeans=True, labels=[\"Benign\", \"Attack\"])\n",
        "      plt.axvline(\n",
        "    THRESHOLD,\n",
        "    color='red',  # Vertical line color\n",
        "    linestyle='--',  # Dashed line style\n",
        "    linewidth=1.5,  # Line width\n",
        "    label=f'Value = {THRESHOLD}'  # Legend label\n",
        ")\n",
        "      plt.title(f'distribution of reconstruction loss of Client {self.partition_id}')\n",
        "      plt.savefig(f'boxplot_{self.partition_id}')\n",
        "      plt.figure(figsize=(10,6))\n",
        "      plt.scatter(range(len(benign_MSE_history)),benign_MSE_history,alpha = 0.6,label = 'benigh')\n",
        "      plt.scatter(range(len(attack_MSE_history)),attack_MSE_history,alpha = 0.6,label = 'attack')\n",
        "      plt.axhline(\n",
        "    THRESHOLD,\n",
        "    color='red',  # Vertical line color\n",
        "    linestyle='--',  # Dashed line style\n",
        "    linewidth=1.5,  # Line width\n",
        "    label=f'Value = {THRESHOLD}'  # Legend label\n",
        ")\n",
        "      #plt.yscale('symlog', linthresh=0.5)\n",
        "      plt.ylim(0,2)\n",
        "      plt.legend()\n",
        "      plt.savefig(f'scatter_{self.partition_id}')\n",
        "\n",
        "      total_loss = np.vstack((benign_loss_array, attack_loss_array))\n",
        "      print(total_loss.shape)\n",
        "      pca = PCA(n_components=2)  # Only keep the top 2 components\n",
        "      pca_result = pca.fit_transform(total_loss)\n",
        "      pc1 = pca_result[:, 0]\n",
        "      pc2 = pca_result[:, 1]\n",
        "      plt.figure(figsize=(10, 6))\n",
        "      plt.scatter(pc1[:len(benign_MSE_history)], pc2[:len(benign_MSE_history)], alpha=0.5, label=\"benign\")\n",
        "      plt.scatter(pc1[len(benign_MSE_history):], pc2[len(benign_MSE_history):], alpha=0.5, label=\"attack\")\n",
        "      plt.xlim(-10,1000)\n",
        "      plt.ylim(-10,1000)\n",
        "      plt.xlabel(\"Principal Component 1\")\n",
        "      plt.ylabel(\"Principal Component 2\")\n",
        "      plt.title(\"PCA Visualization of the Top 2 Components\")\n",
        "      plt.legend()\n",
        "      plt.grid(True)\n",
        "      plt.savefig(f'PCA_{self.partition_id}')\n",
        "      '''\n",
        "      # find outliers with OCSVM\n",
        "      loaded_svm = joblib.load(f'svm_model_{self.partition_id}).pkl')\n",
        "      benign_MSE_history,attack_MSE_history = np.array(benign_MSE_history).reshape(-1,1),np.array(attack_MSE_history).reshape(-1,1)\n",
        "      benign_score = loaded_svm.decision_function(benign_MSE_history)\n",
        "      attack_score = loaded_svm.decision_function(attack_MSE_history)\n",
        "      print(f'benign_score:{np.median(benign_score)}')\n",
        "      print(np.mean(benign_score))\n",
        "      fpr_ocsvm = np.sum((loaded_svm.predict(benign_MSE_history) < 0))/benign_MSE_history.shape[0]\n",
        "      tpr_ocsvm = np.sum((loaded_svm.predict(attack_MSE_history) < 0))/attack_MSE_history.shape[0]\n",
        "      '''\n",
        "      return float(benign_loss), len(self.valloader), {\"client_id\":self.partition_id,\"benign_MSE\": benign_loss,\"attack_MSE\":attack_loss,'fpr':fpr_thres,'tpr':tpr_thres,'roc_auc':roc_auc}"
      ],
      "metadata": {
        "id": "3_0xwNzBtK4D"
      },
      "execution_count": null,
      "outputs": []
    },
    {
      "cell_type": "code",
      "source": [
        "def client_fn_test(context: Context) -> Client:\n",
        "    \"\"\"Create a Flower client representing a single organization.\"\"\"\n",
        "\n",
        "    # Load model\n",
        "    #net = Autoencoder(115,58,29).to(DEVICE)\n",
        "    net = Autoencoder(78,39,19)\n",
        "    #net = Autoencoder_4_layers(layer_sizes)\n",
        "    #net = Autoencoder_2_layers(35,15)\n",
        "\n",
        "    # Load data (CIFAR-10)\n",
        "    # Note: each client gets a different trainloader/valloader, so each client\n",
        "    # will train and evaluate on their own unique data partition\n",
        "    # Read the node_config to fetch data partition associated to this node\n",
        "    # The value of partition-id is retrieved from the node_config dictionary in the Context object, which holds the information that persists throughout each training round.\n",
        "    partition_id = int(context.node_config[\"partition-id\"])\n",
        "    trainloader, valloader, benign_testloader,attack_testloader = load_datasets(dataframe, 'Autoencoder',partition_id=partition_id,label_col_num = 3)\n",
        "\n",
        "    # Create a single Flower client representing a single organization\n",
        "    # FlowerClient is a subclass of NumPyClient, so we need to call .to_client()\n",
        "    # to convert it to a subclass of `flwr.client.Client`\n",
        "    return FlowerClient_Test(net, partition_id,trainloader, valloader,benign_testloader,attack_testloader).to_client()\n",
        "\n",
        "\n",
        "# Create the ClientApp\n",
        "client = ClientApp(client_fn=client_fn_test)"
      ],
      "metadata": {
        "colab": {
          "base_uri": "https://localhost:8080/"
        },
        "id": "To9MEodWu9bp",
        "outputId": "f1423f3d-9fc5-46da-ed62-eba9ca972b43"
      },
      "execution_count": null,
      "outputs": [
        {
          "output_type": "stream",
          "name": "stderr",
          "text": [
            "/usr/local/lib/python3.10/dist-packages/ipykernel/ipkernel.py:283: DeprecationWarning:\n",
            "\n",
            "`should_run_async` will not call `transform_cell` automatically in the future. Please pass the result to `transformed_cell` argument and any exception that happen during thetransform in `preprocessing_exc_tuple` in IPython 7.17 and above.\n",
            "\n"
          ]
        }
      ]
    },
    {
      "cell_type": "code",
      "source": [
        "## Define test metrics\n",
        "def aggregate_metrics(metrics: List[Tuple[int, Metrics]]) -> Metrics:\n",
        "  fpr_list = [m['fpr'] for num_examples,m in metrics]\n",
        "  tpr_list = [m['tpr'] for num_examples,m in metrics]\n",
        "  roc_auc_list = [m['roc_auc'] for _,m in metrics]\n",
        "  benign_loss_list = [m['benign_MSE'] for _,m in metrics]\n",
        "  attack_loss_list = [m['attack_MSE'] for _,m in metrics]\n",
        "  client_id = [m['client_id'] for _,m in metrics]\n",
        "  for id, fpr, tpr, roc_auc in zip(client_id,fpr_list,tpr_list,roc_auc_list):\n",
        "    print(f'Client {id}: fpr {fpr} tpr {tpr} roc_auc {roc_auc}')\n",
        "  return {'mean_roc_auc':np.mean(roc_auc_list),\n",
        "          'std_roc_auc':np.std(roc_auc_list),\n",
        "          'mean_fpr':np.mean(fpr_list),\n",
        "          'std_fpr':np.std(fpr_list),\n",
        "          'mean_tpr':np.mean(tpr_list),\n",
        "          'std_tpr':np.std(tpr_list),\n",
        "          'mean_benign_loss':np.mean(benign_loss_list),\n",
        "          'std_benign_loss':np.std(benign_loss_list),\n",
        "          'mean_attack_loss':np.mean(attack_loss_list),\n",
        "          'std_attack_loss':np.std(attack_loss_list)}\n"
      ],
      "metadata": {
        "id": "eNIY2s-Tutcs"
      },
      "execution_count": null,
      "outputs": []
    },
    {
      "cell_type": "code",
      "source": [
        "latest_round_file = '/content/model_round_50.pth'\n",
        "state_dict = torch.load(latest_round_file)\n",
        "global_model_trained.load_state_dict(state_dict)\n",
        "state_dict_ndarrays = [v.cpu().numpy() for v in global_model_trained.state_dict().values()]\n",
        "parameters = flwr.common.ndarrays_to_parameters(state_dict_ndarrays)"
      ],
      "metadata": {
        "colab": {
          "base_uri": "https://localhost:8080/"
        },
        "id": "Pm0Ky1Iwu0dW",
        "outputId": "2c59b8b6-3a11-4f72-9e2c-e96050416dd3"
      },
      "execution_count": null,
      "outputs": [
        {
          "output_type": "stream",
          "name": "stderr",
          "text": [
            "<ipython-input-152-0bf6ef33672c>:2: FutureWarning:\n",
            "\n",
            "You are using `torch.load` with `weights_only=False` (the current default value), which uses the default pickle module implicitly. It is possible to construct malicious pickle data which will execute arbitrary code during unpickling (See https://github.com/pytorch/pytorch/blob/main/SECURITY.md#untrusted-models for more details). In a future release, the default value for `weights_only` will be flipped to `True`. This limits the functions that could be executed during unpickling. Arbitrary objects will no longer be allowed to be loaded via this mode unless they are explicitly allowlisted by the user via `torch.serialization.add_safe_globals`. We recommend you start setting `weights_only=True` for any use case where you don't have full control of the loaded file. Please open an issue on GitHub for any issues related to this experimental feature.\n",
            "\n"
          ]
        }
      ]
    },
    {
      "cell_type": "code",
      "source": [
        "\n",
        "strategy = FedAvg(\n",
        "        fraction_fit=1,\n",
        "        fraction_evaluate=1,\n",
        "        min_fit_clients=7,\n",
        "        min_evaluate_clients=7,\n",
        "        min_available_clients=7,\n",
        "        evaluate_metrics_aggregation_fn= aggregate_metrics,  # <-- pass the metric aggregation function, return the max loss in each validation round\n",
        "        fit_metrics_aggregation_fn=max_loss,\n",
        "        initial_parameters=parameters,\n",
        "    )\n",
        "history_test = flwr.simulation.start_simulation(\n",
        "        client_fn=client_fn_test,  # a function that spawns a particular client\n",
        "        num_clients=NUM_CLIENTS,  # total number of clients\n",
        "        config=flwr.server.ServerConfig(\n",
        "            num_rounds=1\n",
        "        ),  # minimal config for the server loop telling the number of rounds in FL\n",
        "        strategy=strategy,  # our strategy of choice\n",
        "        client_resources={\n",
        "            \"num_cpus\": 1,\n",
        "            \"num_gpus\": 0.0,\n",
        "        },  # (optional) controls the degree of parallelism of your simulation.\n",
        "        # Lower resources per client allow for more clients to run concurrently\n",
        "        # (but need to be set taking into account the compute/memory footprint of your run)\n",
        "        # `num_cpus` is an absolute number (integer) indicating the number of threads a client should be allocated\n",
        "        # `num_gpus` is a ratio indicating the portion of gpu memory that a client needs.\n",
        "    )"
      ],
      "metadata": {
        "colab": {
          "base_uri": "https://localhost:8080/"
        },
        "id": "X2-FnirOtTcV",
        "outputId": "2b6fcc51-4944-405b-a51c-6394cfc01a8c"
      },
      "execution_count": null,
      "outputs": [
        {
          "output_type": "stream",
          "name": "stderr",
          "text": [
            "\u001b[93mWARNING \u001b[0m:   DEPRECATED FEATURE: flwr.simulation.start_simulation() is deprecated.\n",
            "\tInstead, use the `flwr run` CLI command to start a local simulation in your Flower app, as shown for example below:\n",
            "\n",
            "\t\t$ flwr new  # Create a new Flower app from a template\n",
            "\n",
            "\t\t$ flwr run  # Run the Flower app in Simulation Mode\n",
            "\n",
            "\tUsing `start_simulation()` is deprecated.\n",
            "\n",
            "            This is a deprecated feature. It will be removed\n",
            "            entirely in future versions of Flower.\n",
            "        \n",
            "\u001b[92mINFO \u001b[0m:      Starting Flower simulation, config: num_rounds=1, no round_timeout\n",
            "2024-12-03 13:56:04,859\tINFO worker.py:1752 -- Started a local Ray instance.\n",
            "\u001b[92mINFO \u001b[0m:      Flower VCE: Ray initialized with resources: {'CPU': 2.0, 'node:__internal_head__': 1.0, 'node:172.28.0.12': 1.0, 'memory': 7957512192.0, 'object_store_memory': 3978756096.0}\n",
            "\u001b[92mINFO \u001b[0m:      Optimize your simulation with Flower VCE: https://flower.ai/docs/framework/how-to-run-simulations.html\n",
            "\u001b[92mINFO \u001b[0m:      Flower VCE: Resources for each Virtual Client: {'num_cpus': 1, 'num_gpus': 0.0}\n",
            "\u001b[92mINFO \u001b[0m:      Flower VCE: Creating VirtualClientEngineActorPool with 2 actors\n",
            "\u001b[92mINFO \u001b[0m:      [INIT]\n",
            "\u001b[92mINFO \u001b[0m:      Using initial global parameters provided by strategy\n",
            "\u001b[92mINFO \u001b[0m:      Starting evaluation of initial global parameters\n",
            "\u001b[92mINFO \u001b[0m:      Evaluation returned no results (`None`)\n",
            "\u001b[92mINFO \u001b[0m:      \n",
            "\u001b[92mINFO \u001b[0m:      [ROUND 1]\n",
            "\u001b[92mINFO \u001b[0m:      configure_fit: strategy sampled 7 clients (out of 7)\n",
            "\u001b[36m(pid=116897)\u001b[0m 2024-12-03 13:56:09.829344: E external/local_xla/xla/stream_executor/cuda/cuda_fft.cc:485] Unable to register cuFFT factory: Attempting to register factory for plugin cuFFT when one has already been registered\n",
            "\u001b[36m(pid=116897)\u001b[0m 2024-12-03 13:56:09.870291: E external/local_xla/xla/stream_executor/cuda/cuda_dnn.cc:8454] Unable to register cuDNN factory: Attempting to register factory for plugin cuDNN when one has already been registered\n",
            "\u001b[36m(pid=116897)\u001b[0m 2024-12-03 13:56:09.882450: E external/local_xla/xla/stream_executor/cuda/cuda_blas.cc:1452] Unable to register cuBLAS factory: Attempting to register factory for plugin cuBLAS when one has already been registered\n",
            "\u001b[36m(pid=116896)\u001b[0m 2024-12-03 13:56:12.384125: W tensorflow/compiler/tf2tensorrt/utils/py_utils.cc:38] TF-TRT Warning: Could not find TensorRT\n"
          ]
        },
        {
          "output_type": "stream",
          "name": "stdout",
          "text": [
            "\u001b[36m(ClientAppActor pid=116897)\u001b[0m 2000\n",
            "\u001b[36m(ClientAppActor pid=116897)\u001b[0m [Client 5] fit, config: {}\n"
          ]
        },
        {
          "output_type": "stream",
          "name": "stderr",
          "text": [
            "\u001b[92mINFO \u001b[0m:      aggregate_fit: received 7 results and 0 failures\n",
            "\u001b[92mINFO \u001b[0m:      configure_evaluate: strategy sampled 7 clients (out of 7)\n"
          ]
        },
        {
          "output_type": "stream",
          "name": "stdout",
          "text": [
            "[0.4218572697605799, 0.4221079274565874, 0.4248231660871041, 0.42678354700950727, 0.4247158997262234, 0.4160477427905326, 0.427524183976839]\n",
            "\u001b[36m(ClientAppActor pid=116896)\u001b[0m [Client 3] evaluate, config: {}\n",
            "\u001b[36m(ClientAppActor pid=116896)\u001b[0m exceed threshold proportion:0.005128205128205128\n",
            "\u001b[36m(ClientAppActor pid=116896)\u001b[0m exceed threshold proportion:0.3055555555555556\n"
          ]
        },
        {
          "output_type": "stream",
          "name": "stderr",
          "text": [
            "\u001b[36m(ClientAppActor pid=116896)\u001b[0m /usr/local/lib/python3.10/dist-packages/jupyter_client/connect.py:28: DeprecationWarning: Jupyter is migrating its paths to use standard platformdirs\n",
            "\u001b[36m(ClientAppActor pid=116896)\u001b[0m given by the platformdirs library.  To remove this warning and\n",
            "\u001b[36m(ClientAppActor pid=116896)\u001b[0m see the appropriate new directories, set the environment variable\n",
            "\u001b[36m(ClientAppActor pid=116896)\u001b[0m `JUPYTER_PLATFORM_DIRS=1` and then run `jupyter --paths`.\n",
            "\u001b[36m(ClientAppActor pid=116896)\u001b[0m The use of platformdirs will be the default in `jupyter_core` v6\n",
            "\u001b[36m(ClientAppActor pid=116896)\u001b[0m   from jupyter_core.paths import jupyter_data_dir, jupyter_runtime_dir, secure_write\n",
            "\u001b[36m(pid=116896)\u001b[0m 2024-12-03 13:56:09.830394: E external/local_xla/xla/stream_executor/cuda/cuda_fft.cc:485] Unable to register cuFFT factory: Attempting to register factory for plugin cuFFT when one has already been registered\n",
            "\u001b[36m(pid=116896)\u001b[0m 2024-12-03 13:56:09.870818: E external/local_xla/xla/stream_executor/cuda/cuda_dnn.cc:8454] Unable to register cuDNN factory: Attempting to register factory for plugin cuDNN when one has already been registered\n",
            "\u001b[36m(pid=116896)\u001b[0m 2024-12-03 13:56:09.882671: E external/local_xla/xla/stream_executor/cuda/cuda_blas.cc:1452] Unable to register cuBLAS factory: Attempting to register factory for plugin cuBLAS when one has already been registered\n",
            "\u001b[36m(pid=116897)\u001b[0m 2024-12-03 13:56:12.467723: W tensorflow/compiler/tf2tensorrt/utils/py_utils.cc:38] TF-TRT Warning: Could not find TensorRT\n"
          ]
        },
        {
          "output_type": "stream",
          "name": "stdout",
          "text": [
            "\u001b[36m(ClientAppActor pid=116897)\u001b[0m (4294, 78)\u001b[32m [repeated 30x across cluster]\u001b[0m\n",
            "\u001b[36m(ClientAppActor pid=116896)\u001b[0m [Client 0] fit, config: {}\u001b[32m [repeated 6x across cluster]\u001b[0m\n"
          ]
        },
        {
          "output_type": "stream",
          "name": "stderr",
          "text": [
            "\u001b[92mINFO \u001b[0m:      aggregate_evaluate: received 7 results and 0 failures\n",
            "\u001b[92mINFO \u001b[0m:      \n",
            "\u001b[92mINFO \u001b[0m:      [SUMMARY]\n",
            "\u001b[92mINFO \u001b[0m:      Run finished 1 round(s) in 22.58s\n",
            "\u001b[92mINFO \u001b[0m:      \tHistory (loss, distributed):\n",
            "\u001b[92mINFO \u001b[0m:      \t\tround 1: 0.4256083827469049\n",
            "\u001b[92mINFO \u001b[0m:      \tHistory (metrics, distributed, fit):\n",
            "\u001b[92mINFO \u001b[0m:      \t{'client_max_loss': [(1, 6)], 'max_loss': [(1, 0.427524183976839)]}\n",
            "\u001b[92mINFO \u001b[0m:      \tHistory (metrics, distributed, evaluate):\n",
            "\u001b[92mINFO \u001b[0m:      \t{'mean_attack_loss': [(1, 0.7776267479790813)],\n",
            "\u001b[92mINFO \u001b[0m:      \t 'mean_benign_loss': [(1, 0.4255970162339646)],\n",
            "\u001b[92mINFO \u001b[0m:      \t 'mean_fpr': [(1, 0.009472608426975202)],\n",
            "\u001b[92mINFO \u001b[0m:      \t 'mean_roc_auc': [(1, 0.6283242458191898)],\n",
            "\u001b[92mINFO \u001b[0m:      \t 'mean_tpr': [(1, 0.1902382899990262)],\n",
            "\u001b[92mINFO \u001b[0m:      \t 'std_attack_loss': [(1, 0.788293542002387)],\n",
            "\u001b[92mINFO \u001b[0m:      \t 'std_benign_loss': [(1, 0.004795421416707882)],\n",
            "\u001b[92mINFO \u001b[0m:      \t 'std_fpr': [(1, 0.01214164777937456)],\n",
            "\u001b[92mINFO \u001b[0m:      \t 'std_roc_auc': [(1, 0.21383813543267713)],\n",
            "\u001b[92mINFO \u001b[0m:      \t 'std_tpr': [(1, 0.27610158225175657)]}\n",
            "\u001b[92mINFO \u001b[0m:      \n"
          ]
        },
        {
          "output_type": "stream",
          "name": "stdout",
          "text": [
            "Client 6: fpr 0.009417808219178082 tpr 0.2035 roc_auc 0.5960657106164384\n",
            "Client 4: fpr 0.0012836970474967907 tpr 0.0 roc_auc 0.33450267436884895\n",
            "Client 3: fpr 0.005128205128205128 tpr 0.3055555555555556 roc_auc 0.5091999050332384\n",
            "Client 0: fpr 0.03849443969204448 tpr 0.8075 roc_auc 0.9775059880239523\n",
            "Client 1: fpr 0.003421727972626176 tpr 0.005112474437627812 roc_auc 0.41333841956752576\n",
            "Client 2: fpr 0.0017101325352714834 tpr 0.01 roc_auc 0.7520877511757161\n",
            "Client 5: fpr 0.006852248394004282 tpr 0.0 roc_auc 0.8155692719486082\n"
          ]
        }
      ]
    },
    {
      "cell_type": "code",
      "source": [
        "import torch\n",
        "import torch.nn as nn\n",
        "from torch.utils.data import DataLoader, Dataset\n",
        "import numpy as np\n",
        "\n",
        "# Simulated Dataset for Anomaly Detection\n",
        "class TimeSeriesDataset(Dataset):\n",
        "    def __init__(self, data, sequence_length):\n",
        "        self.data = data\n",
        "        self.sequence_length = sequence_length\n",
        "\n",
        "    def __len__(self):\n",
        "        return len(self.data) - self.sequence_length\n",
        "\n",
        "    def __getitem__(self, idx):\n",
        "        x = self.data[idx:idx + self.sequence_length]\n",
        "        y = self.data[idx + 1: idx + self.sequence_length + 1]\n",
        "        return torch.tensor(x, dtype=torch.float32), torch.tensor(y, dtype=torch.float32)"
      ],
      "metadata": {
        "id": "Qdy7bFqqdcUq"
      },
      "execution_count": null,
      "outputs": []
    },
    {
      "cell_type": "code",
      "source": [
        "class TransformerAnomalyDetector(nn.Module):\n",
        "    def __init__(self, input_dim, model_dim, nhead, num_layers, sequence_length):\n",
        "        super(TransformerAnomalyDetector, self).__init__()\n",
        "        self.embedding = nn.Linear(input_dim, model_dim)\n",
        "        self.positional_encoding = nn.Parameter(torch.zeros(1, sequence_length, model_dim))\n",
        "        self.transformer = nn.Transformer(\n",
        "            d_model=model_dim, nhead=nhead, num_encoder_layers=num_layers, num_decoder_layers=num_layers\n",
        "        )\n",
        "        self.output_layer = nn.Linear(model_dim, input_dim)\n",
        "\n",
        "    def forward(self, x):\n",
        "        # Add positional encoding\n",
        "        x = self.embedding(x) + self.positional_encoding\n",
        "        x = self.transformer(x, x)  # Transformer encoder-decoder\n",
        "        x = self.output_layer(x)\n",
        "        return x"
      ],
      "metadata": {
        "id": "DiE7qthFoimQ"
      },
      "execution_count": null,
      "outputs": []
    },
    {
      "cell_type": "code",
      "source": [
        "def train_model(model, dataloader, criterion, optimizer, epochs):\n",
        "    model.train()\n",
        "    for epoch in range(epochs):\n",
        "        total_loss = 0\n",
        "        for x, y in dataloader:\n",
        "            x, y = x.unsqueeze(-1), y.unsqueeze(-1)  # Add input_dim as 1\n",
        "            optimizer.zero_grad()\n",
        "            output = model(x)\n",
        "            loss = criterion(output, y)\n",
        "            loss.backward()\n",
        "            optimizer.step()\n",
        "            total_loss += loss.item()\n",
        "        print(f\"Epoch {epoch + 1}/{epochs}, Loss: {total_loss:.4f}\")"
      ],
      "metadata": {
        "id": "bIcbNLEbo3Ua"
      },
      "execution_count": null,
      "outputs": []
    },
    {
      "cell_type": "code",
      "source": [
        "def detect_anomalies(model, dataloader, threshold):\n",
        "    model.eval()\n",
        "    anomalies = []\n",
        "    with torch.no_grad():\n",
        "        for x, y in dataloader:\n",
        "            x, y = x.unsqueeze(-1), y.unsqueeze(-1)\n",
        "            output = model(x)\n",
        "            reconstruction_error = torch.mean((output - y) ** 2, dim=1).numpy()\n",
        "            anomalies.append(reconstruction_error > threshold)\n",
        "    return np.concatenate(anomalies)"
      ],
      "metadata": {
        "id": "i6j6xtdnomKo"
      },
      "execution_count": null,
      "outputs": []
    },
    {
      "cell_type": "code",
      "source": [],
      "metadata": {
        "id": "czZh3Wyzo2En"
      },
      "execution_count": null,
      "outputs": []
    }
  ]
}